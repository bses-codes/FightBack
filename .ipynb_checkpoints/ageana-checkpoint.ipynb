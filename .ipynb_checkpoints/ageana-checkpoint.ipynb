{
 "cells": [
  {
   "cell_type": "code",
   "execution_count": 1,
   "metadata": {},
   "outputs": [],
   "source": [
    "import pandas as pd\n",
    "import plotly.express as px\n",
    "import plotly.graph_objects as go"
   ]
  },
  {
   "cell_type": "code",
   "execution_count": 2,
   "metadata": {},
   "outputs": [
    {
     "data": {
      "text/html": [
       "<div>\n",
       "<style scoped>\n",
       "    .dataframe tbody tr th:only-of-type {\n",
       "        vertical-align: middle;\n",
       "    }\n",
       "\n",
       "    .dataframe tbody tr th {\n",
       "        vertical-align: top;\n",
       "    }\n",
       "\n",
       "    .dataframe thead th {\n",
       "        text-align: right;\n",
       "    }\n",
       "</style>\n",
       "<table border=\"1\" class=\"dataframe\">\n",
       "  <thead>\n",
       "    <tr style=\"text-align: right;\">\n",
       "      <th></th>\n",
       "      <th>District</th>\n",
       "      <th>Age</th>\n",
       "    </tr>\n",
       "  </thead>\n",
       "  <tbody>\n",
       "    <tr>\n",
       "      <th>0</th>\n",
       "      <td>Kathmandu</td>\n",
       "      <td>7.0</td>\n",
       "    </tr>\n",
       "    <tr>\n",
       "      <th>1</th>\n",
       "      <td>Sindhuli</td>\n",
       "      <td>12.0</td>\n",
       "    </tr>\n",
       "    <tr>\n",
       "      <th>2</th>\n",
       "      <td>Dolakha</td>\n",
       "      <td>7.0</td>\n",
       "    </tr>\n",
       "    <tr>\n",
       "      <th>3</th>\n",
       "      <td>Kathmandu</td>\n",
       "      <td>15.0</td>\n",
       "    </tr>\n",
       "    <tr>\n",
       "      <th>4</th>\n",
       "      <td>Kathmandu</td>\n",
       "      <td>17.0</td>\n",
       "    </tr>\n",
       "    <tr>\n",
       "      <th>...</th>\n",
       "      <td>...</td>\n",
       "      <td>...</td>\n",
       "    </tr>\n",
       "    <tr>\n",
       "      <th>2493</th>\n",
       "      <td>Surkhet</td>\n",
       "      <td>16.0</td>\n",
       "    </tr>\n",
       "    <tr>\n",
       "      <th>2496</th>\n",
       "      <td>Sindhuli</td>\n",
       "      <td>15.0</td>\n",
       "    </tr>\n",
       "    <tr>\n",
       "      <th>2497</th>\n",
       "      <td>Kanchanpur</td>\n",
       "      <td>12.0</td>\n",
       "    </tr>\n",
       "    <tr>\n",
       "      <th>2498</th>\n",
       "      <td>Pyuthan</td>\n",
       "      <td>31.0</td>\n",
       "    </tr>\n",
       "    <tr>\n",
       "      <th>2500</th>\n",
       "      <td>Jajarkot</td>\n",
       "      <td>13.0</td>\n",
       "    </tr>\n",
       "  </tbody>\n",
       "</table>\n",
       "<p>2291 rows × 2 columns</p>\n",
       "</div>"
      ],
      "text/plain": [
       "        District   Age\n",
       "0      Kathmandu   7.0\n",
       "1       Sindhuli  12.0\n",
       "2        Dolakha   7.0\n",
       "3      Kathmandu  15.0\n",
       "4      Kathmandu  17.0\n",
       "...          ...   ...\n",
       "2493     Surkhet  16.0\n",
       "2496    Sindhuli  15.0\n",
       "2497  Kanchanpur  12.0\n",
       "2498     Pyuthan  31.0\n",
       "2500    Jajarkot  13.0\n",
       "\n",
       "[2291 rows x 2 columns]"
      ]
     },
     "execution_count": 2,
     "metadata": {},
     "output_type": "execute_result"
    }
   ],
   "source": [
    "v_age = pd.read_csv('V_age.csv')\n",
    "v_age.drop('V',axis = 1, inplace=True)\n",
    "v_age.dropna(inplace=True)\n",
    "v_age"
   ]
  },
  {
   "cell_type": "code",
   "execution_count": 3,
   "metadata": {},
   "outputs": [
    {
     "data": {
      "text/html": [
       "<div>\n",
       "<style scoped>\n",
       "    .dataframe tbody tr th:only-of-type {\n",
       "        vertical-align: middle;\n",
       "    }\n",
       "\n",
       "    .dataframe tbody tr th {\n",
       "        vertical-align: top;\n",
       "    }\n",
       "\n",
       "    .dataframe thead th {\n",
       "        text-align: right;\n",
       "    }\n",
       "</style>\n",
       "<table border=\"1\" class=\"dataframe\">\n",
       "  <thead>\n",
       "    <tr style=\"text-align: right;\">\n",
       "      <th></th>\n",
       "      <th>District</th>\n",
       "      <th>Age</th>\n",
       "      <th>norm_1</th>\n",
       "      <th>norm_2</th>\n",
       "    </tr>\n",
       "  </thead>\n",
       "  <tbody>\n",
       "    <tr>\n",
       "      <th>0</th>\n",
       "      <td>Kathmandu</td>\n",
       "      <td>7</td>\n",
       "      <td>0</td>\n",
       "      <td>9</td>\n",
       "    </tr>\n",
       "    <tr>\n",
       "      <th>1</th>\n",
       "      <td>Sindhuli</td>\n",
       "      <td>12</td>\n",
       "      <td>10</td>\n",
       "      <td>19</td>\n",
       "    </tr>\n",
       "    <tr>\n",
       "      <th>2</th>\n",
       "      <td>Dolakha</td>\n",
       "      <td>7</td>\n",
       "      <td>0</td>\n",
       "      <td>9</td>\n",
       "    </tr>\n",
       "    <tr>\n",
       "      <th>3</th>\n",
       "      <td>Kathmandu</td>\n",
       "      <td>15</td>\n",
       "      <td>10</td>\n",
       "      <td>19</td>\n",
       "    </tr>\n",
       "    <tr>\n",
       "      <th>4</th>\n",
       "      <td>Kathmandu</td>\n",
       "      <td>17</td>\n",
       "      <td>10</td>\n",
       "      <td>19</td>\n",
       "    </tr>\n",
       "    <tr>\n",
       "      <th>...</th>\n",
       "      <td>...</td>\n",
       "      <td>...</td>\n",
       "      <td>...</td>\n",
       "      <td>...</td>\n",
       "    </tr>\n",
       "    <tr>\n",
       "      <th>2493</th>\n",
       "      <td>Surkhet</td>\n",
       "      <td>16</td>\n",
       "      <td>10</td>\n",
       "      <td>19</td>\n",
       "    </tr>\n",
       "    <tr>\n",
       "      <th>2496</th>\n",
       "      <td>Sindhuli</td>\n",
       "      <td>15</td>\n",
       "      <td>10</td>\n",
       "      <td>19</td>\n",
       "    </tr>\n",
       "    <tr>\n",
       "      <th>2497</th>\n",
       "      <td>Kanchanpur</td>\n",
       "      <td>12</td>\n",
       "      <td>10</td>\n",
       "      <td>19</td>\n",
       "    </tr>\n",
       "    <tr>\n",
       "      <th>2498</th>\n",
       "      <td>Pyuthan</td>\n",
       "      <td>31</td>\n",
       "      <td>30</td>\n",
       "      <td>39</td>\n",
       "    </tr>\n",
       "    <tr>\n",
       "      <th>2500</th>\n",
       "      <td>Jajarkot</td>\n",
       "      <td>13</td>\n",
       "      <td>10</td>\n",
       "      <td>19</td>\n",
       "    </tr>\n",
       "  </tbody>\n",
       "</table>\n",
       "<p>2291 rows × 4 columns</p>\n",
       "</div>"
      ],
      "text/plain": [
       "        District  Age norm_1 norm_2\n",
       "0      Kathmandu    7      0      9\n",
       "1       Sindhuli   12     10     19\n",
       "2        Dolakha    7      0      9\n",
       "3      Kathmandu   15     10     19\n",
       "4      Kathmandu   17     10     19\n",
       "...          ...  ...    ...    ...\n",
       "2493     Surkhet   16     10     19\n",
       "2496    Sindhuli   15     10     19\n",
       "2497  Kanchanpur   12     10     19\n",
       "2498     Pyuthan   31     30     39\n",
       "2500    Jajarkot   13     10     19\n",
       "\n",
       "[2291 rows x 4 columns]"
      ]
     },
     "execution_count": 3,
     "metadata": {},
     "output_type": "execute_result"
    }
   ],
   "source": [
    "v_age['Age'] = v_age['Age'].astype('int')\n",
    "v_age['norm_1'] = (v_age['Age']//10)*10 \n",
    "v_age['norm_1'] = v_age['norm_1'].astype('int')\n",
    "v_age['norm_2'] = v_age['norm_1'] + 9\n",
    "v_age['norm_1'] = v_age['norm_1'].astype('str')\n",
    "v_age['norm_2'] = v_age['norm_2'].astype('str')\n",
    "\n",
    "v_age "
   ]
  },
  {
   "cell_type": "code",
   "execution_count": 4,
   "metadata": {},
   "outputs": [
    {
     "ename": "KeyError",
     "evalue": "'norm_age'",
     "output_type": "error",
     "traceback": [
      "\u001b[1;31m---------------------------------------------------------------------------\u001b[0m",
      "\u001b[1;31mKeyError\u001b[0m                                  Traceback (most recent call last)",
      "File \u001b[1;32m~\\AppData\\Local\\Programs\\Python\\Python311\\Lib\\site-packages\\pandas\\core\\indexes\\base.py:3653\u001b[0m, in \u001b[0;36mIndex.get_loc\u001b[1;34m(self, key)\u001b[0m\n\u001b[0;32m   3652\u001b[0m \u001b[38;5;28;01mtry\u001b[39;00m:\n\u001b[1;32m-> 3653\u001b[0m     \u001b[38;5;28;01mreturn\u001b[39;00m \u001b[38;5;28;43mself\u001b[39;49m\u001b[38;5;241;43m.\u001b[39;49m\u001b[43m_engine\u001b[49m\u001b[38;5;241;43m.\u001b[39;49m\u001b[43mget_loc\u001b[49m\u001b[43m(\u001b[49m\u001b[43mcasted_key\u001b[49m\u001b[43m)\u001b[49m\n\u001b[0;32m   3654\u001b[0m \u001b[38;5;28;01mexcept\u001b[39;00m \u001b[38;5;167;01mKeyError\u001b[39;00m \u001b[38;5;28;01mas\u001b[39;00m err:\n",
      "File \u001b[1;32m~\\AppData\\Local\\Programs\\Python\\Python311\\Lib\\site-packages\\pandas\\_libs\\index.pyx:147\u001b[0m, in \u001b[0;36mpandas._libs.index.IndexEngine.get_loc\u001b[1;34m()\u001b[0m\n",
      "File \u001b[1;32m~\\AppData\\Local\\Programs\\Python\\Python311\\Lib\\site-packages\\pandas\\_libs\\index.pyx:176\u001b[0m, in \u001b[0;36mpandas._libs.index.IndexEngine.get_loc\u001b[1;34m()\u001b[0m\n",
      "File \u001b[1;32mpandas\\_libs\\hashtable_class_helper.pxi:7080\u001b[0m, in \u001b[0;36mpandas._libs.hashtable.PyObjectHashTable.get_item\u001b[1;34m()\u001b[0m\n",
      "File \u001b[1;32mpandas\\_libs\\hashtable_class_helper.pxi:7088\u001b[0m, in \u001b[0;36mpandas._libs.hashtable.PyObjectHashTable.get_item\u001b[1;34m()\u001b[0m\n",
      "\u001b[1;31mKeyError\u001b[0m: 'norm_age'",
      "\nThe above exception was the direct cause of the following exception:\n",
      "\u001b[1;31mKeyError\u001b[0m                                  Traceback (most recent call last)",
      "Cell \u001b[1;32mIn[4], line 3\u001b[0m\n\u001b[0;32m      1\u001b[0m \u001b[38;5;66;03m# v_age['norm_age'] = v_age['norm_1'] + ' - ' + v_age['norm_2']\u001b[39;00m\n\u001b[0;32m      2\u001b[0m \u001b[38;5;66;03m# v_age.drop(['norm_1','norm_2'],axis = 1,inplace=True)\u001b[39;00m\n\u001b[1;32m----> 3\u001b[0m \u001b[43mv_age\u001b[49m\u001b[43m[\u001b[49m\u001b[38;5;124;43m'\u001b[39;49m\u001b[38;5;124;43mnorm_age\u001b[39;49m\u001b[38;5;124;43m'\u001b[39;49m\u001b[43m]\u001b[49m\u001b[38;5;241m.\u001b[39mstr\u001b[38;5;241m.\u001b[39mreplace(\u001b[38;5;124m'\u001b[39m\u001b[38;5;124m0 - 9\u001b[39m\u001b[38;5;124m'\u001b[39m,\u001b[38;5;124m'\u001b[39m\u001b[38;5;124mless than 10\u001b[39m\u001b[38;5;124m'\u001b[39m)\n",
      "File \u001b[1;32m~\\AppData\\Local\\Programs\\Python\\Python311\\Lib\\site-packages\\pandas\\core\\frame.py:3761\u001b[0m, in \u001b[0;36mDataFrame.__getitem__\u001b[1;34m(self, key)\u001b[0m\n\u001b[0;32m   3759\u001b[0m \u001b[38;5;28;01mif\u001b[39;00m \u001b[38;5;28mself\u001b[39m\u001b[38;5;241m.\u001b[39mcolumns\u001b[38;5;241m.\u001b[39mnlevels \u001b[38;5;241m>\u001b[39m \u001b[38;5;241m1\u001b[39m:\n\u001b[0;32m   3760\u001b[0m     \u001b[38;5;28;01mreturn\u001b[39;00m \u001b[38;5;28mself\u001b[39m\u001b[38;5;241m.\u001b[39m_getitem_multilevel(key)\n\u001b[1;32m-> 3761\u001b[0m indexer \u001b[38;5;241m=\u001b[39m \u001b[38;5;28;43mself\u001b[39;49m\u001b[38;5;241;43m.\u001b[39;49m\u001b[43mcolumns\u001b[49m\u001b[38;5;241;43m.\u001b[39;49m\u001b[43mget_loc\u001b[49m\u001b[43m(\u001b[49m\u001b[43mkey\u001b[49m\u001b[43m)\u001b[49m\n\u001b[0;32m   3762\u001b[0m \u001b[38;5;28;01mif\u001b[39;00m is_integer(indexer):\n\u001b[0;32m   3763\u001b[0m     indexer \u001b[38;5;241m=\u001b[39m [indexer]\n",
      "File \u001b[1;32m~\\AppData\\Local\\Programs\\Python\\Python311\\Lib\\site-packages\\pandas\\core\\indexes\\base.py:3655\u001b[0m, in \u001b[0;36mIndex.get_loc\u001b[1;34m(self, key)\u001b[0m\n\u001b[0;32m   3653\u001b[0m     \u001b[38;5;28;01mreturn\u001b[39;00m \u001b[38;5;28mself\u001b[39m\u001b[38;5;241m.\u001b[39m_engine\u001b[38;5;241m.\u001b[39mget_loc(casted_key)\n\u001b[0;32m   3654\u001b[0m \u001b[38;5;28;01mexcept\u001b[39;00m \u001b[38;5;167;01mKeyError\u001b[39;00m \u001b[38;5;28;01mas\u001b[39;00m err:\n\u001b[1;32m-> 3655\u001b[0m     \u001b[38;5;28;01mraise\u001b[39;00m \u001b[38;5;167;01mKeyError\u001b[39;00m(key) \u001b[38;5;28;01mfrom\u001b[39;00m \u001b[38;5;21;01merr\u001b[39;00m\n\u001b[0;32m   3656\u001b[0m \u001b[38;5;28;01mexcept\u001b[39;00m \u001b[38;5;167;01mTypeError\u001b[39;00m:\n\u001b[0;32m   3657\u001b[0m     \u001b[38;5;66;03m# If we have a listlike key, _check_indexing_error will raise\u001b[39;00m\n\u001b[0;32m   3658\u001b[0m     \u001b[38;5;66;03m#  InvalidIndexError. Otherwise we fall through and re-raise\u001b[39;00m\n\u001b[0;32m   3659\u001b[0m     \u001b[38;5;66;03m#  the TypeError.\u001b[39;00m\n\u001b[0;32m   3660\u001b[0m     \u001b[38;5;28mself\u001b[39m\u001b[38;5;241m.\u001b[39m_check_indexing_error(key)\n",
      "\u001b[1;31mKeyError\u001b[0m: 'norm_age'"
     ]
    }
   ],
   "source": [
    "# v_age['norm_age'] = v_age['norm_1'] + ' - ' + v_age['norm_2']\n",
    "# v_age.drop(['norm_1','norm_2'],axis = 1,inplace=True)\n",
    "v_age['norm_age'].str.replace('0 - 9','less than 10')"
   ]
  },
  {
   "cell_type": "code",
   "execution_count": null,
   "metadata": {},
   "outputs": [],
   "source": [
    "age_v = pd.DataFrame(v_age.groupby('norm_age').size())\n",
    "age_v.columns = ['Total number']\n",
    "age_v.reset_index(inplace=True)\n",
    "age_v"
   ]
  },
  {
   "cell_type": "code",
   "execution_count": null,
   "metadata": {},
   "outputs": [],
   "source": [
    "fig_pie3 = px.pie(age_v, values = 'Total number', names='norm_age',\n",
    "                     title = '<span style=\"color:yellow\">Pie chart showing victim age groups.</span>',width= 500,color_discrete_sequence=px.colors.qualitative.Bold)\n",
    "fig_pie3.update_traces(textposition = \"outside\", hoverinfo = 'value' )\n",
    "fig_pie3.show()"
   ]
  },
  {
   "cell_type": "code",
   "execution_count": null,
   "metadata": {},
   "outputs": [],
   "source": []
  },
  {
   "cell_type": "code",
   "execution_count": null,
   "metadata": {},
   "outputs": [],
   "source": [
    "p_age = pd.read_csv('P_age.csv')\n",
    "p_age.drop('P ',axis = 1, inplace=True)\n",
    "p_age.dropna(inplace=True)\n",
    "p_age['Age'] = p_age['Age'].astype('int')\n",
    "p_age['norm_1'] = (p_age['Age']//10)*10 \n",
    "p_age['norm_1'] = p_age['norm_1'].astype('int')\n",
    "p_age['norm_2'] = p_age['norm_1'] + 9\n",
    "p_age['norm_1'] = p_age['norm_1'].astype('str')\n",
    "p_age['norm_2'] = p_age['norm_2'].astype('str')\n",
    "p_age['norm_age'] = p_age['norm_1'] + ' - ' + p_age['norm_2']\n",
    "p_age.drop(['norm_1','norm_2'],axis = 1,inplace=True)\n",
    "\n",
    "age_p = pd.DataFrame(p_age.groupby('norm_age').size())\n",
    "age_p.columns = ['Total number']    \n",
    "age_p.reset_index(inplace=True)"
   ]
  },
  {
   "cell_type": "code",
   "execution_count": null,
   "metadata": {},
   "outputs": [],
   "source": [
    "age_p.sort_values(by = 'norm_age',ascending = True)\n",
    "age_p"
   ]
  },
  {
   "cell_type": "code",
   "execution_count": null,
   "metadata": {},
   "outputs": [],
   "source": [
    "fig_pie3 = px.pie(age_p, values = 'Total number', names='norm_age',\n",
    "                     title = '<span style=\"color:yellow\">Pie chart showing perputator age groups.</span>',width= 500,color_discrete_sequence=px.colors.qualitative.Bold)\n",
    "fig_pie3.update_traces(textposition = \"outside\", hoverinfo = 'value')\n",
    "fig_pie3.update_layout(legend_title = 'Age groups')\n",
    "fig_pie3.show()\n"
   ]
  },
  {
   "cell_type": "code",
   "execution_count": null,
   "metadata": {},
   "outputs": [],
   "source": [
    "fig_pie3 = px.pie(age_p, values = 'Total number', names='norm_age',\n",
    "                     title = '<span style=\"color:yellow\">Pie chart showing perputator age groups.</span>',width= 500,color_discrete_sequence=px.colors.qualitative.Bold)\n",
    "fig_pie3.update_traces(textposition = \"outside\", hoverinfo = 'value')\n",
    "fig_pie3.update_layout(legend_title = 'Age groups', go.layout.legend.category_orders=['0-10', '11-20', '21-30', '31-40', '41-50', '51-60', '61-70', '71-80', '81-90', '91-100'])\n",
    "fig_pie3.show()\n"
   ]
  },
  {
   "cell_type": "code",
   "execution_count": 7,
   "metadata": {},
   "outputs": [
    {
     "data": {
      "text/html": [
       "<div>\n",
       "<style scoped>\n",
       "    .dataframe tbody tr th:only-of-type {\n",
       "        vertical-align: middle;\n",
       "    }\n",
       "\n",
       "    .dataframe tbody tr th {\n",
       "        vertical-align: top;\n",
       "    }\n",
       "\n",
       "    .dataframe thead th {\n",
       "        text-align: right;\n",
       "    }\n",
       "</style>\n",
       "<table border=\"1\" class=\"dataframe\">\n",
       "  <thead>\n",
       "    <tr style=\"text-align: right;\">\n",
       "      <th></th>\n",
       "      <th>District</th>\n",
       "      <th>Time</th>\n",
       "    </tr>\n",
       "  </thead>\n",
       "  <tbody>\n",
       "    <tr>\n",
       "      <th>0</th>\n",
       "      <td>Kathmandu</td>\n",
       "      <td>12</td>\n",
       "    </tr>\n",
       "    <tr>\n",
       "      <th>1</th>\n",
       "      <td>Kathmandu</td>\n",
       "      <td>18</td>\n",
       "    </tr>\n",
       "    <tr>\n",
       "      <th>2</th>\n",
       "      <td>Kathmandu</td>\n",
       "      <td>22</td>\n",
       "    </tr>\n",
       "    <tr>\n",
       "      <th>3</th>\n",
       "      <td>Kathmandu</td>\n",
       "      <td>2</td>\n",
       "    </tr>\n",
       "    <tr>\n",
       "      <th>4</th>\n",
       "      <td>Makwanpur</td>\n",
       "      <td>16</td>\n",
       "    </tr>\n",
       "    <tr>\n",
       "      <th>...</th>\n",
       "      <td>...</td>\n",
       "      <td>...</td>\n",
       "    </tr>\n",
       "    <tr>\n",
       "      <th>287</th>\n",
       "      <td>Udayapur</td>\n",
       "      <td>20</td>\n",
       "    </tr>\n",
       "    <tr>\n",
       "      <th>288</th>\n",
       "      <td>Udayapur</td>\n",
       "      <td>9</td>\n",
       "    </tr>\n",
       "    <tr>\n",
       "      <th>289</th>\n",
       "      <td>Rupandehi</td>\n",
       "      <td>9</td>\n",
       "    </tr>\n",
       "    <tr>\n",
       "      <th>290</th>\n",
       "      <td>Humla</td>\n",
       "      <td>2</td>\n",
       "    </tr>\n",
       "    <tr>\n",
       "      <th>291</th>\n",
       "      <td>Dang</td>\n",
       "      <td>2</td>\n",
       "    </tr>\n",
       "  </tbody>\n",
       "</table>\n",
       "<p>292 rows × 2 columns</p>\n",
       "</div>"
      ],
      "text/plain": [
       "      District  Time\n",
       "0    Kathmandu    12\n",
       "1    Kathmandu    18\n",
       "2    Kathmandu    22\n",
       "3    Kathmandu     2\n",
       "4    Makwanpur    16\n",
       "..         ...   ...\n",
       "287   Udayapur    20\n",
       "288   Udayapur     9\n",
       "289  Rupandehi     9\n",
       "290      Humla     2\n",
       "291       Dang     2\n",
       "\n",
       "[292 rows x 2 columns]"
      ]
     },
     "execution_count": 7,
     "metadata": {},
     "output_type": "execute_result"
    }
   ],
   "source": [
    "Time = pd.read_csv('Time.csv')\n",
    "Time.dropna(inplace=True)\n",
    "Time"
   ]
  },
  {
   "cell_type": "code",
   "execution_count": 11,
   "metadata": {},
   "outputs": [
    {
     "data": {
      "text/html": [
       "<div>\n",
       "<style scoped>\n",
       "    .dataframe tbody tr th:only-of-type {\n",
       "        vertical-align: middle;\n",
       "    }\n",
       "\n",
       "    .dataframe tbody tr th {\n",
       "        vertical-align: top;\n",
       "    }\n",
       "\n",
       "    .dataframe thead th {\n",
       "        text-align: right;\n",
       "    }\n",
       "</style>\n",
       "<table border=\"1\" class=\"dataframe\">\n",
       "  <thead>\n",
       "    <tr style=\"text-align: right;\">\n",
       "      <th></th>\n",
       "      <th>Time</th>\n",
       "    </tr>\n",
       "  </thead>\n",
       "  <tbody>\n",
       "    <tr>\n",
       "      <th>0</th>\n",
       "      <td>12</td>\n",
       "    </tr>\n",
       "    <tr>\n",
       "      <th>1</th>\n",
       "      <td>18</td>\n",
       "    </tr>\n",
       "    <tr>\n",
       "      <th>2</th>\n",
       "      <td>22</td>\n",
       "    </tr>\n",
       "    <tr>\n",
       "      <th>3</th>\n",
       "      <td>2</td>\n",
       "    </tr>\n",
       "    <tr>\n",
       "      <th>4</th>\n",
       "      <td>16</td>\n",
       "    </tr>\n",
       "    <tr>\n",
       "      <th>...</th>\n",
       "      <td>...</td>\n",
       "    </tr>\n",
       "    <tr>\n",
       "      <th>287</th>\n",
       "      <td>20</td>\n",
       "    </tr>\n",
       "    <tr>\n",
       "      <th>288</th>\n",
       "      <td>9</td>\n",
       "    </tr>\n",
       "    <tr>\n",
       "      <th>289</th>\n",
       "      <td>9</td>\n",
       "    </tr>\n",
       "    <tr>\n",
       "      <th>290</th>\n",
       "      <td>2</td>\n",
       "    </tr>\n",
       "    <tr>\n",
       "      <th>291</th>\n",
       "      <td>2</td>\n",
       "    </tr>\n",
       "  </tbody>\n",
       "</table>\n",
       "<p>292 rows × 1 columns</p>\n",
       "</div>"
      ],
      "text/plain": [
       "     Time\n",
       "0      12\n",
       "1      18\n",
       "2      22\n",
       "3       2\n",
       "4      16\n",
       "..    ...\n",
       "287    20\n",
       "288     9\n",
       "289     9\n",
       "290     2\n",
       "291     2\n",
       "\n",
       "[292 rows x 1 columns]"
      ]
     },
     "execution_count": 11,
     "metadata": {},
     "output_type": "execute_result"
    }
   ],
   "source": [
    "Time_1 = pd.read_csv(\"Time.csv\", usecols = ['Time'])\n",
    "Time_1"
   ]
  },
  {
   "cell_type": "code",
   "execution_count": 17,
   "metadata": {},
   "outputs": [
    {
     "data": {
      "text/html": [
       "<div>\n",
       "<style scoped>\n",
       "    .dataframe tbody tr th:only-of-type {\n",
       "        vertical-align: middle;\n",
       "    }\n",
       "\n",
       "    .dataframe tbody tr th {\n",
       "        vertical-align: top;\n",
       "    }\n",
       "\n",
       "    .dataframe thead th {\n",
       "        text-align: right;\n",
       "    }\n",
       "</style>\n",
       "<table border=\"1\" class=\"dataframe\">\n",
       "  <thead>\n",
       "    <tr style=\"text-align: right;\">\n",
       "      <th></th>\n",
       "      <th>Time</th>\n",
       "      <th>Total number</th>\n",
       "    </tr>\n",
       "  </thead>\n",
       "  <tbody>\n",
       "    <tr>\n",
       "      <th>0</th>\n",
       "      <td>1</td>\n",
       "      <td>2</td>\n",
       "    </tr>\n",
       "    <tr>\n",
       "      <th>1</th>\n",
       "      <td>2</td>\n",
       "      <td>122</td>\n",
       "    </tr>\n",
       "    <tr>\n",
       "      <th>2</th>\n",
       "      <td>4</td>\n",
       "      <td>1</td>\n",
       "    </tr>\n",
       "    <tr>\n",
       "      <th>3</th>\n",
       "      <td>5</td>\n",
       "      <td>1</td>\n",
       "    </tr>\n",
       "    <tr>\n",
       "      <th>4</th>\n",
       "      <td>7</td>\n",
       "      <td>4</td>\n",
       "    </tr>\n",
       "    <tr>\n",
       "      <th>5</th>\n",
       "      <td>8</td>\n",
       "      <td>2</td>\n",
       "    </tr>\n",
       "    <tr>\n",
       "      <th>6</th>\n",
       "      <td>9</td>\n",
       "      <td>20</td>\n",
       "    </tr>\n",
       "    <tr>\n",
       "      <th>7</th>\n",
       "      <td>10</td>\n",
       "      <td>4</td>\n",
       "    </tr>\n",
       "    <tr>\n",
       "      <th>8</th>\n",
       "      <td>11</td>\n",
       "      <td>4</td>\n",
       "    </tr>\n",
       "    <tr>\n",
       "      <th>9</th>\n",
       "      <td>12</td>\n",
       "      <td>4</td>\n",
       "    </tr>\n",
       "    <tr>\n",
       "      <th>10</th>\n",
       "      <td>13</td>\n",
       "      <td>3</td>\n",
       "    </tr>\n",
       "    <tr>\n",
       "      <th>11</th>\n",
       "      <td>14</td>\n",
       "      <td>33</td>\n",
       "    </tr>\n",
       "    <tr>\n",
       "      <th>12</th>\n",
       "      <td>15</td>\n",
       "      <td>4</td>\n",
       "    </tr>\n",
       "    <tr>\n",
       "      <th>13</th>\n",
       "      <td>16</td>\n",
       "      <td>5</td>\n",
       "    </tr>\n",
       "    <tr>\n",
       "      <th>14</th>\n",
       "      <td>17</td>\n",
       "      <td>3</td>\n",
       "    </tr>\n",
       "    <tr>\n",
       "      <th>15</th>\n",
       "      <td>18</td>\n",
       "      <td>7</td>\n",
       "    </tr>\n",
       "    <tr>\n",
       "      <th>16</th>\n",
       "      <td>19</td>\n",
       "      <td>10</td>\n",
       "    </tr>\n",
       "    <tr>\n",
       "      <th>17</th>\n",
       "      <td>20</td>\n",
       "      <td>48</td>\n",
       "    </tr>\n",
       "    <tr>\n",
       "      <th>18</th>\n",
       "      <td>21</td>\n",
       "      <td>7</td>\n",
       "    </tr>\n",
       "    <tr>\n",
       "      <th>19</th>\n",
       "      <td>22</td>\n",
       "      <td>4</td>\n",
       "    </tr>\n",
       "    <tr>\n",
       "      <th>20</th>\n",
       "      <td>23</td>\n",
       "      <td>4</td>\n",
       "    </tr>\n",
       "  </tbody>\n",
       "</table>\n",
       "</div>"
      ],
      "text/plain": [
       "    Time  Total number\n",
       "0      1             2\n",
       "1      2           122\n",
       "2      4             1\n",
       "3      5             1\n",
       "4      7             4\n",
       "5      8             2\n",
       "6      9            20\n",
       "7     10             4\n",
       "8     11             4\n",
       "9     12             4\n",
       "10    13             3\n",
       "11    14            33\n",
       "12    15             4\n",
       "13    16             5\n",
       "14    17             3\n",
       "15    18             7\n",
       "16    19            10\n",
       "17    20            48\n",
       "18    21             7\n",
       "19    22             4\n",
       "20    23             4"
      ]
     },
     "execution_count": 17,
     "metadata": {},
     "output_type": "execute_result"
    }
   ],
   "source": [
    "time_v = pd.DataFrame(Time_1.groupby('Time').size())\n",
    "time_v.columns = ['Total number']\n",
    "time_v.reset_index(inplace=True)\n",
    "time_v"
   ]
  },
  {
   "cell_type": "code",
   "execution_count": 29,
   "metadata": {},
   "outputs": [
    {
     "data": {
      "text/html": [
       "<div>\n",
       "<style scoped>\n",
       "    .dataframe tbody tr th:only-of-type {\n",
       "        vertical-align: middle;\n",
       "    }\n",
       "\n",
       "    .dataframe tbody tr th {\n",
       "        vertical-align: top;\n",
       "    }\n",
       "\n",
       "    .dataframe thead th {\n",
       "        text-align: right;\n",
       "    }\n",
       "</style>\n",
       "<table border=\"1\" class=\"dataframe\">\n",
       "  <thead>\n",
       "    <tr style=\"text-align: right;\">\n",
       "      <th></th>\n",
       "      <th>Time</th>\n",
       "      <th>Total number</th>\n",
       "    </tr>\n",
       "  </thead>\n",
       "  <tbody>\n",
       "    <tr>\n",
       "      <th>20</th>\n",
       "      <td>23</td>\n",
       "      <td>4</td>\n",
       "    </tr>\n",
       "    <tr>\n",
       "      <th>19</th>\n",
       "      <td>22</td>\n",
       "      <td>4</td>\n",
       "    </tr>\n",
       "    <tr>\n",
       "      <th>18</th>\n",
       "      <td>21</td>\n",
       "      <td>7</td>\n",
       "    </tr>\n",
       "    <tr>\n",
       "      <th>17</th>\n",
       "      <td>20</td>\n",
       "      <td>48</td>\n",
       "    </tr>\n",
       "    <tr>\n",
       "      <th>16</th>\n",
       "      <td>19</td>\n",
       "      <td>10</td>\n",
       "    </tr>\n",
       "    <tr>\n",
       "      <th>15</th>\n",
       "      <td>18</td>\n",
       "      <td>7</td>\n",
       "    </tr>\n",
       "    <tr>\n",
       "      <th>14</th>\n",
       "      <td>17</td>\n",
       "      <td>3</td>\n",
       "    </tr>\n",
       "    <tr>\n",
       "      <th>13</th>\n",
       "      <td>16</td>\n",
       "      <td>5</td>\n",
       "    </tr>\n",
       "    <tr>\n",
       "      <th>12</th>\n",
       "      <td>15</td>\n",
       "      <td>4</td>\n",
       "    </tr>\n",
       "    <tr>\n",
       "      <th>11</th>\n",
       "      <td>14</td>\n",
       "      <td>33</td>\n",
       "    </tr>\n",
       "  </tbody>\n",
       "</table>\n",
       "</div>"
      ],
      "text/plain": [
       "    Time  Total number\n",
       "20    23             4\n",
       "19    22             4\n",
       "18    21             7\n",
       "17    20            48\n",
       "16    19            10\n",
       "15    18             7\n",
       "14    17             3\n",
       "13    16             5\n",
       "12    15             4\n",
       "11    14            33"
      ]
     },
     "execution_count": 29,
     "metadata": {},
     "output_type": "execute_result"
    }
   ],
   "source": [
    "time_vv=time_v.nlargest(10, ['Time'])\n",
    "\n",
    "time_vv"
   ]
  },
  {
   "cell_type": "code",
   "execution_count": 30,
   "metadata": {},
   "outputs": [
    {
     "data": {
      "application/vnd.plotly.v1+json": {
       "config": {
        "plotlyServerURL": "https://plot.ly"
       },
       "data": [
        {
         "domain": {
          "x": [
           0,
           1
          ],
          "y": [
           0,
           1
          ]
         },
         "hoverinfo": "value",
         "hovertemplate": "Time=%{label}<br>Total number=%{value}<extra></extra>",
         "labels": [
          23,
          22,
          21,
          20,
          19,
          18,
          17,
          16,
          15,
          14
         ],
         "legendgroup": "",
         "name": "",
         "showlegend": true,
         "textposition": "outside",
         "type": "pie",
         "values": [
          4,
          4,
          7,
          48,
          10,
          7,
          3,
          5,
          4,
          33
         ]
        }
       ],
       "layout": {
        "height": 360,
        "hiddenlabels": [
         "22"
        ],
        "legend": {
         "tracegroupgap": 0
        },
        "piecolorway": [
         "rgb(127, 60, 141)",
         "rgb(17, 165, 121)",
         "rgb(57, 105, 172)",
         "rgb(242, 183, 1)",
         "rgb(231, 63, 116)",
         "rgb(128, 186, 90)",
         "rgb(230, 131, 16)",
         "rgb(0, 134, 149)",
         "rgb(207, 28, 144)",
         "rgb(249, 123, 114)",
         "rgb(165, 170, 153)"
        ],
        "template": {
         "data": {
          "bar": [
           {
            "error_x": {
             "color": "#2a3f5f"
            },
            "error_y": {
             "color": "#2a3f5f"
            },
            "marker": {
             "line": {
              "color": "#E5ECF6",
              "width": 0.5
             },
             "pattern": {
              "fillmode": "overlay",
              "size": 10,
              "solidity": 0.2
             }
            },
            "type": "bar"
           }
          ],
          "barpolar": [
           {
            "marker": {
             "line": {
              "color": "#E5ECF6",
              "width": 0.5
             },
             "pattern": {
              "fillmode": "overlay",
              "size": 10,
              "solidity": 0.2
             }
            },
            "type": "barpolar"
           }
          ],
          "carpet": [
           {
            "aaxis": {
             "endlinecolor": "#2a3f5f",
             "gridcolor": "white",
             "linecolor": "white",
             "minorgridcolor": "white",
             "startlinecolor": "#2a3f5f"
            },
            "baxis": {
             "endlinecolor": "#2a3f5f",
             "gridcolor": "white",
             "linecolor": "white",
             "minorgridcolor": "white",
             "startlinecolor": "#2a3f5f"
            },
            "type": "carpet"
           }
          ],
          "choropleth": [
           {
            "colorbar": {
             "outlinewidth": 0,
             "ticks": ""
            },
            "type": "choropleth"
           }
          ],
          "contour": [
           {
            "colorbar": {
             "outlinewidth": 0,
             "ticks": ""
            },
            "colorscale": [
             [
              0,
              "#0d0887"
             ],
             [
              0.1111111111111111,
              "#46039f"
             ],
             [
              0.2222222222222222,
              "#7201a8"
             ],
             [
              0.3333333333333333,
              "#9c179e"
             ],
             [
              0.4444444444444444,
              "#bd3786"
             ],
             [
              0.5555555555555556,
              "#d8576b"
             ],
             [
              0.6666666666666666,
              "#ed7953"
             ],
             [
              0.7777777777777778,
              "#fb9f3a"
             ],
             [
              0.8888888888888888,
              "#fdca26"
             ],
             [
              1,
              "#f0f921"
             ]
            ],
            "type": "contour"
           }
          ],
          "contourcarpet": [
           {
            "colorbar": {
             "outlinewidth": 0,
             "ticks": ""
            },
            "type": "contourcarpet"
           }
          ],
          "heatmap": [
           {
            "colorbar": {
             "outlinewidth": 0,
             "ticks": ""
            },
            "colorscale": [
             [
              0,
              "#0d0887"
             ],
             [
              0.1111111111111111,
              "#46039f"
             ],
             [
              0.2222222222222222,
              "#7201a8"
             ],
             [
              0.3333333333333333,
              "#9c179e"
             ],
             [
              0.4444444444444444,
              "#bd3786"
             ],
             [
              0.5555555555555556,
              "#d8576b"
             ],
             [
              0.6666666666666666,
              "#ed7953"
             ],
             [
              0.7777777777777778,
              "#fb9f3a"
             ],
             [
              0.8888888888888888,
              "#fdca26"
             ],
             [
              1,
              "#f0f921"
             ]
            ],
            "type": "heatmap"
           }
          ],
          "heatmapgl": [
           {
            "colorbar": {
             "outlinewidth": 0,
             "ticks": ""
            },
            "colorscale": [
             [
              0,
              "#0d0887"
             ],
             [
              0.1111111111111111,
              "#46039f"
             ],
             [
              0.2222222222222222,
              "#7201a8"
             ],
             [
              0.3333333333333333,
              "#9c179e"
             ],
             [
              0.4444444444444444,
              "#bd3786"
             ],
             [
              0.5555555555555556,
              "#d8576b"
             ],
             [
              0.6666666666666666,
              "#ed7953"
             ],
             [
              0.7777777777777778,
              "#fb9f3a"
             ],
             [
              0.8888888888888888,
              "#fdca26"
             ],
             [
              1,
              "#f0f921"
             ]
            ],
            "type": "heatmapgl"
           }
          ],
          "histogram": [
           {
            "marker": {
             "pattern": {
              "fillmode": "overlay",
              "size": 10,
              "solidity": 0.2
             }
            },
            "type": "histogram"
           }
          ],
          "histogram2d": [
           {
            "colorbar": {
             "outlinewidth": 0,
             "ticks": ""
            },
            "colorscale": [
             [
              0,
              "#0d0887"
             ],
             [
              0.1111111111111111,
              "#46039f"
             ],
             [
              0.2222222222222222,
              "#7201a8"
             ],
             [
              0.3333333333333333,
              "#9c179e"
             ],
             [
              0.4444444444444444,
              "#bd3786"
             ],
             [
              0.5555555555555556,
              "#d8576b"
             ],
             [
              0.6666666666666666,
              "#ed7953"
             ],
             [
              0.7777777777777778,
              "#fb9f3a"
             ],
             [
              0.8888888888888888,
              "#fdca26"
             ],
             [
              1,
              "#f0f921"
             ]
            ],
            "type": "histogram2d"
           }
          ],
          "histogram2dcontour": [
           {
            "colorbar": {
             "outlinewidth": 0,
             "ticks": ""
            },
            "colorscale": [
             [
              0,
              "#0d0887"
             ],
             [
              0.1111111111111111,
              "#46039f"
             ],
             [
              0.2222222222222222,
              "#7201a8"
             ],
             [
              0.3333333333333333,
              "#9c179e"
             ],
             [
              0.4444444444444444,
              "#bd3786"
             ],
             [
              0.5555555555555556,
              "#d8576b"
             ],
             [
              0.6666666666666666,
              "#ed7953"
             ],
             [
              0.7777777777777778,
              "#fb9f3a"
             ],
             [
              0.8888888888888888,
              "#fdca26"
             ],
             [
              1,
              "#f0f921"
             ]
            ],
            "type": "histogram2dcontour"
           }
          ],
          "mesh3d": [
           {
            "colorbar": {
             "outlinewidth": 0,
             "ticks": ""
            },
            "type": "mesh3d"
           }
          ],
          "parcoords": [
           {
            "line": {
             "colorbar": {
              "outlinewidth": 0,
              "ticks": ""
             }
            },
            "type": "parcoords"
           }
          ],
          "pie": [
           {
            "automargin": true,
            "type": "pie"
           }
          ],
          "scatter": [
           {
            "fillpattern": {
             "fillmode": "overlay",
             "size": 10,
             "solidity": 0.2
            },
            "type": "scatter"
           }
          ],
          "scatter3d": [
           {
            "line": {
             "colorbar": {
              "outlinewidth": 0,
              "ticks": ""
             }
            },
            "marker": {
             "colorbar": {
              "outlinewidth": 0,
              "ticks": ""
             }
            },
            "type": "scatter3d"
           }
          ],
          "scattercarpet": [
           {
            "marker": {
             "colorbar": {
              "outlinewidth": 0,
              "ticks": ""
             }
            },
            "type": "scattercarpet"
           }
          ],
          "scattergeo": [
           {
            "marker": {
             "colorbar": {
              "outlinewidth": 0,
              "ticks": ""
             }
            },
            "type": "scattergeo"
           }
          ],
          "scattergl": [
           {
            "marker": {
             "colorbar": {
              "outlinewidth": 0,
              "ticks": ""
             }
            },
            "type": "scattergl"
           }
          ],
          "scattermapbox": [
           {
            "marker": {
             "colorbar": {
              "outlinewidth": 0,
              "ticks": ""
             }
            },
            "type": "scattermapbox"
           }
          ],
          "scatterpolar": [
           {
            "marker": {
             "colorbar": {
              "outlinewidth": 0,
              "ticks": ""
             }
            },
            "type": "scatterpolar"
           }
          ],
          "scatterpolargl": [
           {
            "marker": {
             "colorbar": {
              "outlinewidth": 0,
              "ticks": ""
             }
            },
            "type": "scatterpolargl"
           }
          ],
          "scatterternary": [
           {
            "marker": {
             "colorbar": {
              "outlinewidth": 0,
              "ticks": ""
             }
            },
            "type": "scatterternary"
           }
          ],
          "surface": [
           {
            "colorbar": {
             "outlinewidth": 0,
             "ticks": ""
            },
            "colorscale": [
             [
              0,
              "#0d0887"
             ],
             [
              0.1111111111111111,
              "#46039f"
             ],
             [
              0.2222222222222222,
              "#7201a8"
             ],
             [
              0.3333333333333333,
              "#9c179e"
             ],
             [
              0.4444444444444444,
              "#bd3786"
             ],
             [
              0.5555555555555556,
              "#d8576b"
             ],
             [
              0.6666666666666666,
              "#ed7953"
             ],
             [
              0.7777777777777778,
              "#fb9f3a"
             ],
             [
              0.8888888888888888,
              "#fdca26"
             ],
             [
              1,
              "#f0f921"
             ]
            ],
            "type": "surface"
           }
          ],
          "table": [
           {
            "cells": {
             "fill": {
              "color": "#EBF0F8"
             },
             "line": {
              "color": "white"
             }
            },
            "header": {
             "fill": {
              "color": "#C8D4E3"
             },
             "line": {
              "color": "white"
             }
            },
            "type": "table"
           }
          ]
         },
         "layout": {
          "annotationdefaults": {
           "arrowcolor": "#2a3f5f",
           "arrowhead": 0,
           "arrowwidth": 1
          },
          "autotypenumbers": "strict",
          "coloraxis": {
           "colorbar": {
            "outlinewidth": 0,
            "ticks": ""
           }
          },
          "colorscale": {
           "diverging": [
            [
             0,
             "#8e0152"
            ],
            [
             0.1,
             "#c51b7d"
            ],
            [
             0.2,
             "#de77ae"
            ],
            [
             0.3,
             "#f1b6da"
            ],
            [
             0.4,
             "#fde0ef"
            ],
            [
             0.5,
             "#f7f7f7"
            ],
            [
             0.6,
             "#e6f5d0"
            ],
            [
             0.7,
             "#b8e186"
            ],
            [
             0.8,
             "#7fbc41"
            ],
            [
             0.9,
             "#4d9221"
            ],
            [
             1,
             "#276419"
            ]
           ],
           "sequential": [
            [
             0,
             "#0d0887"
            ],
            [
             0.1111111111111111,
             "#46039f"
            ],
            [
             0.2222222222222222,
             "#7201a8"
            ],
            [
             0.3333333333333333,
             "#9c179e"
            ],
            [
             0.4444444444444444,
             "#bd3786"
            ],
            [
             0.5555555555555556,
             "#d8576b"
            ],
            [
             0.6666666666666666,
             "#ed7953"
            ],
            [
             0.7777777777777778,
             "#fb9f3a"
            ],
            [
             0.8888888888888888,
             "#fdca26"
            ],
            [
             1,
             "#f0f921"
            ]
           ],
           "sequentialminus": [
            [
             0,
             "#0d0887"
            ],
            [
             0.1111111111111111,
             "#46039f"
            ],
            [
             0.2222222222222222,
             "#7201a8"
            ],
            [
             0.3333333333333333,
             "#9c179e"
            ],
            [
             0.4444444444444444,
             "#bd3786"
            ],
            [
             0.5555555555555556,
             "#d8576b"
            ],
            [
             0.6666666666666666,
             "#ed7953"
            ],
            [
             0.7777777777777778,
             "#fb9f3a"
            ],
            [
             0.8888888888888888,
             "#fdca26"
            ],
            [
             1,
             "#f0f921"
            ]
           ]
          },
          "colorway": [
           "#636efa",
           "#EF553B",
           "#00cc96",
           "#ab63fa",
           "#FFA15A",
           "#19d3f3",
           "#FF6692",
           "#B6E880",
           "#FF97FF",
           "#FECB52"
          ],
          "font": {
           "color": "#2a3f5f"
          },
          "geo": {
           "bgcolor": "white",
           "lakecolor": "white",
           "landcolor": "#E5ECF6",
           "showlakes": true,
           "showland": true,
           "subunitcolor": "white"
          },
          "hoverlabel": {
           "align": "left"
          },
          "hovermode": "closest",
          "mapbox": {
           "style": "light"
          },
          "paper_bgcolor": "white",
          "plot_bgcolor": "#E5ECF6",
          "polar": {
           "angularaxis": {
            "gridcolor": "white",
            "linecolor": "white",
            "ticks": ""
           },
           "bgcolor": "#E5ECF6",
           "radialaxis": {
            "gridcolor": "white",
            "linecolor": "white",
            "ticks": ""
           }
          },
          "scene": {
           "xaxis": {
            "backgroundcolor": "#E5ECF6",
            "gridcolor": "white",
            "gridwidth": 2,
            "linecolor": "white",
            "showbackground": true,
            "ticks": "",
            "zerolinecolor": "white"
           },
           "yaxis": {
            "backgroundcolor": "#E5ECF6",
            "gridcolor": "white",
            "gridwidth": 2,
            "linecolor": "white",
            "showbackground": true,
            "ticks": "",
            "zerolinecolor": "white"
           },
           "zaxis": {
            "backgroundcolor": "#E5ECF6",
            "gridcolor": "white",
            "gridwidth": 2,
            "linecolor": "white",
            "showbackground": true,
            "ticks": "",
            "zerolinecolor": "white"
           }
          },
          "shapedefaults": {
           "line": {
            "color": "#2a3f5f"
           }
          },
          "ternary": {
           "aaxis": {
            "gridcolor": "white",
            "linecolor": "white",
            "ticks": ""
           },
           "baxis": {
            "gridcolor": "white",
            "linecolor": "white",
            "ticks": ""
           },
           "bgcolor": "#E5ECF6",
           "caxis": {
            "gridcolor": "white",
            "linecolor": "white",
            "ticks": ""
           }
          },
          "title": {
           "x": 0.05
          },
          "xaxis": {
           "automargin": true,
           "gridcolor": "white",
           "linecolor": "white",
           "ticks": "",
           "title": {
            "standoff": 15
           },
           "zerolinecolor": "white",
           "zerolinewidth": 2
          },
          "yaxis": {
           "automargin": true,
           "gridcolor": "white",
           "linecolor": "white",
           "ticks": "",
           "title": {
            "standoff": 15
           },
           "zerolinecolor": "white",
           "zerolinewidth": 2
          }
         }
        },
        "title": {
         "text": "<span style=\"color:yellow\">Pie chart showing the time with high peak for cases .</span>"
        },
        "width": 700
       }
      },
      "text/html": [
       "<div>                            <div id=\"11a553f4-80f5-4cbf-9dec-51a4f8dbe26a\" class=\"plotly-graph-div\" style=\"height:525px; width:700px;\"></div>            <script type=\"text/javascript\">                require([\"plotly\"], function(Plotly) {                    window.PLOTLYENV=window.PLOTLYENV || {};                                    if (document.getElementById(\"11a553f4-80f5-4cbf-9dec-51a4f8dbe26a\")) {                    Plotly.newPlot(                        \"11a553f4-80f5-4cbf-9dec-51a4f8dbe26a\",                        [{\"domain\":{\"x\":[0.0,1.0],\"y\":[0.0,1.0]},\"hovertemplate\":\"Time=%{label}\\u003cbr\\u003eTotal number=%{value}\\u003cextra\\u003e\\u003c\\u002fextra\\u003e\",\"labels\":[23,22,21,20,19,18,17,16,15,14],\"legendgroup\":\"\",\"name\":\"\",\"showlegend\":true,\"values\":[4,4,7,48,10,7,3,5,4,33],\"type\":\"pie\",\"hoverinfo\":\"value\",\"textposition\":\"outside\"}],                        {\"template\":{\"data\":{\"histogram2dcontour\":[{\"type\":\"histogram2dcontour\",\"colorbar\":{\"outlinewidth\":0,\"ticks\":\"\"},\"colorscale\":[[0.0,\"#0d0887\"],[0.1111111111111111,\"#46039f\"],[0.2222222222222222,\"#7201a8\"],[0.3333333333333333,\"#9c179e\"],[0.4444444444444444,\"#bd3786\"],[0.5555555555555556,\"#d8576b\"],[0.6666666666666666,\"#ed7953\"],[0.7777777777777778,\"#fb9f3a\"],[0.8888888888888888,\"#fdca26\"],[1.0,\"#f0f921\"]]}],\"choropleth\":[{\"type\":\"choropleth\",\"colorbar\":{\"outlinewidth\":0,\"ticks\":\"\"}}],\"histogram2d\":[{\"type\":\"histogram2d\",\"colorbar\":{\"outlinewidth\":0,\"ticks\":\"\"},\"colorscale\":[[0.0,\"#0d0887\"],[0.1111111111111111,\"#46039f\"],[0.2222222222222222,\"#7201a8\"],[0.3333333333333333,\"#9c179e\"],[0.4444444444444444,\"#bd3786\"],[0.5555555555555556,\"#d8576b\"],[0.6666666666666666,\"#ed7953\"],[0.7777777777777778,\"#fb9f3a\"],[0.8888888888888888,\"#fdca26\"],[1.0,\"#f0f921\"]]}],\"heatmap\":[{\"type\":\"heatmap\",\"colorbar\":{\"outlinewidth\":0,\"ticks\":\"\"},\"colorscale\":[[0.0,\"#0d0887\"],[0.1111111111111111,\"#46039f\"],[0.2222222222222222,\"#7201a8\"],[0.3333333333333333,\"#9c179e\"],[0.4444444444444444,\"#bd3786\"],[0.5555555555555556,\"#d8576b\"],[0.6666666666666666,\"#ed7953\"],[0.7777777777777778,\"#fb9f3a\"],[0.8888888888888888,\"#fdca26\"],[1.0,\"#f0f921\"]]}],\"heatmapgl\":[{\"type\":\"heatmapgl\",\"colorbar\":{\"outlinewidth\":0,\"ticks\":\"\"},\"colorscale\":[[0.0,\"#0d0887\"],[0.1111111111111111,\"#46039f\"],[0.2222222222222222,\"#7201a8\"],[0.3333333333333333,\"#9c179e\"],[0.4444444444444444,\"#bd3786\"],[0.5555555555555556,\"#d8576b\"],[0.6666666666666666,\"#ed7953\"],[0.7777777777777778,\"#fb9f3a\"],[0.8888888888888888,\"#fdca26\"],[1.0,\"#f0f921\"]]}],\"contourcarpet\":[{\"type\":\"contourcarpet\",\"colorbar\":{\"outlinewidth\":0,\"ticks\":\"\"}}],\"contour\":[{\"type\":\"contour\",\"colorbar\":{\"outlinewidth\":0,\"ticks\":\"\"},\"colorscale\":[[0.0,\"#0d0887\"],[0.1111111111111111,\"#46039f\"],[0.2222222222222222,\"#7201a8\"],[0.3333333333333333,\"#9c179e\"],[0.4444444444444444,\"#bd3786\"],[0.5555555555555556,\"#d8576b\"],[0.6666666666666666,\"#ed7953\"],[0.7777777777777778,\"#fb9f3a\"],[0.8888888888888888,\"#fdca26\"],[1.0,\"#f0f921\"]]}],\"surface\":[{\"type\":\"surface\",\"colorbar\":{\"outlinewidth\":0,\"ticks\":\"\"},\"colorscale\":[[0.0,\"#0d0887\"],[0.1111111111111111,\"#46039f\"],[0.2222222222222222,\"#7201a8\"],[0.3333333333333333,\"#9c179e\"],[0.4444444444444444,\"#bd3786\"],[0.5555555555555556,\"#d8576b\"],[0.6666666666666666,\"#ed7953\"],[0.7777777777777778,\"#fb9f3a\"],[0.8888888888888888,\"#fdca26\"],[1.0,\"#f0f921\"]]}],\"mesh3d\":[{\"type\":\"mesh3d\",\"colorbar\":{\"outlinewidth\":0,\"ticks\":\"\"}}],\"scatter\":[{\"fillpattern\":{\"fillmode\":\"overlay\",\"size\":10,\"solidity\":0.2},\"type\":\"scatter\"}],\"parcoords\":[{\"type\":\"parcoords\",\"line\":{\"colorbar\":{\"outlinewidth\":0,\"ticks\":\"\"}}}],\"scatterpolargl\":[{\"type\":\"scatterpolargl\",\"marker\":{\"colorbar\":{\"outlinewidth\":0,\"ticks\":\"\"}}}],\"bar\":[{\"error_x\":{\"color\":\"#2a3f5f\"},\"error_y\":{\"color\":\"#2a3f5f\"},\"marker\":{\"line\":{\"color\":\"#E5ECF6\",\"width\":0.5},\"pattern\":{\"fillmode\":\"overlay\",\"size\":10,\"solidity\":0.2}},\"type\":\"bar\"}],\"scattergeo\":[{\"type\":\"scattergeo\",\"marker\":{\"colorbar\":{\"outlinewidth\":0,\"ticks\":\"\"}}}],\"scatterpolar\":[{\"type\":\"scatterpolar\",\"marker\":{\"colorbar\":{\"outlinewidth\":0,\"ticks\":\"\"}}}],\"histogram\":[{\"marker\":{\"pattern\":{\"fillmode\":\"overlay\",\"size\":10,\"solidity\":0.2}},\"type\":\"histogram\"}],\"scattergl\":[{\"type\":\"scattergl\",\"marker\":{\"colorbar\":{\"outlinewidth\":0,\"ticks\":\"\"}}}],\"scatter3d\":[{\"type\":\"scatter3d\",\"line\":{\"colorbar\":{\"outlinewidth\":0,\"ticks\":\"\"}},\"marker\":{\"colorbar\":{\"outlinewidth\":0,\"ticks\":\"\"}}}],\"scattermapbox\":[{\"type\":\"scattermapbox\",\"marker\":{\"colorbar\":{\"outlinewidth\":0,\"ticks\":\"\"}}}],\"scatterternary\":[{\"type\":\"scatterternary\",\"marker\":{\"colorbar\":{\"outlinewidth\":0,\"ticks\":\"\"}}}],\"scattercarpet\":[{\"type\":\"scattercarpet\",\"marker\":{\"colorbar\":{\"outlinewidth\":0,\"ticks\":\"\"}}}],\"carpet\":[{\"aaxis\":{\"endlinecolor\":\"#2a3f5f\",\"gridcolor\":\"white\",\"linecolor\":\"white\",\"minorgridcolor\":\"white\",\"startlinecolor\":\"#2a3f5f\"},\"baxis\":{\"endlinecolor\":\"#2a3f5f\",\"gridcolor\":\"white\",\"linecolor\":\"white\",\"minorgridcolor\":\"white\",\"startlinecolor\":\"#2a3f5f\"},\"type\":\"carpet\"}],\"table\":[{\"cells\":{\"fill\":{\"color\":\"#EBF0F8\"},\"line\":{\"color\":\"white\"}},\"header\":{\"fill\":{\"color\":\"#C8D4E3\"},\"line\":{\"color\":\"white\"}},\"type\":\"table\"}],\"barpolar\":[{\"marker\":{\"line\":{\"color\":\"#E5ECF6\",\"width\":0.5},\"pattern\":{\"fillmode\":\"overlay\",\"size\":10,\"solidity\":0.2}},\"type\":\"barpolar\"}],\"pie\":[{\"automargin\":true,\"type\":\"pie\"}]},\"layout\":{\"autotypenumbers\":\"strict\",\"colorway\":[\"#636efa\",\"#EF553B\",\"#00cc96\",\"#ab63fa\",\"#FFA15A\",\"#19d3f3\",\"#FF6692\",\"#B6E880\",\"#FF97FF\",\"#FECB52\"],\"font\":{\"color\":\"#2a3f5f\"},\"hovermode\":\"closest\",\"hoverlabel\":{\"align\":\"left\"},\"paper_bgcolor\":\"white\",\"plot_bgcolor\":\"#E5ECF6\",\"polar\":{\"bgcolor\":\"#E5ECF6\",\"angularaxis\":{\"gridcolor\":\"white\",\"linecolor\":\"white\",\"ticks\":\"\"},\"radialaxis\":{\"gridcolor\":\"white\",\"linecolor\":\"white\",\"ticks\":\"\"}},\"ternary\":{\"bgcolor\":\"#E5ECF6\",\"aaxis\":{\"gridcolor\":\"white\",\"linecolor\":\"white\",\"ticks\":\"\"},\"baxis\":{\"gridcolor\":\"white\",\"linecolor\":\"white\",\"ticks\":\"\"},\"caxis\":{\"gridcolor\":\"white\",\"linecolor\":\"white\",\"ticks\":\"\"}},\"coloraxis\":{\"colorbar\":{\"outlinewidth\":0,\"ticks\":\"\"}},\"colorscale\":{\"sequential\":[[0.0,\"#0d0887\"],[0.1111111111111111,\"#46039f\"],[0.2222222222222222,\"#7201a8\"],[0.3333333333333333,\"#9c179e\"],[0.4444444444444444,\"#bd3786\"],[0.5555555555555556,\"#d8576b\"],[0.6666666666666666,\"#ed7953\"],[0.7777777777777778,\"#fb9f3a\"],[0.8888888888888888,\"#fdca26\"],[1.0,\"#f0f921\"]],\"sequentialminus\":[[0.0,\"#0d0887\"],[0.1111111111111111,\"#46039f\"],[0.2222222222222222,\"#7201a8\"],[0.3333333333333333,\"#9c179e\"],[0.4444444444444444,\"#bd3786\"],[0.5555555555555556,\"#d8576b\"],[0.6666666666666666,\"#ed7953\"],[0.7777777777777778,\"#fb9f3a\"],[0.8888888888888888,\"#fdca26\"],[1.0,\"#f0f921\"]],\"diverging\":[[0,\"#8e0152\"],[0.1,\"#c51b7d\"],[0.2,\"#de77ae\"],[0.3,\"#f1b6da\"],[0.4,\"#fde0ef\"],[0.5,\"#f7f7f7\"],[0.6,\"#e6f5d0\"],[0.7,\"#b8e186\"],[0.8,\"#7fbc41\"],[0.9,\"#4d9221\"],[1,\"#276419\"]]},\"xaxis\":{\"gridcolor\":\"white\",\"linecolor\":\"white\",\"ticks\":\"\",\"title\":{\"standoff\":15},\"zerolinecolor\":\"white\",\"automargin\":true,\"zerolinewidth\":2},\"yaxis\":{\"gridcolor\":\"white\",\"linecolor\":\"white\",\"ticks\":\"\",\"title\":{\"standoff\":15},\"zerolinecolor\":\"white\",\"automargin\":true,\"zerolinewidth\":2},\"scene\":{\"xaxis\":{\"backgroundcolor\":\"#E5ECF6\",\"gridcolor\":\"white\",\"linecolor\":\"white\",\"showbackground\":true,\"ticks\":\"\",\"zerolinecolor\":\"white\",\"gridwidth\":2},\"yaxis\":{\"backgroundcolor\":\"#E5ECF6\",\"gridcolor\":\"white\",\"linecolor\":\"white\",\"showbackground\":true,\"ticks\":\"\",\"zerolinecolor\":\"white\",\"gridwidth\":2},\"zaxis\":{\"backgroundcolor\":\"#E5ECF6\",\"gridcolor\":\"white\",\"linecolor\":\"white\",\"showbackground\":true,\"ticks\":\"\",\"zerolinecolor\":\"white\",\"gridwidth\":2}},\"shapedefaults\":{\"line\":{\"color\":\"#2a3f5f\"}},\"annotationdefaults\":{\"arrowcolor\":\"#2a3f5f\",\"arrowhead\":0,\"arrowwidth\":1},\"geo\":{\"bgcolor\":\"white\",\"landcolor\":\"#E5ECF6\",\"subunitcolor\":\"white\",\"showland\":true,\"showlakes\":true,\"lakecolor\":\"white\"},\"title\":{\"x\":0.05},\"mapbox\":{\"style\":\"light\"}}},\"legend\":{\"tracegroupgap\":0},\"title\":{\"text\":\"\\u003cspan style=\\\"color:yellow\\\"\\u003ePie chart showing the time with high peak for cases .\\u003c\\u002fspan\\u003e\"},\"piecolorway\":[\"rgb(127, 60, 141)\",\"rgb(17, 165, 121)\",\"rgb(57, 105, 172)\",\"rgb(242, 183, 1)\",\"rgb(231, 63, 116)\",\"rgb(128, 186, 90)\",\"rgb(230, 131, 16)\",\"rgb(0, 134, 149)\",\"rgb(207, 28, 144)\",\"rgb(249, 123, 114)\",\"rgb(165, 170, 153)\"],\"width\":700},                        {\"responsive\": true}                    ).then(function(){\n",
       "                            \n",
       "var gd = document.getElementById('11a553f4-80f5-4cbf-9dec-51a4f8dbe26a');\n",
       "var x = new MutationObserver(function (mutations, observer) {{\n",
       "        var display = window.getComputedStyle(gd).display;\n",
       "        if (!display || display === 'none') {{\n",
       "            console.log([gd, 'removed!']);\n",
       "            Plotly.purge(gd);\n",
       "            observer.disconnect();\n",
       "        }}\n",
       "}});\n",
       "\n",
       "// Listen for the removal of the full notebook cells\n",
       "var notebookContainer = gd.closest('#notebook-container');\n",
       "if (notebookContainer) {{\n",
       "    x.observe(notebookContainer, {childList: true});\n",
       "}}\n",
       "\n",
       "// Listen for the clearing of the current output cell\n",
       "var outputEl = gd.closest('.output');\n",
       "if (outputEl) {{\n",
       "    x.observe(outputEl, {childList: true});\n",
       "}}\n",
       "\n",
       "                        })                };                });            </script>        </div>"
      ]
     },
     "metadata": {},
     "output_type": "display_data"
    }
   ],
   "source": [
    "fig_pie5 = px.pie(time_vv, values = 'Total number', names='Time',\n",
    "                     title = '<span style=\"color:yellow\">Pie chart showing the time with high peak for cases .</span>',width= 700,color_discrete_sequence=px.colors.qualitative.Bold)\n",
    "fig_pie5.update_traces(textposition = \"outside\", hoverinfo = 'value' )\n",
    "fig_pie5.show()"
   ]
  },
  {
   "cell_type": "code",
   "execution_count": 73,
   "metadata": {},
   "outputs": [
    {
     "data": {
      "text/html": [
       "<div>\n",
       "<style scoped>\n",
       "    .dataframe tbody tr th:only-of-type {\n",
       "        vertical-align: middle;\n",
       "    }\n",
       "\n",
       "    .dataframe tbody tr th {\n",
       "        vertical-align: top;\n",
       "    }\n",
       "\n",
       "    .dataframe thead th {\n",
       "        text-align: right;\n",
       "    }\n",
       "</style>\n",
       "<table border=\"1\" class=\"dataframe\">\n",
       "  <thead>\n",
       "    <tr style=\"text-align: right;\">\n",
       "      <th></th>\n",
       "      <th>District</th>\n",
       "      <th>Total number</th>\n",
       "    </tr>\n",
       "  </thead>\n",
       "  <tbody>\n",
       "    <tr>\n",
       "      <th>0</th>\n",
       "      <td>Baglung</td>\n",
       "      <td>2</td>\n",
       "    </tr>\n",
       "    <tr>\n",
       "      <th>1</th>\n",
       "      <td>Baitadi</td>\n",
       "      <td>1</td>\n",
       "    </tr>\n",
       "    <tr>\n",
       "      <th>2</th>\n",
       "      <td>Bajhang</td>\n",
       "      <td>1</td>\n",
       "    </tr>\n",
       "    <tr>\n",
       "      <th>3</th>\n",
       "      <td>Banke</td>\n",
       "      <td>10</td>\n",
       "    </tr>\n",
       "    <tr>\n",
       "      <th>4</th>\n",
       "      <td>Bara</td>\n",
       "      <td>8</td>\n",
       "    </tr>\n",
       "    <tr>\n",
       "      <th>...</th>\n",
       "      <td>...</td>\n",
       "      <td>...</td>\n",
       "    </tr>\n",
       "    <tr>\n",
       "      <th>61</th>\n",
       "      <td>Tanahu</td>\n",
       "      <td>6</td>\n",
       "    </tr>\n",
       "    <tr>\n",
       "      <th>62</th>\n",
       "      <td>Taplejung</td>\n",
       "      <td>1</td>\n",
       "    </tr>\n",
       "    <tr>\n",
       "      <th>63</th>\n",
       "      <td>Terhathum</td>\n",
       "      <td>5</td>\n",
       "    </tr>\n",
       "    <tr>\n",
       "      <th>64</th>\n",
       "      <td>Udayapur</td>\n",
       "      <td>12</td>\n",
       "    </tr>\n",
       "    <tr>\n",
       "      <th>65</th>\n",
       "      <td>siraha</td>\n",
       "      <td>1</td>\n",
       "    </tr>\n",
       "  </tbody>\n",
       "</table>\n",
       "<p>66 rows × 2 columns</p>\n",
       "</div>"
      ],
      "text/plain": [
       "     District  Total number\n",
       "0     Baglung             2\n",
       "1     Baitadi             1\n",
       "2     Bajhang             1\n",
       "3       Banke            10\n",
       "4        Bara             8\n",
       "..        ...           ...\n",
       "61     Tanahu             6\n",
       "62  Taplejung             1\n",
       "63  Terhathum             5\n",
       "64   Udayapur            12\n",
       "65     siraha             1\n",
       "\n",
       "[66 rows x 2 columns]"
      ]
     },
     "execution_count": 73,
     "metadata": {},
     "output_type": "execute_result"
    }
   ],
   "source": [
    "time_v1= pd.DataFrame(Time.groupby('District').size())\n",
    "time_v1.columns = ['Total number']\n",
    "time_v1.reset_index(inplace=True)\n",
    "time_v1"
   ]
  },
  {
   "cell_type": "code",
   "execution_count": 74,
   "metadata": {},
   "outputs": [
    {
     "ename": "TypeError",
     "evalue": "Column 'District' has dtype object, cannot use method 'nlargest' with this dtype",
     "output_type": "error",
     "traceback": [
      "\u001b[1;31m---------------------------------------------------------------------------\u001b[0m",
      "\u001b[1;31mTypeError\u001b[0m                                 Traceback (most recent call last)",
      "Cell \u001b[1;32mIn[74], line 1\u001b[0m\n\u001b[1;32m----> 1\u001b[0m time_v2\u001b[38;5;241m=\u001b[39m\u001b[43mtime_v1\u001b[49m\u001b[38;5;241;43m.\u001b[39;49m\u001b[43mnlargest\u001b[49m\u001b[43m(\u001b[49m\u001b[38;5;241;43m10\u001b[39;49m\u001b[43m,\u001b[49m\u001b[43m \u001b[49m\u001b[43m[\u001b[49m\u001b[38;5;124;43m'\u001b[39;49m\u001b[38;5;124;43mDistrict\u001b[39;49m\u001b[38;5;124;43m'\u001b[39;49m\u001b[43m]\u001b[49m\u001b[43m)\u001b[49m\n",
      "File \u001b[1;32m~\\AppData\\Local\\Programs\\Python\\Python311\\Lib\\site-packages\\pandas\\core\\frame.py:7203\u001b[0m, in \u001b[0;36mDataFrame.nlargest\u001b[1;34m(self, n, columns, keep)\u001b[0m\n\u001b[0;32m   7098\u001b[0m \u001b[38;5;28;01mdef\u001b[39;00m \u001b[38;5;21mnlargest\u001b[39m(\u001b[38;5;28mself\u001b[39m, n: \u001b[38;5;28mint\u001b[39m, columns: IndexLabel, keep: \u001b[38;5;28mstr\u001b[39m \u001b[38;5;241m=\u001b[39m \u001b[38;5;124m\"\u001b[39m\u001b[38;5;124mfirst\u001b[39m\u001b[38;5;124m\"\u001b[39m) \u001b[38;5;241m-\u001b[39m\u001b[38;5;241m>\u001b[39m DataFrame:\n\u001b[0;32m   7099\u001b[0m \u001b[38;5;250m    \u001b[39m\u001b[38;5;124;03m\"\"\"\u001b[39;00m\n\u001b[0;32m   7100\u001b[0m \u001b[38;5;124;03m    Return the first `n` rows ordered by `columns` in descending order.\u001b[39;00m\n\u001b[0;32m   7101\u001b[0m \n\u001b[1;32m   (...)\u001b[0m\n\u001b[0;32m   7201\u001b[0m \u001b[38;5;124;03m    Brunei      434000    12128      BN\u001b[39;00m\n\u001b[0;32m   7202\u001b[0m \u001b[38;5;124;03m    \"\"\"\u001b[39;00m\n\u001b[1;32m-> 7203\u001b[0m     \u001b[38;5;28;01mreturn\u001b[39;00m \u001b[43mselectn\u001b[49m\u001b[38;5;241;43m.\u001b[39;49m\u001b[43mSelectNFrame\u001b[49m\u001b[43m(\u001b[49m\u001b[38;5;28;43mself\u001b[39;49m\u001b[43m,\u001b[49m\u001b[43m \u001b[49m\u001b[43mn\u001b[49m\u001b[38;5;241;43m=\u001b[39;49m\u001b[43mn\u001b[49m\u001b[43m,\u001b[49m\u001b[43m \u001b[49m\u001b[43mkeep\u001b[49m\u001b[38;5;241;43m=\u001b[39;49m\u001b[43mkeep\u001b[49m\u001b[43m,\u001b[49m\u001b[43m \u001b[49m\u001b[43mcolumns\u001b[49m\u001b[38;5;241;43m=\u001b[39;49m\u001b[43mcolumns\u001b[49m\u001b[43m)\u001b[49m\u001b[38;5;241;43m.\u001b[39;49m\u001b[43mnlargest\u001b[49m\u001b[43m(\u001b[49m\u001b[43m)\u001b[49m\n",
      "File \u001b[1;32m~\\AppData\\Local\\Programs\\Python\\Python311\\Lib\\site-packages\\pandas\\core\\methods\\selectn.py:54\u001b[0m, in \u001b[0;36mSelectN.nlargest\u001b[1;34m(self)\u001b[0m\n\u001b[0;32m     52\u001b[0m \u001b[38;5;129m@final\u001b[39m\n\u001b[0;32m     53\u001b[0m \u001b[38;5;28;01mdef\u001b[39;00m \u001b[38;5;21mnlargest\u001b[39m(\u001b[38;5;28mself\u001b[39m):\n\u001b[1;32m---> 54\u001b[0m     \u001b[38;5;28;01mreturn\u001b[39;00m \u001b[38;5;28;43mself\u001b[39;49m\u001b[38;5;241;43m.\u001b[39;49m\u001b[43mcompute\u001b[49m\u001b[43m(\u001b[49m\u001b[38;5;124;43m\"\u001b[39;49m\u001b[38;5;124;43mnlargest\u001b[39;49m\u001b[38;5;124;43m\"\u001b[39;49m\u001b[43m)\u001b[49m\n",
      "File \u001b[1;32m~\\AppData\\Local\\Programs\\Python\\Python311\\Lib\\site-packages\\pandas\\core\\methods\\selectn.py:194\u001b[0m, in \u001b[0;36mSelectNFrame.compute\u001b[1;34m(self, method)\u001b[0m\n\u001b[0;32m    192\u001b[0m     dtype \u001b[38;5;241m=\u001b[39m frame[column]\u001b[38;5;241m.\u001b[39mdtype\n\u001b[0;32m    193\u001b[0m     \u001b[38;5;28;01mif\u001b[39;00m \u001b[38;5;129;01mnot\u001b[39;00m \u001b[38;5;28mself\u001b[39m\u001b[38;5;241m.\u001b[39mis_valid_dtype_n_method(dtype):\n\u001b[1;32m--> 194\u001b[0m         \u001b[38;5;28;01mraise\u001b[39;00m \u001b[38;5;167;01mTypeError\u001b[39;00m(\n\u001b[0;32m    195\u001b[0m             \u001b[38;5;124mf\u001b[39m\u001b[38;5;124m\"\u001b[39m\u001b[38;5;124mColumn \u001b[39m\u001b[38;5;132;01m{\u001b[39;00m\u001b[38;5;28mrepr\u001b[39m(column)\u001b[38;5;132;01m}\u001b[39;00m\u001b[38;5;124m has dtype \u001b[39m\u001b[38;5;132;01m{\u001b[39;00mdtype\u001b[38;5;132;01m}\u001b[39;00m\u001b[38;5;124m, \u001b[39m\u001b[38;5;124m\"\u001b[39m\n\u001b[0;32m    196\u001b[0m             \u001b[38;5;124mf\u001b[39m\u001b[38;5;124m\"\u001b[39m\u001b[38;5;124mcannot use method \u001b[39m\u001b[38;5;132;01m{\u001b[39;00m\u001b[38;5;28mrepr\u001b[39m(method)\u001b[38;5;132;01m}\u001b[39;00m\u001b[38;5;124m with this dtype\u001b[39m\u001b[38;5;124m\"\u001b[39m\n\u001b[0;32m    197\u001b[0m         )\n\u001b[0;32m    199\u001b[0m \u001b[38;5;28;01mdef\u001b[39;00m \u001b[38;5;21mget_indexer\u001b[39m(current_indexer, other_indexer):\n\u001b[0;32m    200\u001b[0m \u001b[38;5;250m    \u001b[39m\u001b[38;5;124;03m\"\"\"\u001b[39;00m\n\u001b[0;32m    201\u001b[0m \u001b[38;5;124;03m    Helper function to concat `current_indexer` and `other_indexer`\u001b[39;00m\n\u001b[0;32m    202\u001b[0m \u001b[38;5;124;03m    depending on `method`\u001b[39;00m\n\u001b[0;32m    203\u001b[0m \u001b[38;5;124;03m    \"\"\"\u001b[39;00m\n",
      "\u001b[1;31mTypeError\u001b[0m: Column 'District' has dtype object, cannot use method 'nlargest' with this dtype"
     ]
    }
   ],
   "source": [
    "time_v2=time_v1.nlargest(10, ['District'])"
   ]
  },
  {
   "cell_type": "code",
   "execution_count": null,
   "metadata": {},
   "outputs": [],
   "source": []
  },
  {
   "cell_type": "code",
   "execution_count": 89,
   "metadata": {},
   "outputs": [
    {
     "data": {
      "application/vnd.plotly.v1+json": {
       "config": {
        "plotlyServerURL": "https://plot.ly"
       },
       "data": [
        {
         "hovertemplate": "Time=1<br>District=%{x}<br>value=%{y}<extra></extra>",
         "legendgroup": "1",
         "line": {
          "color": "#636efa",
          "dash": "solid"
         },
         "marker": {
          "symbol": "circle"
         },
         "mode": "markers+lines",
         "name": "1",
         "showlegend": true,
         "type": "scattergl",
         "visible": true,
         "x": [
          "Baglung",
          "Baitadi",
          "Bajhang",
          "Banke",
          "Bara",
          "Bardiya",
          "Bhaktapur",
          "Bhojpur",
          "Chitwan",
          "Dailekh",
          "Dang",
          "Darchula",
          "Dhading",
          "Dhankuta",
          "Dhanusa",
          "Dolpa",
          "Gorkha",
          "Gulmi",
          "Humla",
          "Ilam",
          "Jhapa",
          "Jumla",
          "Kailali",
          "Kalikot",
          "Kanchanpur",
          "Kapilvastu",
          "Kaski",
          "Kathmandu",
          "Kavrepalanchok",
          "Khotang",
          "Lalitpur",
          "Lamjung",
          "Mahottari",
          "Makwanpur",
          "Morang",
          "Myagdi",
          "Nawalpur",
          "Nuwakot",
          "Okhaldhunga",
          "Palpa",
          "Panchthar",
          "Parasi",
          "Parbat",
          "Parsa",
          "Ramechhap",
          "Rasuwa",
          "Rautahat",
          "Rolpa",
          "Rukum",
          "Rukum East",
          "Rukum West",
          "Rupandehi",
          "Salyan",
          "Saptari",
          "Sarlahi",
          "Sindhuli",
          "Sindhupalchok",
          "Siraha",
          "Sunsari",
          "Surkhet",
          "Syangja",
          "Tanahu",
          "Taplejung",
          "Terhathum",
          "Udayapur",
          "siraha"
         ],
         "xaxis": "x",
         "y": [
          0,
          0,
          0,
          0,
          0,
          0,
          0,
          0,
          0,
          0,
          0,
          0,
          0,
          0,
          0,
          0,
          0,
          0,
          0,
          0,
          0,
          0,
          0,
          0,
          0,
          0,
          0,
          0,
          0,
          0,
          0,
          1,
          0,
          0,
          0,
          0,
          0,
          0,
          0,
          0,
          0,
          0,
          0,
          0,
          0,
          0,
          1,
          0,
          0,
          0,
          0,
          0,
          0,
          0,
          0,
          0,
          0,
          0,
          0,
          0,
          0,
          0,
          0,
          0,
          0,
          0
         ],
         "yaxis": "y"
        },
        {
         "hovertemplate": "Time=2<br>District=%{x}<br>value=%{y}<extra></extra>",
         "legendgroup": "2",
         "line": {
          "color": "#EF553B",
          "dash": "solid"
         },
         "marker": {
          "symbol": "circle"
         },
         "mode": "markers+lines",
         "name": "2",
         "showlegend": true,
         "type": "scattergl",
         "visible": "legendonly",
         "x": [
          "Baglung",
          "Baitadi",
          "Bajhang",
          "Banke",
          "Bara",
          "Bardiya",
          "Bhaktapur",
          "Bhojpur",
          "Chitwan",
          "Dailekh",
          "Dang",
          "Darchula",
          "Dhading",
          "Dhankuta",
          "Dhanusa",
          "Dolpa",
          "Gorkha",
          "Gulmi",
          "Humla",
          "Ilam",
          "Jhapa",
          "Jumla",
          "Kailali",
          "Kalikot",
          "Kanchanpur",
          "Kapilvastu",
          "Kaski",
          "Kathmandu",
          "Kavrepalanchok",
          "Khotang",
          "Lalitpur",
          "Lamjung",
          "Mahottari",
          "Makwanpur",
          "Morang",
          "Myagdi",
          "Nawalpur",
          "Nuwakot",
          "Okhaldhunga",
          "Palpa",
          "Panchthar",
          "Parasi",
          "Parbat",
          "Parsa",
          "Ramechhap",
          "Rasuwa",
          "Rautahat",
          "Rolpa",
          "Rukum",
          "Rukum East",
          "Rukum West",
          "Rupandehi",
          "Salyan",
          "Saptari",
          "Sarlahi",
          "Sindhuli",
          "Sindhupalchok",
          "Siraha",
          "Sunsari",
          "Surkhet",
          "Syangja",
          "Tanahu",
          "Taplejung",
          "Terhathum",
          "Udayapur",
          "siraha"
         ],
         "xaxis": "x",
         "y": [
          2,
          0,
          0,
          6,
          3,
          3,
          3,
          1,
          1,
          1,
          5,
          1,
          0,
          1,
          2,
          1,
          1,
          0,
          1,
          1,
          4,
          0,
          7,
          1,
          3,
          5,
          3,
          8,
          1,
          3,
          2,
          0,
          1,
          1,
          2,
          1,
          0,
          1,
          1,
          2,
          1,
          0,
          0,
          1,
          1,
          0,
          9,
          1,
          0,
          1,
          2,
          2,
          0,
          5,
          1,
          2,
          1,
          4,
          3,
          0,
          1,
          2,
          0,
          1,
          5,
          0
         ],
         "yaxis": "y"
        },
        {
         "hovertemplate": "Time=4<br>District=%{x}<br>value=%{y}<extra></extra>",
         "legendgroup": "4",
         "line": {
          "color": "#00cc96",
          "dash": "solid"
         },
         "marker": {
          "symbol": "circle"
         },
         "mode": "markers+lines",
         "name": "4",
         "showlegend": true,
         "type": "scattergl",
         "visible": "legendonly",
         "x": [
          "Baglung",
          "Baitadi",
          "Bajhang",
          "Banke",
          "Bara",
          "Bardiya",
          "Bhaktapur",
          "Bhojpur",
          "Chitwan",
          "Dailekh",
          "Dang",
          "Darchula",
          "Dhading",
          "Dhankuta",
          "Dhanusa",
          "Dolpa",
          "Gorkha",
          "Gulmi",
          "Humla",
          "Ilam",
          "Jhapa",
          "Jumla",
          "Kailali",
          "Kalikot",
          "Kanchanpur",
          "Kapilvastu",
          "Kaski",
          "Kathmandu",
          "Kavrepalanchok",
          "Khotang",
          "Lalitpur",
          "Lamjung",
          "Mahottari",
          "Makwanpur",
          "Morang",
          "Myagdi",
          "Nawalpur",
          "Nuwakot",
          "Okhaldhunga",
          "Palpa",
          "Panchthar",
          "Parasi",
          "Parbat",
          "Parsa",
          "Ramechhap",
          "Rasuwa",
          "Rautahat",
          "Rolpa",
          "Rukum",
          "Rukum East",
          "Rukum West",
          "Rupandehi",
          "Salyan",
          "Saptari",
          "Sarlahi",
          "Sindhuli",
          "Sindhupalchok",
          "Siraha",
          "Sunsari",
          "Surkhet",
          "Syangja",
          "Tanahu",
          "Taplejung",
          "Terhathum",
          "Udayapur",
          "siraha"
         ],
         "xaxis": "x",
         "y": [
          0,
          0,
          0,
          0,
          0,
          0,
          0,
          1,
          0,
          0,
          0,
          0,
          0,
          0,
          0,
          0,
          0,
          0,
          0,
          0,
          0,
          0,
          0,
          0,
          0,
          0,
          0,
          0,
          0,
          0,
          0,
          0,
          0,
          0,
          0,
          0,
          0,
          0,
          0,
          0,
          0,
          0,
          0,
          0,
          0,
          0,
          0,
          0,
          0,
          0,
          0,
          0,
          0,
          0,
          0,
          0,
          0,
          0,
          0,
          0,
          0,
          0,
          0,
          0,
          0,
          0
         ],
         "yaxis": "y"
        },
        {
         "hovertemplate": "Time=5<br>District=%{x}<br>value=%{y}<extra></extra>",
         "legendgroup": "5",
         "line": {
          "color": "#ab63fa",
          "dash": "solid"
         },
         "marker": {
          "symbol": "circle"
         },
         "mode": "markers+lines",
         "name": "5",
         "showlegend": true,
         "type": "scattergl",
         "visible": "legendonly",
         "x": [
          "Baglung",
          "Baitadi",
          "Bajhang",
          "Banke",
          "Bara",
          "Bardiya",
          "Bhaktapur",
          "Bhojpur",
          "Chitwan",
          "Dailekh",
          "Dang",
          "Darchula",
          "Dhading",
          "Dhankuta",
          "Dhanusa",
          "Dolpa",
          "Gorkha",
          "Gulmi",
          "Humla",
          "Ilam",
          "Jhapa",
          "Jumla",
          "Kailali",
          "Kalikot",
          "Kanchanpur",
          "Kapilvastu",
          "Kaski",
          "Kathmandu",
          "Kavrepalanchok",
          "Khotang",
          "Lalitpur",
          "Lamjung",
          "Mahottari",
          "Makwanpur",
          "Morang",
          "Myagdi",
          "Nawalpur",
          "Nuwakot",
          "Okhaldhunga",
          "Palpa",
          "Panchthar",
          "Parasi",
          "Parbat",
          "Parsa",
          "Ramechhap",
          "Rasuwa",
          "Rautahat",
          "Rolpa",
          "Rukum",
          "Rukum East",
          "Rukum West",
          "Rupandehi",
          "Salyan",
          "Saptari",
          "Sarlahi",
          "Sindhuli",
          "Sindhupalchok",
          "Siraha",
          "Sunsari",
          "Surkhet",
          "Syangja",
          "Tanahu",
          "Taplejung",
          "Terhathum",
          "Udayapur",
          "siraha"
         ],
         "xaxis": "x",
         "y": [
          0,
          0,
          0,
          0,
          0,
          0,
          0,
          0,
          0,
          0,
          0,
          0,
          0,
          0,
          0,
          0,
          0,
          0,
          0,
          0,
          0,
          0,
          0,
          0,
          0,
          0,
          0,
          0,
          0,
          0,
          0,
          0,
          0,
          0,
          0,
          0,
          0,
          0,
          0,
          0,
          0,
          0,
          0,
          0,
          0,
          0,
          0,
          0,
          0,
          0,
          0,
          0,
          0,
          0,
          0,
          0,
          0,
          0,
          0,
          1,
          0,
          0,
          0,
          0,
          0,
          0
         ],
         "yaxis": "y"
        },
        {
         "hovertemplate": "Time=7<br>District=%{x}<br>value=%{y}<extra></extra>",
         "legendgroup": "7",
         "line": {
          "color": "#FFA15A",
          "dash": "solid"
         },
         "marker": {
          "symbol": "circle"
         },
         "mode": "markers+lines",
         "name": "7",
         "showlegend": true,
         "type": "scattergl",
         "visible": "legendonly",
         "x": [
          "Baglung",
          "Baitadi",
          "Bajhang",
          "Banke",
          "Bara",
          "Bardiya",
          "Bhaktapur",
          "Bhojpur",
          "Chitwan",
          "Dailekh",
          "Dang",
          "Darchula",
          "Dhading",
          "Dhankuta",
          "Dhanusa",
          "Dolpa",
          "Gorkha",
          "Gulmi",
          "Humla",
          "Ilam",
          "Jhapa",
          "Jumla",
          "Kailali",
          "Kalikot",
          "Kanchanpur",
          "Kapilvastu",
          "Kaski",
          "Kathmandu",
          "Kavrepalanchok",
          "Khotang",
          "Lalitpur",
          "Lamjung",
          "Mahottari",
          "Makwanpur",
          "Morang",
          "Myagdi",
          "Nawalpur",
          "Nuwakot",
          "Okhaldhunga",
          "Palpa",
          "Panchthar",
          "Parasi",
          "Parbat",
          "Parsa",
          "Ramechhap",
          "Rasuwa",
          "Rautahat",
          "Rolpa",
          "Rukum",
          "Rukum East",
          "Rukum West",
          "Rupandehi",
          "Salyan",
          "Saptari",
          "Sarlahi",
          "Sindhuli",
          "Sindhupalchok",
          "Siraha",
          "Sunsari",
          "Surkhet",
          "Syangja",
          "Tanahu",
          "Taplejung",
          "Terhathum",
          "Udayapur",
          "siraha"
         ],
         "xaxis": "x",
         "y": [
          0,
          0,
          0,
          0,
          0,
          0,
          0,
          0,
          0,
          0,
          0,
          0,
          0,
          0,
          0,
          0,
          0,
          0,
          0,
          0,
          1,
          0,
          0,
          0,
          1,
          0,
          0,
          0,
          0,
          0,
          0,
          0,
          0,
          0,
          0,
          0,
          0,
          0,
          0,
          0,
          0,
          0,
          0,
          0,
          0,
          0,
          1,
          0,
          0,
          0,
          0,
          0,
          0,
          0,
          0,
          0,
          0,
          0,
          0,
          0,
          0,
          0,
          0,
          0,
          1,
          0
         ],
         "yaxis": "y"
        },
        {
         "hovertemplate": "Time=8<br>District=%{x}<br>value=%{y}<extra></extra>",
         "legendgroup": "8",
         "line": {
          "color": "#19d3f3",
          "dash": "solid"
         },
         "marker": {
          "symbol": "circle"
         },
         "mode": "markers+lines",
         "name": "8",
         "showlegend": true,
         "type": "scattergl",
         "visible": true,
         "x": [
          "Baglung",
          "Baitadi",
          "Bajhang",
          "Banke",
          "Bara",
          "Bardiya",
          "Bhaktapur",
          "Bhojpur",
          "Chitwan",
          "Dailekh",
          "Dang",
          "Darchula",
          "Dhading",
          "Dhankuta",
          "Dhanusa",
          "Dolpa",
          "Gorkha",
          "Gulmi",
          "Humla",
          "Ilam",
          "Jhapa",
          "Jumla",
          "Kailali",
          "Kalikot",
          "Kanchanpur",
          "Kapilvastu",
          "Kaski",
          "Kathmandu",
          "Kavrepalanchok",
          "Khotang",
          "Lalitpur",
          "Lamjung",
          "Mahottari",
          "Makwanpur",
          "Morang",
          "Myagdi",
          "Nawalpur",
          "Nuwakot",
          "Okhaldhunga",
          "Palpa",
          "Panchthar",
          "Parasi",
          "Parbat",
          "Parsa",
          "Ramechhap",
          "Rasuwa",
          "Rautahat",
          "Rolpa",
          "Rukum",
          "Rukum East",
          "Rukum West",
          "Rupandehi",
          "Salyan",
          "Saptari",
          "Sarlahi",
          "Sindhuli",
          "Sindhupalchok",
          "Siraha",
          "Sunsari",
          "Surkhet",
          "Syangja",
          "Tanahu",
          "Taplejung",
          "Terhathum",
          "Udayapur",
          "siraha"
         ],
         "xaxis": "x",
         "y": [
          0,
          0,
          0,
          0,
          0,
          0,
          0,
          0,
          0,
          0,
          0,
          0,
          0,
          1,
          0,
          0,
          0,
          0,
          0,
          0,
          0,
          0,
          0,
          0,
          0,
          0,
          0,
          0,
          0,
          0,
          0,
          0,
          0,
          0,
          0,
          0,
          0,
          0,
          0,
          0,
          0,
          1,
          0,
          0,
          0,
          0,
          0,
          0,
          0,
          0,
          0,
          0,
          0,
          0,
          0,
          0,
          0,
          0,
          0,
          0,
          0,
          0,
          0,
          0,
          0,
          0
         ],
         "yaxis": "y"
        },
        {
         "hovertemplate": "Time=9<br>District=%{x}<br>value=%{y}<extra></extra>",
         "legendgroup": "9",
         "line": {
          "color": "#FF6692",
          "dash": "solid"
         },
         "marker": {
          "symbol": "circle"
         },
         "mode": "markers+lines",
         "name": "9",
         "showlegend": true,
         "type": "scattergl",
         "visible": "legendonly",
         "x": [
          "Baglung",
          "Baitadi",
          "Bajhang",
          "Banke",
          "Bara",
          "Bardiya",
          "Bhaktapur",
          "Bhojpur",
          "Chitwan",
          "Dailekh",
          "Dang",
          "Darchula",
          "Dhading",
          "Dhankuta",
          "Dhanusa",
          "Dolpa",
          "Gorkha",
          "Gulmi",
          "Humla",
          "Ilam",
          "Jhapa",
          "Jumla",
          "Kailali",
          "Kalikot",
          "Kanchanpur",
          "Kapilvastu",
          "Kaski",
          "Kathmandu",
          "Kavrepalanchok",
          "Khotang",
          "Lalitpur",
          "Lamjung",
          "Mahottari",
          "Makwanpur",
          "Morang",
          "Myagdi",
          "Nawalpur",
          "Nuwakot",
          "Okhaldhunga",
          "Palpa",
          "Panchthar",
          "Parasi",
          "Parbat",
          "Parsa",
          "Ramechhap",
          "Rasuwa",
          "Rautahat",
          "Rolpa",
          "Rukum",
          "Rukum East",
          "Rukum West",
          "Rupandehi",
          "Salyan",
          "Saptari",
          "Sarlahi",
          "Sindhuli",
          "Sindhupalchok",
          "Siraha",
          "Sunsari",
          "Surkhet",
          "Syangja",
          "Tanahu",
          "Taplejung",
          "Terhathum",
          "Udayapur",
          "siraha"
         ],
         "xaxis": "x",
         "y": [
          0,
          0,
          0,
          1,
          1,
          0,
          0,
          0,
          0,
          0,
          1,
          0,
          1,
          0,
          0,
          0,
          0,
          0,
          0,
          1,
          1,
          0,
          0,
          0,
          1,
          0,
          1,
          0,
          0,
          0,
          0,
          0,
          0,
          1,
          1,
          0,
          0,
          0,
          0,
          1,
          0,
          0,
          0,
          2,
          0,
          0,
          0,
          0,
          0,
          0,
          0,
          1,
          0,
          0,
          1,
          1,
          0,
          1,
          0,
          0,
          0,
          1,
          0,
          0,
          1,
          1
         ],
         "yaxis": "y"
        },
        {
         "hovertemplate": "Time=10<br>District=%{x}<br>value=%{y}<extra></extra>",
         "legendgroup": "10",
         "line": {
          "color": "#B6E880",
          "dash": "solid"
         },
         "marker": {
          "symbol": "circle"
         },
         "mode": "markers+lines",
         "name": "10",
         "showlegend": true,
         "type": "scattergl",
         "visible": true,
         "x": [
          "Baglung",
          "Baitadi",
          "Bajhang",
          "Banke",
          "Bara",
          "Bardiya",
          "Bhaktapur",
          "Bhojpur",
          "Chitwan",
          "Dailekh",
          "Dang",
          "Darchula",
          "Dhading",
          "Dhankuta",
          "Dhanusa",
          "Dolpa",
          "Gorkha",
          "Gulmi",
          "Humla",
          "Ilam",
          "Jhapa",
          "Jumla",
          "Kailali",
          "Kalikot",
          "Kanchanpur",
          "Kapilvastu",
          "Kaski",
          "Kathmandu",
          "Kavrepalanchok",
          "Khotang",
          "Lalitpur",
          "Lamjung",
          "Mahottari",
          "Makwanpur",
          "Morang",
          "Myagdi",
          "Nawalpur",
          "Nuwakot",
          "Okhaldhunga",
          "Palpa",
          "Panchthar",
          "Parasi",
          "Parbat",
          "Parsa",
          "Ramechhap",
          "Rasuwa",
          "Rautahat",
          "Rolpa",
          "Rukum",
          "Rukum East",
          "Rukum West",
          "Rupandehi",
          "Salyan",
          "Saptari",
          "Sarlahi",
          "Sindhuli",
          "Sindhupalchok",
          "Siraha",
          "Sunsari",
          "Surkhet",
          "Syangja",
          "Tanahu",
          "Taplejung",
          "Terhathum",
          "Udayapur",
          "siraha"
         ],
         "xaxis": "x",
         "y": [
          0,
          0,
          0,
          1,
          0,
          0,
          0,
          0,
          0,
          0,
          1,
          0,
          0,
          0,
          0,
          0,
          0,
          0,
          0,
          0,
          0,
          0,
          0,
          0,
          0,
          0,
          0,
          1,
          0,
          0,
          0,
          0,
          0,
          0,
          1,
          0,
          0,
          0,
          0,
          0,
          0,
          0,
          0,
          0,
          0,
          0,
          0,
          0,
          0,
          0,
          0,
          0,
          0,
          0,
          0,
          0,
          0,
          0,
          0,
          0,
          0,
          0,
          0,
          0,
          0,
          0
         ],
         "yaxis": "y"
        },
        {
         "hovertemplate": "Time=11<br>District=%{x}<br>value=%{y}<extra></extra>",
         "legendgroup": "11",
         "line": {
          "color": "#FF97FF",
          "dash": "solid"
         },
         "marker": {
          "symbol": "circle"
         },
         "mode": "markers+lines",
         "name": "11",
         "showlegend": true,
         "type": "scattergl",
         "visible": "legendonly",
         "x": [
          "Baglung",
          "Baitadi",
          "Bajhang",
          "Banke",
          "Bara",
          "Bardiya",
          "Bhaktapur",
          "Bhojpur",
          "Chitwan",
          "Dailekh",
          "Dang",
          "Darchula",
          "Dhading",
          "Dhankuta",
          "Dhanusa",
          "Dolpa",
          "Gorkha",
          "Gulmi",
          "Humla",
          "Ilam",
          "Jhapa",
          "Jumla",
          "Kailali",
          "Kalikot",
          "Kanchanpur",
          "Kapilvastu",
          "Kaski",
          "Kathmandu",
          "Kavrepalanchok",
          "Khotang",
          "Lalitpur",
          "Lamjung",
          "Mahottari",
          "Makwanpur",
          "Morang",
          "Myagdi",
          "Nawalpur",
          "Nuwakot",
          "Okhaldhunga",
          "Palpa",
          "Panchthar",
          "Parasi",
          "Parbat",
          "Parsa",
          "Ramechhap",
          "Rasuwa",
          "Rautahat",
          "Rolpa",
          "Rukum",
          "Rukum East",
          "Rukum West",
          "Rupandehi",
          "Salyan",
          "Saptari",
          "Sarlahi",
          "Sindhuli",
          "Sindhupalchok",
          "Siraha",
          "Sunsari",
          "Surkhet",
          "Syangja",
          "Tanahu",
          "Taplejung",
          "Terhathum",
          "Udayapur",
          "siraha"
         ],
         "xaxis": "x",
         "y": [
          0,
          0,
          0,
          0,
          0,
          0,
          1,
          0,
          0,
          0,
          0,
          0,
          0,
          0,
          0,
          0,
          0,
          0,
          0,
          0,
          0,
          0,
          0,
          0,
          0,
          0,
          0,
          1,
          0,
          0,
          0,
          0,
          0,
          0,
          1,
          0,
          0,
          0,
          0,
          0,
          0,
          0,
          0,
          0,
          0,
          0,
          0,
          0,
          0,
          0,
          0,
          0,
          0,
          0,
          1,
          0,
          0,
          0,
          0,
          0,
          0,
          0,
          0,
          0,
          0,
          0
         ],
         "yaxis": "y"
        },
        {
         "hovertemplate": "Time=12<br>District=%{x}<br>value=%{y}<extra></extra>",
         "legendgroup": "12",
         "line": {
          "color": "#FECB52",
          "dash": "solid"
         },
         "marker": {
          "symbol": "circle"
         },
         "mode": "markers+lines",
         "name": "12",
         "showlegend": true,
         "type": "scattergl",
         "visible": "legendonly",
         "x": [
          "Baglung",
          "Baitadi",
          "Bajhang",
          "Banke",
          "Bara",
          "Bardiya",
          "Bhaktapur",
          "Bhojpur",
          "Chitwan",
          "Dailekh",
          "Dang",
          "Darchula",
          "Dhading",
          "Dhankuta",
          "Dhanusa",
          "Dolpa",
          "Gorkha",
          "Gulmi",
          "Humla",
          "Ilam",
          "Jhapa",
          "Jumla",
          "Kailali",
          "Kalikot",
          "Kanchanpur",
          "Kapilvastu",
          "Kaski",
          "Kathmandu",
          "Kavrepalanchok",
          "Khotang",
          "Lalitpur",
          "Lamjung",
          "Mahottari",
          "Makwanpur",
          "Morang",
          "Myagdi",
          "Nawalpur",
          "Nuwakot",
          "Okhaldhunga",
          "Palpa",
          "Panchthar",
          "Parasi",
          "Parbat",
          "Parsa",
          "Ramechhap",
          "Rasuwa",
          "Rautahat",
          "Rolpa",
          "Rukum",
          "Rukum East",
          "Rukum West",
          "Rupandehi",
          "Salyan",
          "Saptari",
          "Sarlahi",
          "Sindhuli",
          "Sindhupalchok",
          "Siraha",
          "Sunsari",
          "Surkhet",
          "Syangja",
          "Tanahu",
          "Taplejung",
          "Terhathum",
          "Udayapur",
          "siraha"
         ],
         "xaxis": "x",
         "y": [
          0,
          0,
          0,
          0,
          0,
          0,
          0,
          1,
          0,
          0,
          0,
          0,
          0,
          0,
          0,
          0,
          0,
          0,
          0,
          0,
          0,
          0,
          0,
          0,
          0,
          0,
          0,
          1,
          0,
          0,
          0,
          0,
          0,
          0,
          0,
          0,
          0,
          0,
          0,
          0,
          0,
          0,
          0,
          0,
          0,
          0,
          0,
          0,
          0,
          0,
          0,
          0,
          0,
          0,
          0,
          0,
          0,
          0,
          1,
          0,
          0,
          0,
          0,
          1,
          0,
          0
         ],
         "yaxis": "y"
        },
        {
         "hovertemplate": "Time=13<br>District=%{x}<br>value=%{y}<extra></extra>",
         "legendgroup": "13",
         "line": {
          "color": "#636efa",
          "dash": "solid"
         },
         "marker": {
          "symbol": "circle"
         },
         "mode": "markers+lines",
         "name": "13",
         "showlegend": true,
         "type": "scattergl",
         "visible": "legendonly",
         "x": [
          "Baglung",
          "Baitadi",
          "Bajhang",
          "Banke",
          "Bara",
          "Bardiya",
          "Bhaktapur",
          "Bhojpur",
          "Chitwan",
          "Dailekh",
          "Dang",
          "Darchula",
          "Dhading",
          "Dhankuta",
          "Dhanusa",
          "Dolpa",
          "Gorkha",
          "Gulmi",
          "Humla",
          "Ilam",
          "Jhapa",
          "Jumla",
          "Kailali",
          "Kalikot",
          "Kanchanpur",
          "Kapilvastu",
          "Kaski",
          "Kathmandu",
          "Kavrepalanchok",
          "Khotang",
          "Lalitpur",
          "Lamjung",
          "Mahottari",
          "Makwanpur",
          "Morang",
          "Myagdi",
          "Nawalpur",
          "Nuwakot",
          "Okhaldhunga",
          "Palpa",
          "Panchthar",
          "Parasi",
          "Parbat",
          "Parsa",
          "Ramechhap",
          "Rasuwa",
          "Rautahat",
          "Rolpa",
          "Rukum",
          "Rukum East",
          "Rukum West",
          "Rupandehi",
          "Salyan",
          "Saptari",
          "Sarlahi",
          "Sindhuli",
          "Sindhupalchok",
          "Siraha",
          "Sunsari",
          "Surkhet",
          "Syangja",
          "Tanahu",
          "Taplejung",
          "Terhathum",
          "Udayapur",
          "siraha"
         ],
         "xaxis": "x",
         "y": [
          0,
          0,
          0,
          0,
          1,
          0,
          0,
          0,
          0,
          0,
          0,
          0,
          0,
          0,
          0,
          0,
          0,
          0,
          0,
          0,
          0,
          0,
          0,
          0,
          0,
          0,
          0,
          1,
          0,
          0,
          0,
          0,
          0,
          0,
          0,
          0,
          0,
          0,
          0,
          0,
          0,
          0,
          0,
          0,
          0,
          0,
          0,
          0,
          0,
          0,
          0,
          0,
          0,
          0,
          0,
          0,
          0,
          0,
          0,
          0,
          0,
          0,
          0,
          1,
          0,
          0
         ],
         "yaxis": "y"
        },
        {
         "hovertemplate": "Time=14<br>District=%{x}<br>value=%{y}<extra></extra>",
         "legendgroup": "14",
         "line": {
          "color": "#EF553B",
          "dash": "solid"
         },
         "marker": {
          "symbol": "circle"
         },
         "mode": "markers+lines",
         "name": "14",
         "showlegend": true,
         "type": "scattergl",
         "visible": "legendonly",
         "x": [
          "Baglung",
          "Baitadi",
          "Bajhang",
          "Banke",
          "Bara",
          "Bardiya",
          "Bhaktapur",
          "Bhojpur",
          "Chitwan",
          "Dailekh",
          "Dang",
          "Darchula",
          "Dhading",
          "Dhankuta",
          "Dhanusa",
          "Dolpa",
          "Gorkha",
          "Gulmi",
          "Humla",
          "Ilam",
          "Jhapa",
          "Jumla",
          "Kailali",
          "Kalikot",
          "Kanchanpur",
          "Kapilvastu",
          "Kaski",
          "Kathmandu",
          "Kavrepalanchok",
          "Khotang",
          "Lalitpur",
          "Lamjung",
          "Mahottari",
          "Makwanpur",
          "Morang",
          "Myagdi",
          "Nawalpur",
          "Nuwakot",
          "Okhaldhunga",
          "Palpa",
          "Panchthar",
          "Parasi",
          "Parbat",
          "Parsa",
          "Ramechhap",
          "Rasuwa",
          "Rautahat",
          "Rolpa",
          "Rukum",
          "Rukum East",
          "Rukum West",
          "Rupandehi",
          "Salyan",
          "Saptari",
          "Sarlahi",
          "Sindhuli",
          "Sindhupalchok",
          "Siraha",
          "Sunsari",
          "Surkhet",
          "Syangja",
          "Tanahu",
          "Taplejung",
          "Terhathum",
          "Udayapur",
          "siraha"
         ],
         "xaxis": "x",
         "y": [
          0,
          0,
          0,
          1,
          2,
          0,
          0,
          1,
          0,
          0,
          3,
          0,
          0,
          1,
          0,
          0,
          0,
          0,
          0,
          0,
          0,
          0,
          1,
          0,
          1,
          0,
          0,
          2,
          0,
          0,
          0,
          0,
          0,
          0,
          2,
          0,
          0,
          1,
          1,
          0,
          2,
          1,
          0,
          1,
          0,
          1,
          1,
          0,
          0,
          1,
          0,
          1,
          0,
          1,
          0,
          1,
          0,
          1,
          1,
          0,
          0,
          1,
          1,
          2,
          1,
          0
         ],
         "yaxis": "y"
        },
        {
         "hovertemplate": "Time=15<br>District=%{x}<br>value=%{y}<extra></extra>",
         "legendgroup": "15",
         "line": {
          "color": "#00cc96",
          "dash": "solid"
         },
         "marker": {
          "symbol": "circle"
         },
         "mode": "markers+lines",
         "name": "15",
         "showlegend": true,
         "type": "scattergl",
         "visible": "legendonly",
         "x": [
          "Baglung",
          "Baitadi",
          "Bajhang",
          "Banke",
          "Bara",
          "Bardiya",
          "Bhaktapur",
          "Bhojpur",
          "Chitwan",
          "Dailekh",
          "Dang",
          "Darchula",
          "Dhading",
          "Dhankuta",
          "Dhanusa",
          "Dolpa",
          "Gorkha",
          "Gulmi",
          "Humla",
          "Ilam",
          "Jhapa",
          "Jumla",
          "Kailali",
          "Kalikot",
          "Kanchanpur",
          "Kapilvastu",
          "Kaski",
          "Kathmandu",
          "Kavrepalanchok",
          "Khotang",
          "Lalitpur",
          "Lamjung",
          "Mahottari",
          "Makwanpur",
          "Morang",
          "Myagdi",
          "Nawalpur",
          "Nuwakot",
          "Okhaldhunga",
          "Palpa",
          "Panchthar",
          "Parasi",
          "Parbat",
          "Parsa",
          "Ramechhap",
          "Rasuwa",
          "Rautahat",
          "Rolpa",
          "Rukum",
          "Rukum East",
          "Rukum West",
          "Rupandehi",
          "Salyan",
          "Saptari",
          "Sarlahi",
          "Sindhuli",
          "Sindhupalchok",
          "Siraha",
          "Sunsari",
          "Surkhet",
          "Syangja",
          "Tanahu",
          "Taplejung",
          "Terhathum",
          "Udayapur",
          "siraha"
         ],
         "xaxis": "x",
         "y": [
          0,
          0,
          0,
          0,
          0,
          0,
          0,
          0,
          0,
          0,
          0,
          0,
          0,
          0,
          0,
          0,
          0,
          0,
          0,
          0,
          0,
          0,
          0,
          0,
          0,
          0,
          0,
          0,
          0,
          0,
          0,
          0,
          0,
          0,
          1,
          0,
          0,
          0,
          0,
          1,
          0,
          0,
          0,
          0,
          0,
          0,
          0,
          0,
          0,
          0,
          0,
          0,
          0,
          0,
          0,
          0,
          0,
          1,
          0,
          0,
          1,
          0,
          0,
          0,
          0,
          0
         ],
         "yaxis": "y"
        },
        {
         "hovertemplate": "Time=16<br>District=%{x}<br>value=%{y}<extra></extra>",
         "legendgroup": "16",
         "line": {
          "color": "#ab63fa",
          "dash": "solid"
         },
         "marker": {
          "symbol": "circle"
         },
         "mode": "markers+lines",
         "name": "16",
         "showlegend": true,
         "type": "scattergl",
         "visible": "legendonly",
         "x": [
          "Baglung",
          "Baitadi",
          "Bajhang",
          "Banke",
          "Bara",
          "Bardiya",
          "Bhaktapur",
          "Bhojpur",
          "Chitwan",
          "Dailekh",
          "Dang",
          "Darchula",
          "Dhading",
          "Dhankuta",
          "Dhanusa",
          "Dolpa",
          "Gorkha",
          "Gulmi",
          "Humla",
          "Ilam",
          "Jhapa",
          "Jumla",
          "Kailali",
          "Kalikot",
          "Kanchanpur",
          "Kapilvastu",
          "Kaski",
          "Kathmandu",
          "Kavrepalanchok",
          "Khotang",
          "Lalitpur",
          "Lamjung",
          "Mahottari",
          "Makwanpur",
          "Morang",
          "Myagdi",
          "Nawalpur",
          "Nuwakot",
          "Okhaldhunga",
          "Palpa",
          "Panchthar",
          "Parasi",
          "Parbat",
          "Parsa",
          "Ramechhap",
          "Rasuwa",
          "Rautahat",
          "Rolpa",
          "Rukum",
          "Rukum East",
          "Rukum West",
          "Rupandehi",
          "Salyan",
          "Saptari",
          "Sarlahi",
          "Sindhuli",
          "Sindhupalchok",
          "Siraha",
          "Sunsari",
          "Surkhet",
          "Syangja",
          "Tanahu",
          "Taplejung",
          "Terhathum",
          "Udayapur",
          "siraha"
         ],
         "xaxis": "x",
         "y": [
          0,
          0,
          0,
          0,
          0,
          0,
          0,
          0,
          1,
          0,
          0,
          0,
          0,
          0,
          0,
          0,
          0,
          0,
          0,
          0,
          1,
          0,
          0,
          0,
          0,
          1,
          0,
          0,
          0,
          0,
          0,
          0,
          0,
          1,
          0,
          0,
          0,
          0,
          0,
          1,
          0,
          0,
          0,
          0,
          0,
          0,
          0,
          0,
          0,
          0,
          0,
          0,
          0,
          0,
          0,
          0,
          0,
          0,
          0,
          0,
          0,
          0,
          0,
          0,
          0,
          0
         ],
         "yaxis": "y"
        },
        {
         "hovertemplate": "Time=17<br>District=%{x}<br>value=%{y}<extra></extra>",
         "legendgroup": "17",
         "line": {
          "color": "#FFA15A",
          "dash": "solid"
         },
         "marker": {
          "symbol": "circle"
         },
         "mode": "markers+lines",
         "name": "17",
         "showlegend": true,
         "type": "scattergl",
         "visible": "legendonly",
         "x": [
          "Baglung",
          "Baitadi",
          "Bajhang",
          "Banke",
          "Bara",
          "Bardiya",
          "Bhaktapur",
          "Bhojpur",
          "Chitwan",
          "Dailekh",
          "Dang",
          "Darchula",
          "Dhading",
          "Dhankuta",
          "Dhanusa",
          "Dolpa",
          "Gorkha",
          "Gulmi",
          "Humla",
          "Ilam",
          "Jhapa",
          "Jumla",
          "Kailali",
          "Kalikot",
          "Kanchanpur",
          "Kapilvastu",
          "Kaski",
          "Kathmandu",
          "Kavrepalanchok",
          "Khotang",
          "Lalitpur",
          "Lamjung",
          "Mahottari",
          "Makwanpur",
          "Morang",
          "Myagdi",
          "Nawalpur",
          "Nuwakot",
          "Okhaldhunga",
          "Palpa",
          "Panchthar",
          "Parasi",
          "Parbat",
          "Parsa",
          "Ramechhap",
          "Rasuwa",
          "Rautahat",
          "Rolpa",
          "Rukum",
          "Rukum East",
          "Rukum West",
          "Rupandehi",
          "Salyan",
          "Saptari",
          "Sarlahi",
          "Sindhuli",
          "Sindhupalchok",
          "Siraha",
          "Sunsari",
          "Surkhet",
          "Syangja",
          "Tanahu",
          "Taplejung",
          "Terhathum",
          "Udayapur",
          "siraha"
         ],
         "xaxis": "x",
         "y": [
          0,
          1,
          0,
          0,
          0,
          0,
          0,
          0,
          0,
          0,
          0,
          0,
          0,
          0,
          0,
          0,
          0,
          0,
          0,
          0,
          0,
          0,
          0,
          0,
          0,
          0,
          0,
          1,
          0,
          0,
          0,
          0,
          0,
          0,
          1,
          0,
          0,
          0,
          0,
          0,
          0,
          0,
          0,
          0,
          0,
          0,
          0,
          0,
          0,
          0,
          0,
          0,
          0,
          0,
          0,
          0,
          0,
          0,
          0,
          0,
          0,
          0,
          0,
          0,
          0,
          0
         ],
         "yaxis": "y"
        },
        {
         "hovertemplate": "Time=18<br>District=%{x}<br>value=%{y}<extra></extra>",
         "legendgroup": "18",
         "line": {
          "color": "#19d3f3",
          "dash": "solid"
         },
         "marker": {
          "symbol": "circle"
         },
         "mode": "markers+lines",
         "name": "18",
         "showlegend": true,
         "type": "scattergl",
         "visible": "legendonly",
         "x": [
          "Baglung",
          "Baitadi",
          "Bajhang",
          "Banke",
          "Bara",
          "Bardiya",
          "Bhaktapur",
          "Bhojpur",
          "Chitwan",
          "Dailekh",
          "Dang",
          "Darchula",
          "Dhading",
          "Dhankuta",
          "Dhanusa",
          "Dolpa",
          "Gorkha",
          "Gulmi",
          "Humla",
          "Ilam",
          "Jhapa",
          "Jumla",
          "Kailali",
          "Kalikot",
          "Kanchanpur",
          "Kapilvastu",
          "Kaski",
          "Kathmandu",
          "Kavrepalanchok",
          "Khotang",
          "Lalitpur",
          "Lamjung",
          "Mahottari",
          "Makwanpur",
          "Morang",
          "Myagdi",
          "Nawalpur",
          "Nuwakot",
          "Okhaldhunga",
          "Palpa",
          "Panchthar",
          "Parasi",
          "Parbat",
          "Parsa",
          "Ramechhap",
          "Rasuwa",
          "Rautahat",
          "Rolpa",
          "Rukum",
          "Rukum East",
          "Rukum West",
          "Rupandehi",
          "Salyan",
          "Saptari",
          "Sarlahi",
          "Sindhuli",
          "Sindhupalchok",
          "Siraha",
          "Sunsari",
          "Surkhet",
          "Syangja",
          "Tanahu",
          "Taplejung",
          "Terhathum",
          "Udayapur",
          "siraha"
         ],
         "xaxis": "x",
         "y": [
          0,
          0,
          0,
          0,
          0,
          0,
          0,
          0,
          0,
          0,
          2,
          0,
          0,
          0,
          0,
          0,
          0,
          0,
          0,
          0,
          0,
          0,
          0,
          0,
          0,
          0,
          0,
          3,
          1,
          0,
          0,
          0,
          0,
          0,
          1,
          0,
          0,
          0,
          0,
          0,
          0,
          0,
          0,
          0,
          0,
          0,
          0,
          0,
          0,
          0,
          0,
          0,
          0,
          0,
          0,
          0,
          0,
          0,
          0,
          0,
          0,
          0,
          0,
          0,
          0,
          0
         ],
         "yaxis": "y"
        },
        {
         "hovertemplate": "Time=19<br>District=%{x}<br>value=%{y}<extra></extra>",
         "legendgroup": "19",
         "line": {
          "color": "#FF6692",
          "dash": "solid"
         },
         "marker": {
          "symbol": "circle"
         },
         "mode": "markers+lines",
         "name": "19",
         "showlegend": true,
         "type": "scattergl",
         "visible": "legendonly",
         "x": [
          "Baglung",
          "Baitadi",
          "Bajhang",
          "Banke",
          "Bara",
          "Bardiya",
          "Bhaktapur",
          "Bhojpur",
          "Chitwan",
          "Dailekh",
          "Dang",
          "Darchula",
          "Dhading",
          "Dhankuta",
          "Dhanusa",
          "Dolpa",
          "Gorkha",
          "Gulmi",
          "Humla",
          "Ilam",
          "Jhapa",
          "Jumla",
          "Kailali",
          "Kalikot",
          "Kanchanpur",
          "Kapilvastu",
          "Kaski",
          "Kathmandu",
          "Kavrepalanchok",
          "Khotang",
          "Lalitpur",
          "Lamjung",
          "Mahottari",
          "Makwanpur",
          "Morang",
          "Myagdi",
          "Nawalpur",
          "Nuwakot",
          "Okhaldhunga",
          "Palpa",
          "Panchthar",
          "Parasi",
          "Parbat",
          "Parsa",
          "Ramechhap",
          "Rasuwa",
          "Rautahat",
          "Rolpa",
          "Rukum",
          "Rukum East",
          "Rukum West",
          "Rupandehi",
          "Salyan",
          "Saptari",
          "Sarlahi",
          "Sindhuli",
          "Sindhupalchok",
          "Siraha",
          "Sunsari",
          "Surkhet",
          "Syangja",
          "Tanahu",
          "Taplejung",
          "Terhathum",
          "Udayapur",
          "siraha"
         ],
         "xaxis": "x",
         "y": [
          0,
          0,
          0,
          0,
          1,
          0,
          0,
          0,
          0,
          0,
          1,
          0,
          0,
          0,
          0,
          0,
          0,
          1,
          0,
          0,
          3,
          0,
          0,
          0,
          0,
          0,
          1,
          0,
          1,
          0,
          0,
          0,
          0,
          0,
          0,
          0,
          0,
          0,
          0,
          0,
          0,
          0,
          0,
          0,
          0,
          0,
          0,
          0,
          0,
          0,
          0,
          1,
          0,
          0,
          0,
          0,
          0,
          0,
          1,
          0,
          0,
          0,
          0,
          0,
          0,
          0
         ],
         "yaxis": "y"
        },
        {
         "hovertemplate": "Time=20<br>District=%{x}<br>value=%{y}<extra></extra>",
         "legendgroup": "20",
         "line": {
          "color": "#B6E880",
          "dash": "solid"
         },
         "marker": {
          "symbol": "circle"
         },
         "mode": "markers+lines",
         "name": "20",
         "showlegend": true,
         "type": "scattergl",
         "visible": "legendonly",
         "x": [
          "Baglung",
          "Baitadi",
          "Bajhang",
          "Banke",
          "Bara",
          "Bardiya",
          "Bhaktapur",
          "Bhojpur",
          "Chitwan",
          "Dailekh",
          "Dang",
          "Darchula",
          "Dhading",
          "Dhankuta",
          "Dhanusa",
          "Dolpa",
          "Gorkha",
          "Gulmi",
          "Humla",
          "Ilam",
          "Jhapa",
          "Jumla",
          "Kailali",
          "Kalikot",
          "Kanchanpur",
          "Kapilvastu",
          "Kaski",
          "Kathmandu",
          "Kavrepalanchok",
          "Khotang",
          "Lalitpur",
          "Lamjung",
          "Mahottari",
          "Makwanpur",
          "Morang",
          "Myagdi",
          "Nawalpur",
          "Nuwakot",
          "Okhaldhunga",
          "Palpa",
          "Panchthar",
          "Parasi",
          "Parbat",
          "Parsa",
          "Ramechhap",
          "Rasuwa",
          "Rautahat",
          "Rolpa",
          "Rukum",
          "Rukum East",
          "Rukum West",
          "Rupandehi",
          "Salyan",
          "Saptari",
          "Sarlahi",
          "Sindhuli",
          "Sindhupalchok",
          "Siraha",
          "Sunsari",
          "Surkhet",
          "Syangja",
          "Tanahu",
          "Taplejung",
          "Terhathum",
          "Udayapur",
          "siraha"
         ],
         "xaxis": "x",
         "y": [
          0,
          0,
          0,
          1,
          0,
          1,
          1,
          0,
          0,
          0,
          2,
          0,
          0,
          0,
          0,
          0,
          0,
          2,
          0,
          0,
          4,
          1,
          0,
          0,
          1,
          0,
          0,
          3,
          0,
          1,
          1,
          0,
          2,
          2,
          2,
          3,
          2,
          0,
          0,
          0,
          1,
          1,
          1,
          2,
          0,
          0,
          1,
          0,
          2,
          0,
          1,
          1,
          1,
          0,
          0,
          0,
          0,
          0,
          2,
          0,
          0,
          2,
          0,
          0,
          4,
          0
         ],
         "yaxis": "y"
        },
        {
         "hovertemplate": "Time=21<br>District=%{x}<br>value=%{y}<extra></extra>",
         "legendgroup": "21",
         "line": {
          "color": "#FF97FF",
          "dash": "solid"
         },
         "marker": {
          "symbol": "circle"
         },
         "mode": "markers+lines",
         "name": "21",
         "showlegend": true,
         "type": "scattergl",
         "visible": "legendonly",
         "x": [
          "Baglung",
          "Baitadi",
          "Bajhang",
          "Banke",
          "Bara",
          "Bardiya",
          "Bhaktapur",
          "Bhojpur",
          "Chitwan",
          "Dailekh",
          "Dang",
          "Darchula",
          "Dhading",
          "Dhankuta",
          "Dhanusa",
          "Dolpa",
          "Gorkha",
          "Gulmi",
          "Humla",
          "Ilam",
          "Jhapa",
          "Jumla",
          "Kailali",
          "Kalikot",
          "Kanchanpur",
          "Kapilvastu",
          "Kaski",
          "Kathmandu",
          "Kavrepalanchok",
          "Khotang",
          "Lalitpur",
          "Lamjung",
          "Mahottari",
          "Makwanpur",
          "Morang",
          "Myagdi",
          "Nawalpur",
          "Nuwakot",
          "Okhaldhunga",
          "Palpa",
          "Panchthar",
          "Parasi",
          "Parbat",
          "Parsa",
          "Ramechhap",
          "Rasuwa",
          "Rautahat",
          "Rolpa",
          "Rukum",
          "Rukum East",
          "Rukum West",
          "Rupandehi",
          "Salyan",
          "Saptari",
          "Sarlahi",
          "Sindhuli",
          "Sindhupalchok",
          "Siraha",
          "Sunsari",
          "Surkhet",
          "Syangja",
          "Tanahu",
          "Taplejung",
          "Terhathum",
          "Udayapur",
          "siraha"
         ],
         "xaxis": "x",
         "y": [
          0,
          0,
          0,
          0,
          0,
          0,
          0,
          0,
          0,
          0,
          1,
          0,
          0,
          0,
          0,
          0,
          0,
          0,
          0,
          0,
          1,
          0,
          0,
          0,
          0,
          0,
          0,
          2,
          0,
          0,
          0,
          0,
          0,
          0,
          0,
          0,
          0,
          0,
          0,
          0,
          0,
          0,
          0,
          0,
          0,
          0,
          1,
          0,
          0,
          0,
          1,
          0,
          0,
          1,
          0,
          0,
          0,
          0,
          0,
          0,
          0,
          0,
          0,
          0,
          0,
          0
         ],
         "yaxis": "y"
        },
        {
         "hovertemplate": "Time=22<br>District=%{x}<br>value=%{y}<extra></extra>",
         "legendgroup": "22",
         "line": {
          "color": "#FECB52",
          "dash": "solid"
         },
         "marker": {
          "symbol": "circle"
         },
         "mode": "markers+lines",
         "name": "22",
         "showlegend": true,
         "type": "scattergl",
         "visible": "legendonly",
         "x": [
          "Baglung",
          "Baitadi",
          "Bajhang",
          "Banke",
          "Bara",
          "Bardiya",
          "Bhaktapur",
          "Bhojpur",
          "Chitwan",
          "Dailekh",
          "Dang",
          "Darchula",
          "Dhading",
          "Dhankuta",
          "Dhanusa",
          "Dolpa",
          "Gorkha",
          "Gulmi",
          "Humla",
          "Ilam",
          "Jhapa",
          "Jumla",
          "Kailali",
          "Kalikot",
          "Kanchanpur",
          "Kapilvastu",
          "Kaski",
          "Kathmandu",
          "Kavrepalanchok",
          "Khotang",
          "Lalitpur",
          "Lamjung",
          "Mahottari",
          "Makwanpur",
          "Morang",
          "Myagdi",
          "Nawalpur",
          "Nuwakot",
          "Okhaldhunga",
          "Palpa",
          "Panchthar",
          "Parasi",
          "Parbat",
          "Parsa",
          "Ramechhap",
          "Rasuwa",
          "Rautahat",
          "Rolpa",
          "Rukum",
          "Rukum East",
          "Rukum West",
          "Rupandehi",
          "Salyan",
          "Saptari",
          "Sarlahi",
          "Sindhuli",
          "Sindhupalchok",
          "Siraha",
          "Sunsari",
          "Surkhet",
          "Syangja",
          "Tanahu",
          "Taplejung",
          "Terhathum",
          "Udayapur",
          "siraha"
         ],
         "xaxis": "x",
         "y": [
          0,
          0,
          0,
          0,
          0,
          0,
          0,
          0,
          0,
          0,
          0,
          0,
          0,
          0,
          0,
          0,
          0,
          0,
          0,
          0,
          0,
          0,
          0,
          0,
          0,
          0,
          0,
          1,
          0,
          0,
          0,
          0,
          0,
          0,
          0,
          0,
          0,
          0,
          0,
          0,
          0,
          0,
          0,
          0,
          0,
          0,
          0,
          0,
          1,
          0,
          0,
          0,
          0,
          1,
          0,
          0,
          0,
          0,
          1,
          0,
          0,
          0,
          0,
          0,
          0,
          0
         ],
         "yaxis": "y"
        },
        {
         "hovertemplate": "Time=23<br>District=%{x}<br>value=%{y}<extra></extra>",
         "legendgroup": "23",
         "line": {
          "color": "#636efa",
          "dash": "solid"
         },
         "marker": {
          "symbol": "circle"
         },
         "mode": "markers+lines",
         "name": "23",
         "showlegend": true,
         "type": "scattergl",
         "visible": "legendonly",
         "x": [
          "Baglung",
          "Baitadi",
          "Bajhang",
          "Banke",
          "Bara",
          "Bardiya",
          "Bhaktapur",
          "Bhojpur",
          "Chitwan",
          "Dailekh",
          "Dang",
          "Darchula",
          "Dhading",
          "Dhankuta",
          "Dhanusa",
          "Dolpa",
          "Gorkha",
          "Gulmi",
          "Humla",
          "Ilam",
          "Jhapa",
          "Jumla",
          "Kailali",
          "Kalikot",
          "Kanchanpur",
          "Kapilvastu",
          "Kaski",
          "Kathmandu",
          "Kavrepalanchok",
          "Khotang",
          "Lalitpur",
          "Lamjung",
          "Mahottari",
          "Makwanpur",
          "Morang",
          "Myagdi",
          "Nawalpur",
          "Nuwakot",
          "Okhaldhunga",
          "Palpa",
          "Panchthar",
          "Parasi",
          "Parbat",
          "Parsa",
          "Ramechhap",
          "Rasuwa",
          "Rautahat",
          "Rolpa",
          "Rukum",
          "Rukum East",
          "Rukum West",
          "Rupandehi",
          "Salyan",
          "Saptari",
          "Sarlahi",
          "Sindhuli",
          "Sindhupalchok",
          "Siraha",
          "Sunsari",
          "Surkhet",
          "Syangja",
          "Tanahu",
          "Taplejung",
          "Terhathum",
          "Udayapur",
          "siraha"
         ],
         "xaxis": "x",
         "y": [
          0,
          0,
          1,
          0,
          0,
          0,
          0,
          0,
          0,
          0,
          1,
          0,
          0,
          0,
          1,
          0,
          0,
          0,
          0,
          0,
          0,
          0,
          0,
          0,
          0,
          0,
          0,
          0,
          0,
          0,
          0,
          0,
          0,
          0,
          0,
          0,
          0,
          0,
          0,
          0,
          0,
          0,
          0,
          0,
          0,
          0,
          1,
          0,
          0,
          0,
          0,
          0,
          0,
          0,
          0,
          0,
          0,
          0,
          0,
          0,
          0,
          0,
          0,
          0,
          0,
          0
         ],
         "yaxis": "y"
        }
       ],
       "layout": {
        "height": 360,
        "legend": {
         "title": {
          "text": "Time"
         },
         "tracegroupgap": 0
        },
        "template": {
         "data": {
          "bar": [
           {
            "error_x": {
             "color": "#2a3f5f"
            },
            "error_y": {
             "color": "#2a3f5f"
            },
            "marker": {
             "line": {
              "color": "#E5ECF6",
              "width": 0.5
             },
             "pattern": {
              "fillmode": "overlay",
              "size": 10,
              "solidity": 0.2
             }
            },
            "type": "bar"
           }
          ],
          "barpolar": [
           {
            "marker": {
             "line": {
              "color": "#E5ECF6",
              "width": 0.5
             },
             "pattern": {
              "fillmode": "overlay",
              "size": 10,
              "solidity": 0.2
             }
            },
            "type": "barpolar"
           }
          ],
          "carpet": [
           {
            "aaxis": {
             "endlinecolor": "#2a3f5f",
             "gridcolor": "white",
             "linecolor": "white",
             "minorgridcolor": "white",
             "startlinecolor": "#2a3f5f"
            },
            "baxis": {
             "endlinecolor": "#2a3f5f",
             "gridcolor": "white",
             "linecolor": "white",
             "minorgridcolor": "white",
             "startlinecolor": "#2a3f5f"
            },
            "type": "carpet"
           }
          ],
          "choropleth": [
           {
            "colorbar": {
             "outlinewidth": 0,
             "ticks": ""
            },
            "type": "choropleth"
           }
          ],
          "contour": [
           {
            "colorbar": {
             "outlinewidth": 0,
             "ticks": ""
            },
            "colorscale": [
             [
              0,
              "#0d0887"
             ],
             [
              0.1111111111111111,
              "#46039f"
             ],
             [
              0.2222222222222222,
              "#7201a8"
             ],
             [
              0.3333333333333333,
              "#9c179e"
             ],
             [
              0.4444444444444444,
              "#bd3786"
             ],
             [
              0.5555555555555556,
              "#d8576b"
             ],
             [
              0.6666666666666666,
              "#ed7953"
             ],
             [
              0.7777777777777778,
              "#fb9f3a"
             ],
             [
              0.8888888888888888,
              "#fdca26"
             ],
             [
              1,
              "#f0f921"
             ]
            ],
            "type": "contour"
           }
          ],
          "contourcarpet": [
           {
            "colorbar": {
             "outlinewidth": 0,
             "ticks": ""
            },
            "type": "contourcarpet"
           }
          ],
          "heatmap": [
           {
            "colorbar": {
             "outlinewidth": 0,
             "ticks": ""
            },
            "colorscale": [
             [
              0,
              "#0d0887"
             ],
             [
              0.1111111111111111,
              "#46039f"
             ],
             [
              0.2222222222222222,
              "#7201a8"
             ],
             [
              0.3333333333333333,
              "#9c179e"
             ],
             [
              0.4444444444444444,
              "#bd3786"
             ],
             [
              0.5555555555555556,
              "#d8576b"
             ],
             [
              0.6666666666666666,
              "#ed7953"
             ],
             [
              0.7777777777777778,
              "#fb9f3a"
             ],
             [
              0.8888888888888888,
              "#fdca26"
             ],
             [
              1,
              "#f0f921"
             ]
            ],
            "type": "heatmap"
           }
          ],
          "heatmapgl": [
           {
            "colorbar": {
             "outlinewidth": 0,
             "ticks": ""
            },
            "colorscale": [
             [
              0,
              "#0d0887"
             ],
             [
              0.1111111111111111,
              "#46039f"
             ],
             [
              0.2222222222222222,
              "#7201a8"
             ],
             [
              0.3333333333333333,
              "#9c179e"
             ],
             [
              0.4444444444444444,
              "#bd3786"
             ],
             [
              0.5555555555555556,
              "#d8576b"
             ],
             [
              0.6666666666666666,
              "#ed7953"
             ],
             [
              0.7777777777777778,
              "#fb9f3a"
             ],
             [
              0.8888888888888888,
              "#fdca26"
             ],
             [
              1,
              "#f0f921"
             ]
            ],
            "type": "heatmapgl"
           }
          ],
          "histogram": [
           {
            "marker": {
             "pattern": {
              "fillmode": "overlay",
              "size": 10,
              "solidity": 0.2
             }
            },
            "type": "histogram"
           }
          ],
          "histogram2d": [
           {
            "colorbar": {
             "outlinewidth": 0,
             "ticks": ""
            },
            "colorscale": [
             [
              0,
              "#0d0887"
             ],
             [
              0.1111111111111111,
              "#46039f"
             ],
             [
              0.2222222222222222,
              "#7201a8"
             ],
             [
              0.3333333333333333,
              "#9c179e"
             ],
             [
              0.4444444444444444,
              "#bd3786"
             ],
             [
              0.5555555555555556,
              "#d8576b"
             ],
             [
              0.6666666666666666,
              "#ed7953"
             ],
             [
              0.7777777777777778,
              "#fb9f3a"
             ],
             [
              0.8888888888888888,
              "#fdca26"
             ],
             [
              1,
              "#f0f921"
             ]
            ],
            "type": "histogram2d"
           }
          ],
          "histogram2dcontour": [
           {
            "colorbar": {
             "outlinewidth": 0,
             "ticks": ""
            },
            "colorscale": [
             [
              0,
              "#0d0887"
             ],
             [
              0.1111111111111111,
              "#46039f"
             ],
             [
              0.2222222222222222,
              "#7201a8"
             ],
             [
              0.3333333333333333,
              "#9c179e"
             ],
             [
              0.4444444444444444,
              "#bd3786"
             ],
             [
              0.5555555555555556,
              "#d8576b"
             ],
             [
              0.6666666666666666,
              "#ed7953"
             ],
             [
              0.7777777777777778,
              "#fb9f3a"
             ],
             [
              0.8888888888888888,
              "#fdca26"
             ],
             [
              1,
              "#f0f921"
             ]
            ],
            "type": "histogram2dcontour"
           }
          ],
          "mesh3d": [
           {
            "colorbar": {
             "outlinewidth": 0,
             "ticks": ""
            },
            "type": "mesh3d"
           }
          ],
          "parcoords": [
           {
            "line": {
             "colorbar": {
              "outlinewidth": 0,
              "ticks": ""
             }
            },
            "type": "parcoords"
           }
          ],
          "pie": [
           {
            "automargin": true,
            "type": "pie"
           }
          ],
          "scatter": [
           {
            "fillpattern": {
             "fillmode": "overlay",
             "size": 10,
             "solidity": 0.2
            },
            "type": "scatter"
           }
          ],
          "scatter3d": [
           {
            "line": {
             "colorbar": {
              "outlinewidth": 0,
              "ticks": ""
             }
            },
            "marker": {
             "colorbar": {
              "outlinewidth": 0,
              "ticks": ""
             }
            },
            "type": "scatter3d"
           }
          ],
          "scattercarpet": [
           {
            "marker": {
             "colorbar": {
              "outlinewidth": 0,
              "ticks": ""
             }
            },
            "type": "scattercarpet"
           }
          ],
          "scattergeo": [
           {
            "marker": {
             "colorbar": {
              "outlinewidth": 0,
              "ticks": ""
             }
            },
            "type": "scattergeo"
           }
          ],
          "scattergl": [
           {
            "marker": {
             "colorbar": {
              "outlinewidth": 0,
              "ticks": ""
             }
            },
            "type": "scattergl"
           }
          ],
          "scattermapbox": [
           {
            "marker": {
             "colorbar": {
              "outlinewidth": 0,
              "ticks": ""
             }
            },
            "type": "scattermapbox"
           }
          ],
          "scatterpolar": [
           {
            "marker": {
             "colorbar": {
              "outlinewidth": 0,
              "ticks": ""
             }
            },
            "type": "scatterpolar"
           }
          ],
          "scatterpolargl": [
           {
            "marker": {
             "colorbar": {
              "outlinewidth": 0,
              "ticks": ""
             }
            },
            "type": "scatterpolargl"
           }
          ],
          "scatterternary": [
           {
            "marker": {
             "colorbar": {
              "outlinewidth": 0,
              "ticks": ""
             }
            },
            "type": "scatterternary"
           }
          ],
          "surface": [
           {
            "colorbar": {
             "outlinewidth": 0,
             "ticks": ""
            },
            "colorscale": [
             [
              0,
              "#0d0887"
             ],
             [
              0.1111111111111111,
              "#46039f"
             ],
             [
              0.2222222222222222,
              "#7201a8"
             ],
             [
              0.3333333333333333,
              "#9c179e"
             ],
             [
              0.4444444444444444,
              "#bd3786"
             ],
             [
              0.5555555555555556,
              "#d8576b"
             ],
             [
              0.6666666666666666,
              "#ed7953"
             ],
             [
              0.7777777777777778,
              "#fb9f3a"
             ],
             [
              0.8888888888888888,
              "#fdca26"
             ],
             [
              1,
              "#f0f921"
             ]
            ],
            "type": "surface"
           }
          ],
          "table": [
           {
            "cells": {
             "fill": {
              "color": "#EBF0F8"
             },
             "line": {
              "color": "white"
             }
            },
            "header": {
             "fill": {
              "color": "#C8D4E3"
             },
             "line": {
              "color": "white"
             }
            },
            "type": "table"
           }
          ]
         },
         "layout": {
          "annotationdefaults": {
           "arrowcolor": "#2a3f5f",
           "arrowhead": 0,
           "arrowwidth": 1
          },
          "autotypenumbers": "strict",
          "coloraxis": {
           "colorbar": {
            "outlinewidth": 0,
            "ticks": ""
           }
          },
          "colorscale": {
           "diverging": [
            [
             0,
             "#8e0152"
            ],
            [
             0.1,
             "#c51b7d"
            ],
            [
             0.2,
             "#de77ae"
            ],
            [
             0.3,
             "#f1b6da"
            ],
            [
             0.4,
             "#fde0ef"
            ],
            [
             0.5,
             "#f7f7f7"
            ],
            [
             0.6,
             "#e6f5d0"
            ],
            [
             0.7,
             "#b8e186"
            ],
            [
             0.8,
             "#7fbc41"
            ],
            [
             0.9,
             "#4d9221"
            ],
            [
             1,
             "#276419"
            ]
           ],
           "sequential": [
            [
             0,
             "#0d0887"
            ],
            [
             0.1111111111111111,
             "#46039f"
            ],
            [
             0.2222222222222222,
             "#7201a8"
            ],
            [
             0.3333333333333333,
             "#9c179e"
            ],
            [
             0.4444444444444444,
             "#bd3786"
            ],
            [
             0.5555555555555556,
             "#d8576b"
            ],
            [
             0.6666666666666666,
             "#ed7953"
            ],
            [
             0.7777777777777778,
             "#fb9f3a"
            ],
            [
             0.8888888888888888,
             "#fdca26"
            ],
            [
             1,
             "#f0f921"
            ]
           ],
           "sequentialminus": [
            [
             0,
             "#0d0887"
            ],
            [
             0.1111111111111111,
             "#46039f"
            ],
            [
             0.2222222222222222,
             "#7201a8"
            ],
            [
             0.3333333333333333,
             "#9c179e"
            ],
            [
             0.4444444444444444,
             "#bd3786"
            ],
            [
             0.5555555555555556,
             "#d8576b"
            ],
            [
             0.6666666666666666,
             "#ed7953"
            ],
            [
             0.7777777777777778,
             "#fb9f3a"
            ],
            [
             0.8888888888888888,
             "#fdca26"
            ],
            [
             1,
             "#f0f921"
            ]
           ]
          },
          "colorway": [
           "#636efa",
           "#EF553B",
           "#00cc96",
           "#ab63fa",
           "#FFA15A",
           "#19d3f3",
           "#FF6692",
           "#B6E880",
           "#FF97FF",
           "#FECB52"
          ],
          "font": {
           "color": "#2a3f5f"
          },
          "geo": {
           "bgcolor": "white",
           "lakecolor": "white",
           "landcolor": "#E5ECF6",
           "showlakes": true,
           "showland": true,
           "subunitcolor": "white"
          },
          "hoverlabel": {
           "align": "left"
          },
          "hovermode": "closest",
          "mapbox": {
           "style": "light"
          },
          "paper_bgcolor": "white",
          "plot_bgcolor": "#E5ECF6",
          "polar": {
           "angularaxis": {
            "gridcolor": "white",
            "linecolor": "white",
            "ticks": ""
           },
           "bgcolor": "#E5ECF6",
           "radialaxis": {
            "gridcolor": "white",
            "linecolor": "white",
            "ticks": ""
           }
          },
          "scene": {
           "xaxis": {
            "backgroundcolor": "#E5ECF6",
            "gridcolor": "white",
            "gridwidth": 2,
            "linecolor": "white",
            "showbackground": true,
            "ticks": "",
            "zerolinecolor": "white"
           },
           "yaxis": {
            "backgroundcolor": "#E5ECF6",
            "gridcolor": "white",
            "gridwidth": 2,
            "linecolor": "white",
            "showbackground": true,
            "ticks": "",
            "zerolinecolor": "white"
           },
           "zaxis": {
            "backgroundcolor": "#E5ECF6",
            "gridcolor": "white",
            "gridwidth": 2,
            "linecolor": "white",
            "showbackground": true,
            "ticks": "",
            "zerolinecolor": "white"
           }
          },
          "shapedefaults": {
           "line": {
            "color": "#2a3f5f"
           }
          },
          "ternary": {
           "aaxis": {
            "gridcolor": "white",
            "linecolor": "white",
            "ticks": ""
           },
           "baxis": {
            "gridcolor": "white",
            "linecolor": "white",
            "ticks": ""
           },
           "bgcolor": "#E5ECF6",
           "caxis": {
            "gridcolor": "white",
            "linecolor": "white",
            "ticks": ""
           }
          },
          "title": {
           "x": 0.05
          },
          "xaxis": {
           "automargin": true,
           "gridcolor": "white",
           "linecolor": "white",
           "ticks": "",
           "title": {
            "standoff": 15
           },
           "zerolinecolor": "white",
           "zerolinewidth": 2
          },
          "yaxis": {
           "automargin": true,
           "gridcolor": "white",
           "linecolor": "white",
           "ticks": "",
           "title": {
            "standoff": 15
           },
           "zerolinecolor": "white",
           "zerolinewidth": 2
          }
         }
        },
        "title": {
         "text": "Line plot of District by time"
        },
        "width": 850,
        "xaxis": {
         "anchor": "y",
         "autorange": true,
         "domain": [
          0,
          1
         ],
         "range": [
          -4.057147562582345,
          69.05714756258234
         ],
         "showgrid": false,
         "showline": false,
         "title": {
          "text": "District"
         },
         "type": "category"
        },
        "yaxis": {
         "anchor": "x",
         "autorange": true,
         "domain": [
          0,
          1
         ],
         "range": [
          -0.09701492537313433,
          1.0970149253731343
         ],
         "title": {
          "text": "value"
         },
         "type": "linear"
        }
       }
      },
      "text/html": [
       "<div>                            <div id=\"d32110f0-a025-437a-a496-b345e24219aa\" class=\"plotly-graph-div\" style=\"height:525px; width:850px;\"></div>            <script type=\"text/javascript\">                require([\"plotly\"], function(Plotly) {                    window.PLOTLYENV=window.PLOTLYENV || {};                                    if (document.getElementById(\"d32110f0-a025-437a-a496-b345e24219aa\")) {                    Plotly.newPlot(                        \"d32110f0-a025-437a-a496-b345e24219aa\",                        [{\"hovertemplate\":\"Time=1\\u003cbr\\u003eDistrict=%{x}\\u003cbr\\u003evalue=%{y}\\u003cextra\\u003e\\u003c\\u002fextra\\u003e\",\"legendgroup\":\"1\",\"line\":{\"color\":\"#636efa\",\"dash\":\"solid\"},\"marker\":{\"symbol\":\"circle\"},\"mode\":\"markers+lines\",\"name\":\"1\",\"showlegend\":true,\"x\":[\"Baglung\",\"Baitadi\",\"Bajhang\",\"Banke\",\"Bara\",\"Bardiya\",\"Bhaktapur\",\"Bhojpur\",\"Chitwan\",\"Dailekh\",\"Dang\",\"Darchula\",\"Dhading\",\"Dhankuta\",\"Dhanusa\",\"Dolpa\",\"Gorkha\",\"Gulmi\",\"Humla\",\"Ilam\",\"Jhapa\",\"Jumla\",\"Kailali\",\"Kalikot\",\"Kanchanpur\",\"Kapilvastu\",\"Kaski\",\"Kathmandu\",\"Kavrepalanchok\",\"Khotang\",\"Lalitpur\",\"Lamjung\",\"Mahottari\",\"Makwanpur\",\"Morang\",\"Myagdi\",\"Nawalpur\",\"Nuwakot\",\"Okhaldhunga\",\"Palpa\",\"Panchthar\",\"Parasi\",\"Parbat\",\"Parsa\",\"Ramechhap\",\"Rasuwa\",\"Rautahat\",\"Rolpa\",\"Rukum\",\"Rukum East\",\"Rukum West\",\"Rupandehi\",\"Salyan\",\"Saptari\",\"Sarlahi\",\"Sindhuli\",\"Sindhupalchok\",\"Siraha\",\"Sunsari\",\"Surkhet\",\"Syangja\",\"Tanahu\",\"Taplejung\",\"Terhathum\",\"Udayapur\",\"siraha\"],\"xaxis\":\"x\",\"y\":[0,0,0,0,0,0,0,0,0,0,0,0,0,0,0,0,0,0,0,0,0,0,0,0,0,0,0,0,0,0,0,1,0,0,0,0,0,0,0,0,0,0,0,0,0,0,1,0,0,0,0,0,0,0,0,0,0,0,0,0,0,0,0,0,0,0],\"yaxis\":\"y\",\"type\":\"scattergl\"},{\"hovertemplate\":\"Time=2\\u003cbr\\u003eDistrict=%{x}\\u003cbr\\u003evalue=%{y}\\u003cextra\\u003e\\u003c\\u002fextra\\u003e\",\"legendgroup\":\"2\",\"line\":{\"color\":\"#EF553B\",\"dash\":\"solid\"},\"marker\":{\"symbol\":\"circle\"},\"mode\":\"markers+lines\",\"name\":\"2\",\"showlegend\":true,\"x\":[\"Baglung\",\"Baitadi\",\"Bajhang\",\"Banke\",\"Bara\",\"Bardiya\",\"Bhaktapur\",\"Bhojpur\",\"Chitwan\",\"Dailekh\",\"Dang\",\"Darchula\",\"Dhading\",\"Dhankuta\",\"Dhanusa\",\"Dolpa\",\"Gorkha\",\"Gulmi\",\"Humla\",\"Ilam\",\"Jhapa\",\"Jumla\",\"Kailali\",\"Kalikot\",\"Kanchanpur\",\"Kapilvastu\",\"Kaski\",\"Kathmandu\",\"Kavrepalanchok\",\"Khotang\",\"Lalitpur\",\"Lamjung\",\"Mahottari\",\"Makwanpur\",\"Morang\",\"Myagdi\",\"Nawalpur\",\"Nuwakot\",\"Okhaldhunga\",\"Palpa\",\"Panchthar\",\"Parasi\",\"Parbat\",\"Parsa\",\"Ramechhap\",\"Rasuwa\",\"Rautahat\",\"Rolpa\",\"Rukum\",\"Rukum East\",\"Rukum West\",\"Rupandehi\",\"Salyan\",\"Saptari\",\"Sarlahi\",\"Sindhuli\",\"Sindhupalchok\",\"Siraha\",\"Sunsari\",\"Surkhet\",\"Syangja\",\"Tanahu\",\"Taplejung\",\"Terhathum\",\"Udayapur\",\"siraha\"],\"xaxis\":\"x\",\"y\":[2,0,0,6,3,3,3,1,1,1,5,1,0,1,2,1,1,0,1,1,4,0,7,1,3,5,3,8,1,3,2,0,1,1,2,1,0,1,1,2,1,0,0,1,1,0,9,1,0,1,2,2,0,5,1,2,1,4,3,0,1,2,0,1,5,0],\"yaxis\":\"y\",\"type\":\"scattergl\"},{\"hovertemplate\":\"Time=4\\u003cbr\\u003eDistrict=%{x}\\u003cbr\\u003evalue=%{y}\\u003cextra\\u003e\\u003c\\u002fextra\\u003e\",\"legendgroup\":\"4\",\"line\":{\"color\":\"#00cc96\",\"dash\":\"solid\"},\"marker\":{\"symbol\":\"circle\"},\"mode\":\"markers+lines\",\"name\":\"4\",\"showlegend\":true,\"x\":[\"Baglung\",\"Baitadi\",\"Bajhang\",\"Banke\",\"Bara\",\"Bardiya\",\"Bhaktapur\",\"Bhojpur\",\"Chitwan\",\"Dailekh\",\"Dang\",\"Darchula\",\"Dhading\",\"Dhankuta\",\"Dhanusa\",\"Dolpa\",\"Gorkha\",\"Gulmi\",\"Humla\",\"Ilam\",\"Jhapa\",\"Jumla\",\"Kailali\",\"Kalikot\",\"Kanchanpur\",\"Kapilvastu\",\"Kaski\",\"Kathmandu\",\"Kavrepalanchok\",\"Khotang\",\"Lalitpur\",\"Lamjung\",\"Mahottari\",\"Makwanpur\",\"Morang\",\"Myagdi\",\"Nawalpur\",\"Nuwakot\",\"Okhaldhunga\",\"Palpa\",\"Panchthar\",\"Parasi\",\"Parbat\",\"Parsa\",\"Ramechhap\",\"Rasuwa\",\"Rautahat\",\"Rolpa\",\"Rukum\",\"Rukum East\",\"Rukum West\",\"Rupandehi\",\"Salyan\",\"Saptari\",\"Sarlahi\",\"Sindhuli\",\"Sindhupalchok\",\"Siraha\",\"Sunsari\",\"Surkhet\",\"Syangja\",\"Tanahu\",\"Taplejung\",\"Terhathum\",\"Udayapur\",\"siraha\"],\"xaxis\":\"x\",\"y\":[0,0,0,0,0,0,0,1,0,0,0,0,0,0,0,0,0,0,0,0,0,0,0,0,0,0,0,0,0,0,0,0,0,0,0,0,0,0,0,0,0,0,0,0,0,0,0,0,0,0,0,0,0,0,0,0,0,0,0,0,0,0,0,0,0,0],\"yaxis\":\"y\",\"type\":\"scattergl\"},{\"hovertemplate\":\"Time=5\\u003cbr\\u003eDistrict=%{x}\\u003cbr\\u003evalue=%{y}\\u003cextra\\u003e\\u003c\\u002fextra\\u003e\",\"legendgroup\":\"5\",\"line\":{\"color\":\"#ab63fa\",\"dash\":\"solid\"},\"marker\":{\"symbol\":\"circle\"},\"mode\":\"markers+lines\",\"name\":\"5\",\"showlegend\":true,\"x\":[\"Baglung\",\"Baitadi\",\"Bajhang\",\"Banke\",\"Bara\",\"Bardiya\",\"Bhaktapur\",\"Bhojpur\",\"Chitwan\",\"Dailekh\",\"Dang\",\"Darchula\",\"Dhading\",\"Dhankuta\",\"Dhanusa\",\"Dolpa\",\"Gorkha\",\"Gulmi\",\"Humla\",\"Ilam\",\"Jhapa\",\"Jumla\",\"Kailali\",\"Kalikot\",\"Kanchanpur\",\"Kapilvastu\",\"Kaski\",\"Kathmandu\",\"Kavrepalanchok\",\"Khotang\",\"Lalitpur\",\"Lamjung\",\"Mahottari\",\"Makwanpur\",\"Morang\",\"Myagdi\",\"Nawalpur\",\"Nuwakot\",\"Okhaldhunga\",\"Palpa\",\"Panchthar\",\"Parasi\",\"Parbat\",\"Parsa\",\"Ramechhap\",\"Rasuwa\",\"Rautahat\",\"Rolpa\",\"Rukum\",\"Rukum East\",\"Rukum West\",\"Rupandehi\",\"Salyan\",\"Saptari\",\"Sarlahi\",\"Sindhuli\",\"Sindhupalchok\",\"Siraha\",\"Sunsari\",\"Surkhet\",\"Syangja\",\"Tanahu\",\"Taplejung\",\"Terhathum\",\"Udayapur\",\"siraha\"],\"xaxis\":\"x\",\"y\":[0,0,0,0,0,0,0,0,0,0,0,0,0,0,0,0,0,0,0,0,0,0,0,0,0,0,0,0,0,0,0,0,0,0,0,0,0,0,0,0,0,0,0,0,0,0,0,0,0,0,0,0,0,0,0,0,0,0,0,1,0,0,0,0,0,0],\"yaxis\":\"y\",\"type\":\"scattergl\"},{\"hovertemplate\":\"Time=7\\u003cbr\\u003eDistrict=%{x}\\u003cbr\\u003evalue=%{y}\\u003cextra\\u003e\\u003c\\u002fextra\\u003e\",\"legendgroup\":\"7\",\"line\":{\"color\":\"#FFA15A\",\"dash\":\"solid\"},\"marker\":{\"symbol\":\"circle\"},\"mode\":\"markers+lines\",\"name\":\"7\",\"showlegend\":true,\"x\":[\"Baglung\",\"Baitadi\",\"Bajhang\",\"Banke\",\"Bara\",\"Bardiya\",\"Bhaktapur\",\"Bhojpur\",\"Chitwan\",\"Dailekh\",\"Dang\",\"Darchula\",\"Dhading\",\"Dhankuta\",\"Dhanusa\",\"Dolpa\",\"Gorkha\",\"Gulmi\",\"Humla\",\"Ilam\",\"Jhapa\",\"Jumla\",\"Kailali\",\"Kalikot\",\"Kanchanpur\",\"Kapilvastu\",\"Kaski\",\"Kathmandu\",\"Kavrepalanchok\",\"Khotang\",\"Lalitpur\",\"Lamjung\",\"Mahottari\",\"Makwanpur\",\"Morang\",\"Myagdi\",\"Nawalpur\",\"Nuwakot\",\"Okhaldhunga\",\"Palpa\",\"Panchthar\",\"Parasi\",\"Parbat\",\"Parsa\",\"Ramechhap\",\"Rasuwa\",\"Rautahat\",\"Rolpa\",\"Rukum\",\"Rukum East\",\"Rukum West\",\"Rupandehi\",\"Salyan\",\"Saptari\",\"Sarlahi\",\"Sindhuli\",\"Sindhupalchok\",\"Siraha\",\"Sunsari\",\"Surkhet\",\"Syangja\",\"Tanahu\",\"Taplejung\",\"Terhathum\",\"Udayapur\",\"siraha\"],\"xaxis\":\"x\",\"y\":[0,0,0,0,0,0,0,0,0,0,0,0,0,0,0,0,0,0,0,0,1,0,0,0,1,0,0,0,0,0,0,0,0,0,0,0,0,0,0,0,0,0,0,0,0,0,1,0,0,0,0,0,0,0,0,0,0,0,0,0,0,0,0,0,1,0],\"yaxis\":\"y\",\"type\":\"scattergl\"},{\"hovertemplate\":\"Time=8\\u003cbr\\u003eDistrict=%{x}\\u003cbr\\u003evalue=%{y}\\u003cextra\\u003e\\u003c\\u002fextra\\u003e\",\"legendgroup\":\"8\",\"line\":{\"color\":\"#19d3f3\",\"dash\":\"solid\"},\"marker\":{\"symbol\":\"circle\"},\"mode\":\"markers+lines\",\"name\":\"8\",\"showlegend\":true,\"x\":[\"Baglung\",\"Baitadi\",\"Bajhang\",\"Banke\",\"Bara\",\"Bardiya\",\"Bhaktapur\",\"Bhojpur\",\"Chitwan\",\"Dailekh\",\"Dang\",\"Darchula\",\"Dhading\",\"Dhankuta\",\"Dhanusa\",\"Dolpa\",\"Gorkha\",\"Gulmi\",\"Humla\",\"Ilam\",\"Jhapa\",\"Jumla\",\"Kailali\",\"Kalikot\",\"Kanchanpur\",\"Kapilvastu\",\"Kaski\",\"Kathmandu\",\"Kavrepalanchok\",\"Khotang\",\"Lalitpur\",\"Lamjung\",\"Mahottari\",\"Makwanpur\",\"Morang\",\"Myagdi\",\"Nawalpur\",\"Nuwakot\",\"Okhaldhunga\",\"Palpa\",\"Panchthar\",\"Parasi\",\"Parbat\",\"Parsa\",\"Ramechhap\",\"Rasuwa\",\"Rautahat\",\"Rolpa\",\"Rukum\",\"Rukum East\",\"Rukum West\",\"Rupandehi\",\"Salyan\",\"Saptari\",\"Sarlahi\",\"Sindhuli\",\"Sindhupalchok\",\"Siraha\",\"Sunsari\",\"Surkhet\",\"Syangja\",\"Tanahu\",\"Taplejung\",\"Terhathum\",\"Udayapur\",\"siraha\"],\"xaxis\":\"x\",\"y\":[0,0,0,0,0,0,0,0,0,0,0,0,0,1,0,0,0,0,0,0,0,0,0,0,0,0,0,0,0,0,0,0,0,0,0,0,0,0,0,0,0,1,0,0,0,0,0,0,0,0,0,0,0,0,0,0,0,0,0,0,0,0,0,0,0,0],\"yaxis\":\"y\",\"type\":\"scattergl\"},{\"hovertemplate\":\"Time=9\\u003cbr\\u003eDistrict=%{x}\\u003cbr\\u003evalue=%{y}\\u003cextra\\u003e\\u003c\\u002fextra\\u003e\",\"legendgroup\":\"9\",\"line\":{\"color\":\"#FF6692\",\"dash\":\"solid\"},\"marker\":{\"symbol\":\"circle\"},\"mode\":\"markers+lines\",\"name\":\"9\",\"showlegend\":true,\"x\":[\"Baglung\",\"Baitadi\",\"Bajhang\",\"Banke\",\"Bara\",\"Bardiya\",\"Bhaktapur\",\"Bhojpur\",\"Chitwan\",\"Dailekh\",\"Dang\",\"Darchula\",\"Dhading\",\"Dhankuta\",\"Dhanusa\",\"Dolpa\",\"Gorkha\",\"Gulmi\",\"Humla\",\"Ilam\",\"Jhapa\",\"Jumla\",\"Kailali\",\"Kalikot\",\"Kanchanpur\",\"Kapilvastu\",\"Kaski\",\"Kathmandu\",\"Kavrepalanchok\",\"Khotang\",\"Lalitpur\",\"Lamjung\",\"Mahottari\",\"Makwanpur\",\"Morang\",\"Myagdi\",\"Nawalpur\",\"Nuwakot\",\"Okhaldhunga\",\"Palpa\",\"Panchthar\",\"Parasi\",\"Parbat\",\"Parsa\",\"Ramechhap\",\"Rasuwa\",\"Rautahat\",\"Rolpa\",\"Rukum\",\"Rukum East\",\"Rukum West\",\"Rupandehi\",\"Salyan\",\"Saptari\",\"Sarlahi\",\"Sindhuli\",\"Sindhupalchok\",\"Siraha\",\"Sunsari\",\"Surkhet\",\"Syangja\",\"Tanahu\",\"Taplejung\",\"Terhathum\",\"Udayapur\",\"siraha\"],\"xaxis\":\"x\",\"y\":[0,0,0,1,1,0,0,0,0,0,1,0,1,0,0,0,0,0,0,1,1,0,0,0,1,0,1,0,0,0,0,0,0,1,1,0,0,0,0,1,0,0,0,2,0,0,0,0,0,0,0,1,0,0,1,1,0,1,0,0,0,1,0,0,1,1],\"yaxis\":\"y\",\"type\":\"scattergl\"},{\"hovertemplate\":\"Time=10\\u003cbr\\u003eDistrict=%{x}\\u003cbr\\u003evalue=%{y}\\u003cextra\\u003e\\u003c\\u002fextra\\u003e\",\"legendgroup\":\"10\",\"line\":{\"color\":\"#B6E880\",\"dash\":\"solid\"},\"marker\":{\"symbol\":\"circle\"},\"mode\":\"markers+lines\",\"name\":\"10\",\"showlegend\":true,\"x\":[\"Baglung\",\"Baitadi\",\"Bajhang\",\"Banke\",\"Bara\",\"Bardiya\",\"Bhaktapur\",\"Bhojpur\",\"Chitwan\",\"Dailekh\",\"Dang\",\"Darchula\",\"Dhading\",\"Dhankuta\",\"Dhanusa\",\"Dolpa\",\"Gorkha\",\"Gulmi\",\"Humla\",\"Ilam\",\"Jhapa\",\"Jumla\",\"Kailali\",\"Kalikot\",\"Kanchanpur\",\"Kapilvastu\",\"Kaski\",\"Kathmandu\",\"Kavrepalanchok\",\"Khotang\",\"Lalitpur\",\"Lamjung\",\"Mahottari\",\"Makwanpur\",\"Morang\",\"Myagdi\",\"Nawalpur\",\"Nuwakot\",\"Okhaldhunga\",\"Palpa\",\"Panchthar\",\"Parasi\",\"Parbat\",\"Parsa\",\"Ramechhap\",\"Rasuwa\",\"Rautahat\",\"Rolpa\",\"Rukum\",\"Rukum East\",\"Rukum West\",\"Rupandehi\",\"Salyan\",\"Saptari\",\"Sarlahi\",\"Sindhuli\",\"Sindhupalchok\",\"Siraha\",\"Sunsari\",\"Surkhet\",\"Syangja\",\"Tanahu\",\"Taplejung\",\"Terhathum\",\"Udayapur\",\"siraha\"],\"xaxis\":\"x\",\"y\":[0,0,0,1,0,0,0,0,0,0,1,0,0,0,0,0,0,0,0,0,0,0,0,0,0,0,0,1,0,0,0,0,0,0,1,0,0,0,0,0,0,0,0,0,0,0,0,0,0,0,0,0,0,0,0,0,0,0,0,0,0,0,0,0,0,0],\"yaxis\":\"y\",\"type\":\"scattergl\"},{\"hovertemplate\":\"Time=11\\u003cbr\\u003eDistrict=%{x}\\u003cbr\\u003evalue=%{y}\\u003cextra\\u003e\\u003c\\u002fextra\\u003e\",\"legendgroup\":\"11\",\"line\":{\"color\":\"#FF97FF\",\"dash\":\"solid\"},\"marker\":{\"symbol\":\"circle\"},\"mode\":\"markers+lines\",\"name\":\"11\",\"showlegend\":true,\"x\":[\"Baglung\",\"Baitadi\",\"Bajhang\",\"Banke\",\"Bara\",\"Bardiya\",\"Bhaktapur\",\"Bhojpur\",\"Chitwan\",\"Dailekh\",\"Dang\",\"Darchula\",\"Dhading\",\"Dhankuta\",\"Dhanusa\",\"Dolpa\",\"Gorkha\",\"Gulmi\",\"Humla\",\"Ilam\",\"Jhapa\",\"Jumla\",\"Kailali\",\"Kalikot\",\"Kanchanpur\",\"Kapilvastu\",\"Kaski\",\"Kathmandu\",\"Kavrepalanchok\",\"Khotang\",\"Lalitpur\",\"Lamjung\",\"Mahottari\",\"Makwanpur\",\"Morang\",\"Myagdi\",\"Nawalpur\",\"Nuwakot\",\"Okhaldhunga\",\"Palpa\",\"Panchthar\",\"Parasi\",\"Parbat\",\"Parsa\",\"Ramechhap\",\"Rasuwa\",\"Rautahat\",\"Rolpa\",\"Rukum\",\"Rukum East\",\"Rukum West\",\"Rupandehi\",\"Salyan\",\"Saptari\",\"Sarlahi\",\"Sindhuli\",\"Sindhupalchok\",\"Siraha\",\"Sunsari\",\"Surkhet\",\"Syangja\",\"Tanahu\",\"Taplejung\",\"Terhathum\",\"Udayapur\",\"siraha\"],\"xaxis\":\"x\",\"y\":[0,0,0,0,0,0,1,0,0,0,0,0,0,0,0,0,0,0,0,0,0,0,0,0,0,0,0,1,0,0,0,0,0,0,1,0,0,0,0,0,0,0,0,0,0,0,0,0,0,0,0,0,0,0,1,0,0,0,0,0,0,0,0,0,0,0],\"yaxis\":\"y\",\"type\":\"scattergl\"},{\"hovertemplate\":\"Time=12\\u003cbr\\u003eDistrict=%{x}\\u003cbr\\u003evalue=%{y}\\u003cextra\\u003e\\u003c\\u002fextra\\u003e\",\"legendgroup\":\"12\",\"line\":{\"color\":\"#FECB52\",\"dash\":\"solid\"},\"marker\":{\"symbol\":\"circle\"},\"mode\":\"markers+lines\",\"name\":\"12\",\"showlegend\":true,\"x\":[\"Baglung\",\"Baitadi\",\"Bajhang\",\"Banke\",\"Bara\",\"Bardiya\",\"Bhaktapur\",\"Bhojpur\",\"Chitwan\",\"Dailekh\",\"Dang\",\"Darchula\",\"Dhading\",\"Dhankuta\",\"Dhanusa\",\"Dolpa\",\"Gorkha\",\"Gulmi\",\"Humla\",\"Ilam\",\"Jhapa\",\"Jumla\",\"Kailali\",\"Kalikot\",\"Kanchanpur\",\"Kapilvastu\",\"Kaski\",\"Kathmandu\",\"Kavrepalanchok\",\"Khotang\",\"Lalitpur\",\"Lamjung\",\"Mahottari\",\"Makwanpur\",\"Morang\",\"Myagdi\",\"Nawalpur\",\"Nuwakot\",\"Okhaldhunga\",\"Palpa\",\"Panchthar\",\"Parasi\",\"Parbat\",\"Parsa\",\"Ramechhap\",\"Rasuwa\",\"Rautahat\",\"Rolpa\",\"Rukum\",\"Rukum East\",\"Rukum West\",\"Rupandehi\",\"Salyan\",\"Saptari\",\"Sarlahi\",\"Sindhuli\",\"Sindhupalchok\",\"Siraha\",\"Sunsari\",\"Surkhet\",\"Syangja\",\"Tanahu\",\"Taplejung\",\"Terhathum\",\"Udayapur\",\"siraha\"],\"xaxis\":\"x\",\"y\":[0,0,0,0,0,0,0,1,0,0,0,0,0,0,0,0,0,0,0,0,0,0,0,0,0,0,0,1,0,0,0,0,0,0,0,0,0,0,0,0,0,0,0,0,0,0,0,0,0,0,0,0,0,0,0,0,0,0,1,0,0,0,0,1,0,0],\"yaxis\":\"y\",\"type\":\"scattergl\"},{\"hovertemplate\":\"Time=13\\u003cbr\\u003eDistrict=%{x}\\u003cbr\\u003evalue=%{y}\\u003cextra\\u003e\\u003c\\u002fextra\\u003e\",\"legendgroup\":\"13\",\"line\":{\"color\":\"#636efa\",\"dash\":\"solid\"},\"marker\":{\"symbol\":\"circle\"},\"mode\":\"markers+lines\",\"name\":\"13\",\"showlegend\":true,\"x\":[\"Baglung\",\"Baitadi\",\"Bajhang\",\"Banke\",\"Bara\",\"Bardiya\",\"Bhaktapur\",\"Bhojpur\",\"Chitwan\",\"Dailekh\",\"Dang\",\"Darchula\",\"Dhading\",\"Dhankuta\",\"Dhanusa\",\"Dolpa\",\"Gorkha\",\"Gulmi\",\"Humla\",\"Ilam\",\"Jhapa\",\"Jumla\",\"Kailali\",\"Kalikot\",\"Kanchanpur\",\"Kapilvastu\",\"Kaski\",\"Kathmandu\",\"Kavrepalanchok\",\"Khotang\",\"Lalitpur\",\"Lamjung\",\"Mahottari\",\"Makwanpur\",\"Morang\",\"Myagdi\",\"Nawalpur\",\"Nuwakot\",\"Okhaldhunga\",\"Palpa\",\"Panchthar\",\"Parasi\",\"Parbat\",\"Parsa\",\"Ramechhap\",\"Rasuwa\",\"Rautahat\",\"Rolpa\",\"Rukum\",\"Rukum East\",\"Rukum West\",\"Rupandehi\",\"Salyan\",\"Saptari\",\"Sarlahi\",\"Sindhuli\",\"Sindhupalchok\",\"Siraha\",\"Sunsari\",\"Surkhet\",\"Syangja\",\"Tanahu\",\"Taplejung\",\"Terhathum\",\"Udayapur\",\"siraha\"],\"xaxis\":\"x\",\"y\":[0,0,0,0,1,0,0,0,0,0,0,0,0,0,0,0,0,0,0,0,0,0,0,0,0,0,0,1,0,0,0,0,0,0,0,0,0,0,0,0,0,0,0,0,0,0,0,0,0,0,0,0,0,0,0,0,0,0,0,0,0,0,0,1,0,0],\"yaxis\":\"y\",\"type\":\"scattergl\"},{\"hovertemplate\":\"Time=14\\u003cbr\\u003eDistrict=%{x}\\u003cbr\\u003evalue=%{y}\\u003cextra\\u003e\\u003c\\u002fextra\\u003e\",\"legendgroup\":\"14\",\"line\":{\"color\":\"#EF553B\",\"dash\":\"solid\"},\"marker\":{\"symbol\":\"circle\"},\"mode\":\"markers+lines\",\"name\":\"14\",\"showlegend\":true,\"x\":[\"Baglung\",\"Baitadi\",\"Bajhang\",\"Banke\",\"Bara\",\"Bardiya\",\"Bhaktapur\",\"Bhojpur\",\"Chitwan\",\"Dailekh\",\"Dang\",\"Darchula\",\"Dhading\",\"Dhankuta\",\"Dhanusa\",\"Dolpa\",\"Gorkha\",\"Gulmi\",\"Humla\",\"Ilam\",\"Jhapa\",\"Jumla\",\"Kailali\",\"Kalikot\",\"Kanchanpur\",\"Kapilvastu\",\"Kaski\",\"Kathmandu\",\"Kavrepalanchok\",\"Khotang\",\"Lalitpur\",\"Lamjung\",\"Mahottari\",\"Makwanpur\",\"Morang\",\"Myagdi\",\"Nawalpur\",\"Nuwakot\",\"Okhaldhunga\",\"Palpa\",\"Panchthar\",\"Parasi\",\"Parbat\",\"Parsa\",\"Ramechhap\",\"Rasuwa\",\"Rautahat\",\"Rolpa\",\"Rukum\",\"Rukum East\",\"Rukum West\",\"Rupandehi\",\"Salyan\",\"Saptari\",\"Sarlahi\",\"Sindhuli\",\"Sindhupalchok\",\"Siraha\",\"Sunsari\",\"Surkhet\",\"Syangja\",\"Tanahu\",\"Taplejung\",\"Terhathum\",\"Udayapur\",\"siraha\"],\"xaxis\":\"x\",\"y\":[0,0,0,1,2,0,0,1,0,0,3,0,0,1,0,0,0,0,0,0,0,0,1,0,1,0,0,2,0,0,0,0,0,0,2,0,0,1,1,0,2,1,0,1,0,1,1,0,0,1,0,1,0,1,0,1,0,1,1,0,0,1,1,2,1,0],\"yaxis\":\"y\",\"type\":\"scattergl\"},{\"hovertemplate\":\"Time=15\\u003cbr\\u003eDistrict=%{x}\\u003cbr\\u003evalue=%{y}\\u003cextra\\u003e\\u003c\\u002fextra\\u003e\",\"legendgroup\":\"15\",\"line\":{\"color\":\"#00cc96\",\"dash\":\"solid\"},\"marker\":{\"symbol\":\"circle\"},\"mode\":\"markers+lines\",\"name\":\"15\",\"showlegend\":true,\"x\":[\"Baglung\",\"Baitadi\",\"Bajhang\",\"Banke\",\"Bara\",\"Bardiya\",\"Bhaktapur\",\"Bhojpur\",\"Chitwan\",\"Dailekh\",\"Dang\",\"Darchula\",\"Dhading\",\"Dhankuta\",\"Dhanusa\",\"Dolpa\",\"Gorkha\",\"Gulmi\",\"Humla\",\"Ilam\",\"Jhapa\",\"Jumla\",\"Kailali\",\"Kalikot\",\"Kanchanpur\",\"Kapilvastu\",\"Kaski\",\"Kathmandu\",\"Kavrepalanchok\",\"Khotang\",\"Lalitpur\",\"Lamjung\",\"Mahottari\",\"Makwanpur\",\"Morang\",\"Myagdi\",\"Nawalpur\",\"Nuwakot\",\"Okhaldhunga\",\"Palpa\",\"Panchthar\",\"Parasi\",\"Parbat\",\"Parsa\",\"Ramechhap\",\"Rasuwa\",\"Rautahat\",\"Rolpa\",\"Rukum\",\"Rukum East\",\"Rukum West\",\"Rupandehi\",\"Salyan\",\"Saptari\",\"Sarlahi\",\"Sindhuli\",\"Sindhupalchok\",\"Siraha\",\"Sunsari\",\"Surkhet\",\"Syangja\",\"Tanahu\",\"Taplejung\",\"Terhathum\",\"Udayapur\",\"siraha\"],\"xaxis\":\"x\",\"y\":[0,0,0,0,0,0,0,0,0,0,0,0,0,0,0,0,0,0,0,0,0,0,0,0,0,0,0,0,0,0,0,0,0,0,1,0,0,0,0,1,0,0,0,0,0,0,0,0,0,0,0,0,0,0,0,0,0,1,0,0,1,0,0,0,0,0],\"yaxis\":\"y\",\"type\":\"scattergl\"},{\"hovertemplate\":\"Time=16\\u003cbr\\u003eDistrict=%{x}\\u003cbr\\u003evalue=%{y}\\u003cextra\\u003e\\u003c\\u002fextra\\u003e\",\"legendgroup\":\"16\",\"line\":{\"color\":\"#ab63fa\",\"dash\":\"solid\"},\"marker\":{\"symbol\":\"circle\"},\"mode\":\"markers+lines\",\"name\":\"16\",\"showlegend\":true,\"x\":[\"Baglung\",\"Baitadi\",\"Bajhang\",\"Banke\",\"Bara\",\"Bardiya\",\"Bhaktapur\",\"Bhojpur\",\"Chitwan\",\"Dailekh\",\"Dang\",\"Darchula\",\"Dhading\",\"Dhankuta\",\"Dhanusa\",\"Dolpa\",\"Gorkha\",\"Gulmi\",\"Humla\",\"Ilam\",\"Jhapa\",\"Jumla\",\"Kailali\",\"Kalikot\",\"Kanchanpur\",\"Kapilvastu\",\"Kaski\",\"Kathmandu\",\"Kavrepalanchok\",\"Khotang\",\"Lalitpur\",\"Lamjung\",\"Mahottari\",\"Makwanpur\",\"Morang\",\"Myagdi\",\"Nawalpur\",\"Nuwakot\",\"Okhaldhunga\",\"Palpa\",\"Panchthar\",\"Parasi\",\"Parbat\",\"Parsa\",\"Ramechhap\",\"Rasuwa\",\"Rautahat\",\"Rolpa\",\"Rukum\",\"Rukum East\",\"Rukum West\",\"Rupandehi\",\"Salyan\",\"Saptari\",\"Sarlahi\",\"Sindhuli\",\"Sindhupalchok\",\"Siraha\",\"Sunsari\",\"Surkhet\",\"Syangja\",\"Tanahu\",\"Taplejung\",\"Terhathum\",\"Udayapur\",\"siraha\"],\"xaxis\":\"x\",\"y\":[0,0,0,0,0,0,0,0,1,0,0,0,0,0,0,0,0,0,0,0,1,0,0,0,0,1,0,0,0,0,0,0,0,1,0,0,0,0,0,1,0,0,0,0,0,0,0,0,0,0,0,0,0,0,0,0,0,0,0,0,0,0,0,0,0,0],\"yaxis\":\"y\",\"type\":\"scattergl\"},{\"hovertemplate\":\"Time=17\\u003cbr\\u003eDistrict=%{x}\\u003cbr\\u003evalue=%{y}\\u003cextra\\u003e\\u003c\\u002fextra\\u003e\",\"legendgroup\":\"17\",\"line\":{\"color\":\"#FFA15A\",\"dash\":\"solid\"},\"marker\":{\"symbol\":\"circle\"},\"mode\":\"markers+lines\",\"name\":\"17\",\"showlegend\":true,\"x\":[\"Baglung\",\"Baitadi\",\"Bajhang\",\"Banke\",\"Bara\",\"Bardiya\",\"Bhaktapur\",\"Bhojpur\",\"Chitwan\",\"Dailekh\",\"Dang\",\"Darchula\",\"Dhading\",\"Dhankuta\",\"Dhanusa\",\"Dolpa\",\"Gorkha\",\"Gulmi\",\"Humla\",\"Ilam\",\"Jhapa\",\"Jumla\",\"Kailali\",\"Kalikot\",\"Kanchanpur\",\"Kapilvastu\",\"Kaski\",\"Kathmandu\",\"Kavrepalanchok\",\"Khotang\",\"Lalitpur\",\"Lamjung\",\"Mahottari\",\"Makwanpur\",\"Morang\",\"Myagdi\",\"Nawalpur\",\"Nuwakot\",\"Okhaldhunga\",\"Palpa\",\"Panchthar\",\"Parasi\",\"Parbat\",\"Parsa\",\"Ramechhap\",\"Rasuwa\",\"Rautahat\",\"Rolpa\",\"Rukum\",\"Rukum East\",\"Rukum West\",\"Rupandehi\",\"Salyan\",\"Saptari\",\"Sarlahi\",\"Sindhuli\",\"Sindhupalchok\",\"Siraha\",\"Sunsari\",\"Surkhet\",\"Syangja\",\"Tanahu\",\"Taplejung\",\"Terhathum\",\"Udayapur\",\"siraha\"],\"xaxis\":\"x\",\"y\":[0,1,0,0,0,0,0,0,0,0,0,0,0,0,0,0,0,0,0,0,0,0,0,0,0,0,0,1,0,0,0,0,0,0,1,0,0,0,0,0,0,0,0,0,0,0,0,0,0,0,0,0,0,0,0,0,0,0,0,0,0,0,0,0,0,0],\"yaxis\":\"y\",\"type\":\"scattergl\"},{\"hovertemplate\":\"Time=18\\u003cbr\\u003eDistrict=%{x}\\u003cbr\\u003evalue=%{y}\\u003cextra\\u003e\\u003c\\u002fextra\\u003e\",\"legendgroup\":\"18\",\"line\":{\"color\":\"#19d3f3\",\"dash\":\"solid\"},\"marker\":{\"symbol\":\"circle\"},\"mode\":\"markers+lines\",\"name\":\"18\",\"showlegend\":true,\"x\":[\"Baglung\",\"Baitadi\",\"Bajhang\",\"Banke\",\"Bara\",\"Bardiya\",\"Bhaktapur\",\"Bhojpur\",\"Chitwan\",\"Dailekh\",\"Dang\",\"Darchula\",\"Dhading\",\"Dhankuta\",\"Dhanusa\",\"Dolpa\",\"Gorkha\",\"Gulmi\",\"Humla\",\"Ilam\",\"Jhapa\",\"Jumla\",\"Kailali\",\"Kalikot\",\"Kanchanpur\",\"Kapilvastu\",\"Kaski\",\"Kathmandu\",\"Kavrepalanchok\",\"Khotang\",\"Lalitpur\",\"Lamjung\",\"Mahottari\",\"Makwanpur\",\"Morang\",\"Myagdi\",\"Nawalpur\",\"Nuwakot\",\"Okhaldhunga\",\"Palpa\",\"Panchthar\",\"Parasi\",\"Parbat\",\"Parsa\",\"Ramechhap\",\"Rasuwa\",\"Rautahat\",\"Rolpa\",\"Rukum\",\"Rukum East\",\"Rukum West\",\"Rupandehi\",\"Salyan\",\"Saptari\",\"Sarlahi\",\"Sindhuli\",\"Sindhupalchok\",\"Siraha\",\"Sunsari\",\"Surkhet\",\"Syangja\",\"Tanahu\",\"Taplejung\",\"Terhathum\",\"Udayapur\",\"siraha\"],\"xaxis\":\"x\",\"y\":[0,0,0,0,0,0,0,0,0,0,2,0,0,0,0,0,0,0,0,0,0,0,0,0,0,0,0,3,1,0,0,0,0,0,1,0,0,0,0,0,0,0,0,0,0,0,0,0,0,0,0,0,0,0,0,0,0,0,0,0,0,0,0,0,0,0],\"yaxis\":\"y\",\"type\":\"scattergl\"},{\"hovertemplate\":\"Time=19\\u003cbr\\u003eDistrict=%{x}\\u003cbr\\u003evalue=%{y}\\u003cextra\\u003e\\u003c\\u002fextra\\u003e\",\"legendgroup\":\"19\",\"line\":{\"color\":\"#FF6692\",\"dash\":\"solid\"},\"marker\":{\"symbol\":\"circle\"},\"mode\":\"markers+lines\",\"name\":\"19\",\"showlegend\":true,\"x\":[\"Baglung\",\"Baitadi\",\"Bajhang\",\"Banke\",\"Bara\",\"Bardiya\",\"Bhaktapur\",\"Bhojpur\",\"Chitwan\",\"Dailekh\",\"Dang\",\"Darchula\",\"Dhading\",\"Dhankuta\",\"Dhanusa\",\"Dolpa\",\"Gorkha\",\"Gulmi\",\"Humla\",\"Ilam\",\"Jhapa\",\"Jumla\",\"Kailali\",\"Kalikot\",\"Kanchanpur\",\"Kapilvastu\",\"Kaski\",\"Kathmandu\",\"Kavrepalanchok\",\"Khotang\",\"Lalitpur\",\"Lamjung\",\"Mahottari\",\"Makwanpur\",\"Morang\",\"Myagdi\",\"Nawalpur\",\"Nuwakot\",\"Okhaldhunga\",\"Palpa\",\"Panchthar\",\"Parasi\",\"Parbat\",\"Parsa\",\"Ramechhap\",\"Rasuwa\",\"Rautahat\",\"Rolpa\",\"Rukum\",\"Rukum East\",\"Rukum West\",\"Rupandehi\",\"Salyan\",\"Saptari\",\"Sarlahi\",\"Sindhuli\",\"Sindhupalchok\",\"Siraha\",\"Sunsari\",\"Surkhet\",\"Syangja\",\"Tanahu\",\"Taplejung\",\"Terhathum\",\"Udayapur\",\"siraha\"],\"xaxis\":\"x\",\"y\":[0,0,0,0,1,0,0,0,0,0,1,0,0,0,0,0,0,1,0,0,3,0,0,0,0,0,1,0,1,0,0,0,0,0,0,0,0,0,0,0,0,0,0,0,0,0,0,0,0,0,0,1,0,0,0,0,0,0,1,0,0,0,0,0,0,0],\"yaxis\":\"y\",\"type\":\"scattergl\"},{\"hovertemplate\":\"Time=20\\u003cbr\\u003eDistrict=%{x}\\u003cbr\\u003evalue=%{y}\\u003cextra\\u003e\\u003c\\u002fextra\\u003e\",\"legendgroup\":\"20\",\"line\":{\"color\":\"#B6E880\",\"dash\":\"solid\"},\"marker\":{\"symbol\":\"circle\"},\"mode\":\"markers+lines\",\"name\":\"20\",\"showlegend\":true,\"x\":[\"Baglung\",\"Baitadi\",\"Bajhang\",\"Banke\",\"Bara\",\"Bardiya\",\"Bhaktapur\",\"Bhojpur\",\"Chitwan\",\"Dailekh\",\"Dang\",\"Darchula\",\"Dhading\",\"Dhankuta\",\"Dhanusa\",\"Dolpa\",\"Gorkha\",\"Gulmi\",\"Humla\",\"Ilam\",\"Jhapa\",\"Jumla\",\"Kailali\",\"Kalikot\",\"Kanchanpur\",\"Kapilvastu\",\"Kaski\",\"Kathmandu\",\"Kavrepalanchok\",\"Khotang\",\"Lalitpur\",\"Lamjung\",\"Mahottari\",\"Makwanpur\",\"Morang\",\"Myagdi\",\"Nawalpur\",\"Nuwakot\",\"Okhaldhunga\",\"Palpa\",\"Panchthar\",\"Parasi\",\"Parbat\",\"Parsa\",\"Ramechhap\",\"Rasuwa\",\"Rautahat\",\"Rolpa\",\"Rukum\",\"Rukum East\",\"Rukum West\",\"Rupandehi\",\"Salyan\",\"Saptari\",\"Sarlahi\",\"Sindhuli\",\"Sindhupalchok\",\"Siraha\",\"Sunsari\",\"Surkhet\",\"Syangja\",\"Tanahu\",\"Taplejung\",\"Terhathum\",\"Udayapur\",\"siraha\"],\"xaxis\":\"x\",\"y\":[0,0,0,1,0,1,1,0,0,0,2,0,0,0,0,0,0,2,0,0,4,1,0,0,1,0,0,3,0,1,1,0,2,2,2,3,2,0,0,0,1,1,1,2,0,0,1,0,2,0,1,1,1,0,0,0,0,0,2,0,0,2,0,0,4,0],\"yaxis\":\"y\",\"type\":\"scattergl\"},{\"hovertemplate\":\"Time=21\\u003cbr\\u003eDistrict=%{x}\\u003cbr\\u003evalue=%{y}\\u003cextra\\u003e\\u003c\\u002fextra\\u003e\",\"legendgroup\":\"21\",\"line\":{\"color\":\"#FF97FF\",\"dash\":\"solid\"},\"marker\":{\"symbol\":\"circle\"},\"mode\":\"markers+lines\",\"name\":\"21\",\"showlegend\":true,\"x\":[\"Baglung\",\"Baitadi\",\"Bajhang\",\"Banke\",\"Bara\",\"Bardiya\",\"Bhaktapur\",\"Bhojpur\",\"Chitwan\",\"Dailekh\",\"Dang\",\"Darchula\",\"Dhading\",\"Dhankuta\",\"Dhanusa\",\"Dolpa\",\"Gorkha\",\"Gulmi\",\"Humla\",\"Ilam\",\"Jhapa\",\"Jumla\",\"Kailali\",\"Kalikot\",\"Kanchanpur\",\"Kapilvastu\",\"Kaski\",\"Kathmandu\",\"Kavrepalanchok\",\"Khotang\",\"Lalitpur\",\"Lamjung\",\"Mahottari\",\"Makwanpur\",\"Morang\",\"Myagdi\",\"Nawalpur\",\"Nuwakot\",\"Okhaldhunga\",\"Palpa\",\"Panchthar\",\"Parasi\",\"Parbat\",\"Parsa\",\"Ramechhap\",\"Rasuwa\",\"Rautahat\",\"Rolpa\",\"Rukum\",\"Rukum East\",\"Rukum West\",\"Rupandehi\",\"Salyan\",\"Saptari\",\"Sarlahi\",\"Sindhuli\",\"Sindhupalchok\",\"Siraha\",\"Sunsari\",\"Surkhet\",\"Syangja\",\"Tanahu\",\"Taplejung\",\"Terhathum\",\"Udayapur\",\"siraha\"],\"xaxis\":\"x\",\"y\":[0,0,0,0,0,0,0,0,0,0,1,0,0,0,0,0,0,0,0,0,1,0,0,0,0,0,0,2,0,0,0,0,0,0,0,0,0,0,0,0,0,0,0,0,0,0,1,0,0,0,1,0,0,1,0,0,0,0,0,0,0,0,0,0,0,0],\"yaxis\":\"y\",\"type\":\"scattergl\"},{\"hovertemplate\":\"Time=22\\u003cbr\\u003eDistrict=%{x}\\u003cbr\\u003evalue=%{y}\\u003cextra\\u003e\\u003c\\u002fextra\\u003e\",\"legendgroup\":\"22\",\"line\":{\"color\":\"#FECB52\",\"dash\":\"solid\"},\"marker\":{\"symbol\":\"circle\"},\"mode\":\"markers+lines\",\"name\":\"22\",\"showlegend\":true,\"x\":[\"Baglung\",\"Baitadi\",\"Bajhang\",\"Banke\",\"Bara\",\"Bardiya\",\"Bhaktapur\",\"Bhojpur\",\"Chitwan\",\"Dailekh\",\"Dang\",\"Darchula\",\"Dhading\",\"Dhankuta\",\"Dhanusa\",\"Dolpa\",\"Gorkha\",\"Gulmi\",\"Humla\",\"Ilam\",\"Jhapa\",\"Jumla\",\"Kailali\",\"Kalikot\",\"Kanchanpur\",\"Kapilvastu\",\"Kaski\",\"Kathmandu\",\"Kavrepalanchok\",\"Khotang\",\"Lalitpur\",\"Lamjung\",\"Mahottari\",\"Makwanpur\",\"Morang\",\"Myagdi\",\"Nawalpur\",\"Nuwakot\",\"Okhaldhunga\",\"Palpa\",\"Panchthar\",\"Parasi\",\"Parbat\",\"Parsa\",\"Ramechhap\",\"Rasuwa\",\"Rautahat\",\"Rolpa\",\"Rukum\",\"Rukum East\",\"Rukum West\",\"Rupandehi\",\"Salyan\",\"Saptari\",\"Sarlahi\",\"Sindhuli\",\"Sindhupalchok\",\"Siraha\",\"Sunsari\",\"Surkhet\",\"Syangja\",\"Tanahu\",\"Taplejung\",\"Terhathum\",\"Udayapur\",\"siraha\"],\"xaxis\":\"x\",\"y\":[0,0,0,0,0,0,0,0,0,0,0,0,0,0,0,0,0,0,0,0,0,0,0,0,0,0,0,1,0,0,0,0,0,0,0,0,0,0,0,0,0,0,0,0,0,0,0,0,1,0,0,0,0,1,0,0,0,0,1,0,0,0,0,0,0,0],\"yaxis\":\"y\",\"type\":\"scattergl\"},{\"hovertemplate\":\"Time=23\\u003cbr\\u003eDistrict=%{x}\\u003cbr\\u003evalue=%{y}\\u003cextra\\u003e\\u003c\\u002fextra\\u003e\",\"legendgroup\":\"23\",\"line\":{\"color\":\"#636efa\",\"dash\":\"solid\"},\"marker\":{\"symbol\":\"circle\"},\"mode\":\"markers+lines\",\"name\":\"23\",\"showlegend\":true,\"x\":[\"Baglung\",\"Baitadi\",\"Bajhang\",\"Banke\",\"Bara\",\"Bardiya\",\"Bhaktapur\",\"Bhojpur\",\"Chitwan\",\"Dailekh\",\"Dang\",\"Darchula\",\"Dhading\",\"Dhankuta\",\"Dhanusa\",\"Dolpa\",\"Gorkha\",\"Gulmi\",\"Humla\",\"Ilam\",\"Jhapa\",\"Jumla\",\"Kailali\",\"Kalikot\",\"Kanchanpur\",\"Kapilvastu\",\"Kaski\",\"Kathmandu\",\"Kavrepalanchok\",\"Khotang\",\"Lalitpur\",\"Lamjung\",\"Mahottari\",\"Makwanpur\",\"Morang\",\"Myagdi\",\"Nawalpur\",\"Nuwakot\",\"Okhaldhunga\",\"Palpa\",\"Panchthar\",\"Parasi\",\"Parbat\",\"Parsa\",\"Ramechhap\",\"Rasuwa\",\"Rautahat\",\"Rolpa\",\"Rukum\",\"Rukum East\",\"Rukum West\",\"Rupandehi\",\"Salyan\",\"Saptari\",\"Sarlahi\",\"Sindhuli\",\"Sindhupalchok\",\"Siraha\",\"Sunsari\",\"Surkhet\",\"Syangja\",\"Tanahu\",\"Taplejung\",\"Terhathum\",\"Udayapur\",\"siraha\"],\"xaxis\":\"x\",\"y\":[0,0,1,0,0,0,0,0,0,0,1,0,0,0,1,0,0,0,0,0,0,0,0,0,0,0,0,0,0,0,0,0,0,0,0,0,0,0,0,0,0,0,0,0,0,0,1,0,0,0,0,0,0,0,0,0,0,0,0,0,0,0,0,0,0,0],\"yaxis\":\"y\",\"type\":\"scattergl\"}],                        {\"template\":{\"data\":{\"histogram2dcontour\":[{\"type\":\"histogram2dcontour\",\"colorbar\":{\"outlinewidth\":0,\"ticks\":\"\"},\"colorscale\":[[0.0,\"#0d0887\"],[0.1111111111111111,\"#46039f\"],[0.2222222222222222,\"#7201a8\"],[0.3333333333333333,\"#9c179e\"],[0.4444444444444444,\"#bd3786\"],[0.5555555555555556,\"#d8576b\"],[0.6666666666666666,\"#ed7953\"],[0.7777777777777778,\"#fb9f3a\"],[0.8888888888888888,\"#fdca26\"],[1.0,\"#f0f921\"]]}],\"choropleth\":[{\"type\":\"choropleth\",\"colorbar\":{\"outlinewidth\":0,\"ticks\":\"\"}}],\"histogram2d\":[{\"type\":\"histogram2d\",\"colorbar\":{\"outlinewidth\":0,\"ticks\":\"\"},\"colorscale\":[[0.0,\"#0d0887\"],[0.1111111111111111,\"#46039f\"],[0.2222222222222222,\"#7201a8\"],[0.3333333333333333,\"#9c179e\"],[0.4444444444444444,\"#bd3786\"],[0.5555555555555556,\"#d8576b\"],[0.6666666666666666,\"#ed7953\"],[0.7777777777777778,\"#fb9f3a\"],[0.8888888888888888,\"#fdca26\"],[1.0,\"#f0f921\"]]}],\"heatmap\":[{\"type\":\"heatmap\",\"colorbar\":{\"outlinewidth\":0,\"ticks\":\"\"},\"colorscale\":[[0.0,\"#0d0887\"],[0.1111111111111111,\"#46039f\"],[0.2222222222222222,\"#7201a8\"],[0.3333333333333333,\"#9c179e\"],[0.4444444444444444,\"#bd3786\"],[0.5555555555555556,\"#d8576b\"],[0.6666666666666666,\"#ed7953\"],[0.7777777777777778,\"#fb9f3a\"],[0.8888888888888888,\"#fdca26\"],[1.0,\"#f0f921\"]]}],\"heatmapgl\":[{\"type\":\"heatmapgl\",\"colorbar\":{\"outlinewidth\":0,\"ticks\":\"\"},\"colorscale\":[[0.0,\"#0d0887\"],[0.1111111111111111,\"#46039f\"],[0.2222222222222222,\"#7201a8\"],[0.3333333333333333,\"#9c179e\"],[0.4444444444444444,\"#bd3786\"],[0.5555555555555556,\"#d8576b\"],[0.6666666666666666,\"#ed7953\"],[0.7777777777777778,\"#fb9f3a\"],[0.8888888888888888,\"#fdca26\"],[1.0,\"#f0f921\"]]}],\"contourcarpet\":[{\"type\":\"contourcarpet\",\"colorbar\":{\"outlinewidth\":0,\"ticks\":\"\"}}],\"contour\":[{\"type\":\"contour\",\"colorbar\":{\"outlinewidth\":0,\"ticks\":\"\"},\"colorscale\":[[0.0,\"#0d0887\"],[0.1111111111111111,\"#46039f\"],[0.2222222222222222,\"#7201a8\"],[0.3333333333333333,\"#9c179e\"],[0.4444444444444444,\"#bd3786\"],[0.5555555555555556,\"#d8576b\"],[0.6666666666666666,\"#ed7953\"],[0.7777777777777778,\"#fb9f3a\"],[0.8888888888888888,\"#fdca26\"],[1.0,\"#f0f921\"]]}],\"surface\":[{\"type\":\"surface\",\"colorbar\":{\"outlinewidth\":0,\"ticks\":\"\"},\"colorscale\":[[0.0,\"#0d0887\"],[0.1111111111111111,\"#46039f\"],[0.2222222222222222,\"#7201a8\"],[0.3333333333333333,\"#9c179e\"],[0.4444444444444444,\"#bd3786\"],[0.5555555555555556,\"#d8576b\"],[0.6666666666666666,\"#ed7953\"],[0.7777777777777778,\"#fb9f3a\"],[0.8888888888888888,\"#fdca26\"],[1.0,\"#f0f921\"]]}],\"mesh3d\":[{\"type\":\"mesh3d\",\"colorbar\":{\"outlinewidth\":0,\"ticks\":\"\"}}],\"scatter\":[{\"fillpattern\":{\"fillmode\":\"overlay\",\"size\":10,\"solidity\":0.2},\"type\":\"scatter\"}],\"parcoords\":[{\"type\":\"parcoords\",\"line\":{\"colorbar\":{\"outlinewidth\":0,\"ticks\":\"\"}}}],\"scatterpolargl\":[{\"type\":\"scatterpolargl\",\"marker\":{\"colorbar\":{\"outlinewidth\":0,\"ticks\":\"\"}}}],\"bar\":[{\"error_x\":{\"color\":\"#2a3f5f\"},\"error_y\":{\"color\":\"#2a3f5f\"},\"marker\":{\"line\":{\"color\":\"#E5ECF6\",\"width\":0.5},\"pattern\":{\"fillmode\":\"overlay\",\"size\":10,\"solidity\":0.2}},\"type\":\"bar\"}],\"scattergeo\":[{\"type\":\"scattergeo\",\"marker\":{\"colorbar\":{\"outlinewidth\":0,\"ticks\":\"\"}}}],\"scatterpolar\":[{\"type\":\"scatterpolar\",\"marker\":{\"colorbar\":{\"outlinewidth\":0,\"ticks\":\"\"}}}],\"histogram\":[{\"marker\":{\"pattern\":{\"fillmode\":\"overlay\",\"size\":10,\"solidity\":0.2}},\"type\":\"histogram\"}],\"scattergl\":[{\"type\":\"scattergl\",\"marker\":{\"colorbar\":{\"outlinewidth\":0,\"ticks\":\"\"}}}],\"scatter3d\":[{\"type\":\"scatter3d\",\"line\":{\"colorbar\":{\"outlinewidth\":0,\"ticks\":\"\"}},\"marker\":{\"colorbar\":{\"outlinewidth\":0,\"ticks\":\"\"}}}],\"scattermapbox\":[{\"type\":\"scattermapbox\",\"marker\":{\"colorbar\":{\"outlinewidth\":0,\"ticks\":\"\"}}}],\"scatterternary\":[{\"type\":\"scatterternary\",\"marker\":{\"colorbar\":{\"outlinewidth\":0,\"ticks\":\"\"}}}],\"scattercarpet\":[{\"type\":\"scattercarpet\",\"marker\":{\"colorbar\":{\"outlinewidth\":0,\"ticks\":\"\"}}}],\"carpet\":[{\"aaxis\":{\"endlinecolor\":\"#2a3f5f\",\"gridcolor\":\"white\",\"linecolor\":\"white\",\"minorgridcolor\":\"white\",\"startlinecolor\":\"#2a3f5f\"},\"baxis\":{\"endlinecolor\":\"#2a3f5f\",\"gridcolor\":\"white\",\"linecolor\":\"white\",\"minorgridcolor\":\"white\",\"startlinecolor\":\"#2a3f5f\"},\"type\":\"carpet\"}],\"table\":[{\"cells\":{\"fill\":{\"color\":\"#EBF0F8\"},\"line\":{\"color\":\"white\"}},\"header\":{\"fill\":{\"color\":\"#C8D4E3\"},\"line\":{\"color\":\"white\"}},\"type\":\"table\"}],\"barpolar\":[{\"marker\":{\"line\":{\"color\":\"#E5ECF6\",\"width\":0.5},\"pattern\":{\"fillmode\":\"overlay\",\"size\":10,\"solidity\":0.2}},\"type\":\"barpolar\"}],\"pie\":[{\"automargin\":true,\"type\":\"pie\"}]},\"layout\":{\"autotypenumbers\":\"strict\",\"colorway\":[\"#636efa\",\"#EF553B\",\"#00cc96\",\"#ab63fa\",\"#FFA15A\",\"#19d3f3\",\"#FF6692\",\"#B6E880\",\"#FF97FF\",\"#FECB52\"],\"font\":{\"color\":\"#2a3f5f\"},\"hovermode\":\"closest\",\"hoverlabel\":{\"align\":\"left\"},\"paper_bgcolor\":\"white\",\"plot_bgcolor\":\"#E5ECF6\",\"polar\":{\"bgcolor\":\"#E5ECF6\",\"angularaxis\":{\"gridcolor\":\"white\",\"linecolor\":\"white\",\"ticks\":\"\"},\"radialaxis\":{\"gridcolor\":\"white\",\"linecolor\":\"white\",\"ticks\":\"\"}},\"ternary\":{\"bgcolor\":\"#E5ECF6\",\"aaxis\":{\"gridcolor\":\"white\",\"linecolor\":\"white\",\"ticks\":\"\"},\"baxis\":{\"gridcolor\":\"white\",\"linecolor\":\"white\",\"ticks\":\"\"},\"caxis\":{\"gridcolor\":\"white\",\"linecolor\":\"white\",\"ticks\":\"\"}},\"coloraxis\":{\"colorbar\":{\"outlinewidth\":0,\"ticks\":\"\"}},\"colorscale\":{\"sequential\":[[0.0,\"#0d0887\"],[0.1111111111111111,\"#46039f\"],[0.2222222222222222,\"#7201a8\"],[0.3333333333333333,\"#9c179e\"],[0.4444444444444444,\"#bd3786\"],[0.5555555555555556,\"#d8576b\"],[0.6666666666666666,\"#ed7953\"],[0.7777777777777778,\"#fb9f3a\"],[0.8888888888888888,\"#fdca26\"],[1.0,\"#f0f921\"]],\"sequentialminus\":[[0.0,\"#0d0887\"],[0.1111111111111111,\"#46039f\"],[0.2222222222222222,\"#7201a8\"],[0.3333333333333333,\"#9c179e\"],[0.4444444444444444,\"#bd3786\"],[0.5555555555555556,\"#d8576b\"],[0.6666666666666666,\"#ed7953\"],[0.7777777777777778,\"#fb9f3a\"],[0.8888888888888888,\"#fdca26\"],[1.0,\"#f0f921\"]],\"diverging\":[[0,\"#8e0152\"],[0.1,\"#c51b7d\"],[0.2,\"#de77ae\"],[0.3,\"#f1b6da\"],[0.4,\"#fde0ef\"],[0.5,\"#f7f7f7\"],[0.6,\"#e6f5d0\"],[0.7,\"#b8e186\"],[0.8,\"#7fbc41\"],[0.9,\"#4d9221\"],[1,\"#276419\"]]},\"xaxis\":{\"gridcolor\":\"white\",\"linecolor\":\"white\",\"ticks\":\"\",\"title\":{\"standoff\":15},\"zerolinecolor\":\"white\",\"automargin\":true,\"zerolinewidth\":2},\"yaxis\":{\"gridcolor\":\"white\",\"linecolor\":\"white\",\"ticks\":\"\",\"title\":{\"standoff\":15},\"zerolinecolor\":\"white\",\"automargin\":true,\"zerolinewidth\":2},\"scene\":{\"xaxis\":{\"backgroundcolor\":\"#E5ECF6\",\"gridcolor\":\"white\",\"linecolor\":\"white\",\"showbackground\":true,\"ticks\":\"\",\"zerolinecolor\":\"white\",\"gridwidth\":2},\"yaxis\":{\"backgroundcolor\":\"#E5ECF6\",\"gridcolor\":\"white\",\"linecolor\":\"white\",\"showbackground\":true,\"ticks\":\"\",\"zerolinecolor\":\"white\",\"gridwidth\":2},\"zaxis\":{\"backgroundcolor\":\"#E5ECF6\",\"gridcolor\":\"white\",\"linecolor\":\"white\",\"showbackground\":true,\"ticks\":\"\",\"zerolinecolor\":\"white\",\"gridwidth\":2}},\"shapedefaults\":{\"line\":{\"color\":\"#2a3f5f\"}},\"annotationdefaults\":{\"arrowcolor\":\"#2a3f5f\",\"arrowhead\":0,\"arrowwidth\":1},\"geo\":{\"bgcolor\":\"white\",\"landcolor\":\"#E5ECF6\",\"subunitcolor\":\"white\",\"showland\":true,\"showlakes\":true,\"lakecolor\":\"white\"},\"title\":{\"x\":0.05},\"mapbox\":{\"style\":\"light\"}}},\"xaxis\":{\"anchor\":\"y\",\"domain\":[0.0,1.0],\"title\":{\"text\":\"District\"},\"showline\":false,\"showgrid\":false},\"yaxis\":{\"anchor\":\"x\",\"domain\":[0.0,1.0],\"title\":{\"text\":\"value\"}},\"legend\":{\"title\":{\"text\":\"Time\"},\"tracegroupgap\":0},\"title\":{\"text\":\"Line plot of District by time\"},\"width\":850},                        {\"responsive\": true}                    ).then(function(){\n",
       "                            \n",
       "var gd = document.getElementById('d32110f0-a025-437a-a496-b345e24219aa');\n",
       "var x = new MutationObserver(function (mutations, observer) {{\n",
       "        var display = window.getComputedStyle(gd).display;\n",
       "        if (!display || display === 'none') {{\n",
       "            console.log([gd, 'removed!']);\n",
       "            Plotly.purge(gd);\n",
       "            observer.disconnect();\n",
       "        }}\n",
       "}});\n",
       "\n",
       "// Listen for the removal of the full notebook cells\n",
       "var notebookContainer = gd.closest('#notebook-container');\n",
       "if (notebookContainer) {{\n",
       "    x.observe(notebookContainer, {childList: true});\n",
       "}}\n",
       "\n",
       "// Listen for the clearing of the current output cell\n",
       "var outputEl = gd.closest('.output');\n",
       "if (outputEl) {{\n",
       "    x.observe(outputEl, {childList: true});\n",
       "}}\n",
       "\n",
       "                        })                };                });            </script>        </div>"
      ]
     },
     "metadata": {},
     "output_type": "display_data"
    }
   ],
   "source": [
    "Time = pd.read_csv('Time.csv')\n",
    "ts = pd.DataFrame(df.groupby(['District','Time']).size().unstack(fill_value=0))\n",
    "#ts= ts.loc[:,(ts[ts.columns].sum() > 70).values]\n",
    "fig_lin = px.line(ts, title = 'Line plot of District by time', color = 'Time', markers = True,width=850) #text=\"value\")\n",
    "fig_lin.update_layout(xaxis = dict(showline=False,showgrid=False))\n",
    "fig_lin.show()"
   ]
  },
  {
   "cell_type": "code",
   "execution_count": 90,
   "metadata": {},
   "outputs": [
    {
     "ename": "AttributeError",
     "evalue": "'Figure' object has no attribute 'scatter'",
     "output_type": "error",
     "traceback": [
      "\u001b[1;31m---------------------------------------------------------------------------\u001b[0m",
      "\u001b[1;31mAttributeError\u001b[0m                            Traceback (most recent call last)",
      "Cell \u001b[1;32mIn[90], line 1\u001b[0m\n\u001b[1;32m----> 1\u001b[0m \u001b[43mfig_lin\u001b[49m\u001b[38;5;241;43m.\u001b[39;49m\u001b[43mscatter\u001b[49m\u001b[38;5;241m.\u001b[39mplot\n",
      "\u001b[1;31mAttributeError\u001b[0m: 'Figure' object has no attribute 'scatter'"
     ]
    }
   ],
   "source": [
    "fig_lin.scatter.plot"
   ]
  },
  {
   "cell_type": "code",
   "execution_count": null,
   "metadata": {},
   "outputs": [],
   "source": []
  }
 ],
 "metadata": {
  "kernelspec": {
   "display_name": "Python 3 (ipykernel)",
   "language": "python",
   "name": "python3"
  },
  "language_info": {
   "codemirror_mode": {
    "name": "ipython",
    "version": 3
   },
   "file_extension": ".py",
   "mimetype": "text/x-python",
   "name": "python",
   "nbconvert_exporter": "python",
   "pygments_lexer": "ipython3",
   "version": "3.11.4"
  }
 },
 "nbformat": 4,
 "nbformat_minor": 4
}

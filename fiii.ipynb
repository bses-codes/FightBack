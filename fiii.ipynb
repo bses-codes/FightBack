{
 "cells": [
  {
   "cell_type": "code",
   "execution_count": 1,
   "id": "3d00f4e2",
   "metadata": {},
   "outputs": [],
   "source": [
    "import pandas as pd"
   ]
  },
  {
   "cell_type": "code",
   "execution_count": 2,
   "id": "35b99fe4",
   "metadata": {},
   "outputs": [],
   "source": [
    "import random\n",
    "import matplotlib.pyplot as plt\n",
    "import plotly.express as px\n",
    "import plotly.graph_objects as go"
   ]
  },
  {
   "cell_type": "code",
   "execution_count": 3,
   "id": "f30611a8",
   "metadata": {},
   "outputs": [],
   "source": [
    "df = pd.read_csv(\"cleandata.csv\",index_col=0)"
   ]
  },
  {
   "cell_type": "code",
   "execution_count": 4,
   "id": "2b76cba8",
   "metadata": {},
   "outputs": [
    {
     "data": {
      "text/html": [
       "<div>\n",
       "<style scoped>\n",
       "    .dataframe tbody tr th:only-of-type {\n",
       "        vertical-align: middle;\n",
       "    }\n",
       "\n",
       "    .dataframe tbody tr th {\n",
       "        vertical-align: top;\n",
       "    }\n",
       "\n",
       "    .dataframe thead th {\n",
       "        text-align: right;\n",
       "    }\n",
       "</style>\n",
       "<table border=\"1\" class=\"dataframe\">\n",
       "  <thead>\n",
       "    <tr style=\"text-align: right;\">\n",
       "      <th></th>\n",
       "      <th>Reference number</th>\n",
       "      <th>Description of Incidents</th>\n",
       "      <th>Type of Attack</th>\n",
       "      <th>Attempted or Raped</th>\n",
       "      <th>Reported To</th>\n",
       "      <th>Consequences of the attack</th>\n",
       "      <th>Date of Incident</th>\n",
       "      <th>Districts</th>\n",
       "      <th>Geographical Region</th>\n",
       "      <th>Sources</th>\n",
       "    </tr>\n",
       "  </thead>\n",
       "  <tbody>\n",
       "    <tr>\n",
       "      <th>0</th>\n",
       "      <td>CH14QV99NQ</td>\n",
       "      <td>An 18-year-old youth was arrested March 25 on ...</td>\n",
       "      <td>minor</td>\n",
       "      <td>molestation</td>\n",
       "      <td>parents</td>\n",
       "      <td>physical injury</td>\n",
       "      <td>25/03/2013</td>\n",
       "      <td>kathmandu</td>\n",
       "      <td>27.7199745185167, 85.32344429728326</td>\n",
       "      <td>thehimalayantimes.com</td>\n",
       "    </tr>\n",
       "    <tr>\n",
       "      <th>1</th>\n",
       "      <td>XJ99BF74EC</td>\n",
       "      <td>Police had taken under control Hitman Shahi (4...</td>\n",
       "      <td>minor</td>\n",
       "      <td>attempt</td>\n",
       "      <td>police</td>\n",
       "      <td>physical injury</td>\n",
       "      <td>03/04/2013</td>\n",
       "      <td>kathmandu</td>\n",
       "      <td>27.7199745185167, 85.32344429728326</td>\n",
       "      <td>nepalpolice.gov.np</td>\n",
       "    </tr>\n",
       "    <tr>\n",
       "      <th>2</th>\n",
       "      <td>IG49WH92XY</td>\n",
       "      <td>Fourteen year old Devendra Rana and eleven yea...</td>\n",
       "      <td>gang</td>\n",
       "      <td>assault</td>\n",
       "      <td>police</td>\n",
       "      <td>physical injury</td>\n",
       "      <td>01/05/2013</td>\n",
       "      <td>kathmandu</td>\n",
       "      <td>27.7199745185167, 85.32344429728326</td>\n",
       "      <td>nepalpolice.gov.np</td>\n",
       "    </tr>\n",
       "    <tr>\n",
       "      <th>3</th>\n",
       "      <td>IS62NJ41RL</td>\n",
       "      <td>Police on 07 May arrested Dharmaraj Jamarkatte...</td>\n",
       "      <td>minor</td>\n",
       "      <td>assault</td>\n",
       "      <td>police</td>\n",
       "      <td>physical injury</td>\n",
       "      <td>07/05/2013</td>\n",
       "      <td>kathmandu</td>\n",
       "      <td>27.7199745185167, 85.32344429728326</td>\n",
       "      <td>nepalpolice.gov.np</td>\n",
       "    </tr>\n",
       "    <tr>\n",
       "      <th>4</th>\n",
       "      <td>ZP39BS50LY</td>\n",
       "      <td>Police on 08 May arrested Bhakta Bahadur Blon ...</td>\n",
       "      <td>opportunist</td>\n",
       "      <td>assault</td>\n",
       "      <td>police</td>\n",
       "      <td>physical injury</td>\n",
       "      <td>08/05/2013</td>\n",
       "      <td>kathmandu</td>\n",
       "      <td>27.7199745185167, 85.32344429728326</td>\n",
       "      <td>thehimalayantimes.com</td>\n",
       "    </tr>\n",
       "    <tr>\n",
       "      <th>5</th>\n",
       "      <td>LP22DS72LE</td>\n",
       "      <td>Police on 16 May arrested a 43-year-old man of...</td>\n",
       "      <td>opportunist</td>\n",
       "      <td>attempt</td>\n",
       "      <td>police</td>\n",
       "      <td>physical injury</td>\n",
       "      <td>16/05/2013</td>\n",
       "      <td>kathmandu</td>\n",
       "      <td>27.7199745185167, 85.32344429728326</td>\n",
       "      <td>thehimalayantimes.com</td>\n",
       "    </tr>\n",
       "    <tr>\n",
       "      <th>6</th>\n",
       "      <td>MA88GP02AH</td>\n",
       "      <td>Kamalesh Shah (15) of Sitamadi, India, current...</td>\n",
       "      <td>minor</td>\n",
       "      <td>assault</td>\n",
       "      <td>police</td>\n",
       "      <td>physical injury</td>\n",
       "      <td>05/06/2013</td>\n",
       "      <td>kathmandu</td>\n",
       "      <td>27.7199745185167, 85.32344429728326</td>\n",
       "      <td>nepalpolice.gov.np</td>\n",
       "    </tr>\n",
       "    <tr>\n",
       "      <th>7</th>\n",
       "      <td>XT54XX52NQ</td>\n",
       "      <td>The Metropolitan Police Circle, Kalimati, on 1...</td>\n",
       "      <td>minor</td>\n",
       "      <td>assault</td>\n",
       "      <td>police</td>\n",
       "      <td>physical injury</td>\n",
       "      <td>19/06/2013</td>\n",
       "      <td>kathmandu</td>\n",
       "      <td>27.7199745185167, 85.32344429728326</td>\n",
       "      <td>nepalpolice.gov.np</td>\n",
       "    </tr>\n",
       "    <tr>\n",
       "      <th>8</th>\n",
       "      <td>LT42OQ97BA</td>\n",
       "      <td>Police on 21 June had arrested Shyam Lal Shres...</td>\n",
       "      <td>minor</td>\n",
       "      <td>assault</td>\n",
       "      <td>police</td>\n",
       "      <td>physical injury</td>\n",
       "      <td>21/06/2013</td>\n",
       "      <td>kathmandu</td>\n",
       "      <td>27.55752119624532, 85.0217998274353</td>\n",
       "      <td>nepalpolice.gov.np</td>\n",
       "    </tr>\n",
       "    <tr>\n",
       "      <th>9</th>\n",
       "      <td>WC76RN52WN</td>\n",
       "      <td>Police on 27 June arrested a manager of the Ja...</td>\n",
       "      <td>opportunist</td>\n",
       "      <td>assault</td>\n",
       "      <td>police</td>\n",
       "      <td>physical injury</td>\n",
       "      <td>27/06/2013</td>\n",
       "      <td>kathmandu</td>\n",
       "      <td>26.854997689608705, 86.66093541143567</td>\n",
       "      <td>thehimalayantimes.com</td>\n",
       "    </tr>\n",
       "  </tbody>\n",
       "</table>\n",
       "</div>"
      ],
      "text/plain": [
       "  Reference number                           Description of Incidents  \\\n",
       "0       CH14QV99NQ  An 18-year-old youth was arrested March 25 on ...   \n",
       "1       XJ99BF74EC  Police had taken under control Hitman Shahi (4...   \n",
       "2       IG49WH92XY  Fourteen year old Devendra Rana and eleven yea...   \n",
       "3       IS62NJ41RL  Police on 07 May arrested Dharmaraj Jamarkatte...   \n",
       "4       ZP39BS50LY  Police on 08 May arrested Bhakta Bahadur Blon ...   \n",
       "5       LP22DS72LE  Police on 16 May arrested a 43-year-old man of...   \n",
       "6       MA88GP02AH  Kamalesh Shah (15) of Sitamadi, India, current...   \n",
       "7       XT54XX52NQ  The Metropolitan Police Circle, Kalimati, on 1...   \n",
       "8       LT42OQ97BA  Police on 21 June had arrested Shyam Lal Shres...   \n",
       "9       WC76RN52WN  Police on 27 June arrested a manager of the Ja...   \n",
       "\n",
       "  Type of Attack Attempted or Raped Reported To Consequences of the attack  \\\n",
       "0          minor        molestation     parents            physical injury   \n",
       "1          minor            attempt      police            physical injury   \n",
       "2           gang            assault      police            physical injury   \n",
       "3          minor            assault      police            physical injury   \n",
       "4    opportunist            assault      police            physical injury   \n",
       "5    opportunist            attempt      police            physical injury   \n",
       "6          minor            assault      police            physical injury   \n",
       "7          minor            assault      police            physical injury   \n",
       "8          minor            assault      police            physical injury   \n",
       "9    opportunist            assault      police            physical injury   \n",
       "\n",
       "  Date of Incident  Districts                    Geographical Region  \\\n",
       "0       25/03/2013  kathmandu    27.7199745185167, 85.32344429728326   \n",
       "1       03/04/2013  kathmandu    27.7199745185167, 85.32344429728326   \n",
       "2       01/05/2013  kathmandu    27.7199745185167, 85.32344429728326   \n",
       "3       07/05/2013  kathmandu    27.7199745185167, 85.32344429728326   \n",
       "4       08/05/2013  kathmandu    27.7199745185167, 85.32344429728326   \n",
       "5       16/05/2013  kathmandu    27.7199745185167, 85.32344429728326   \n",
       "6       05/06/2013  kathmandu    27.7199745185167, 85.32344429728326   \n",
       "7       19/06/2013  kathmandu    27.7199745185167, 85.32344429728326   \n",
       "8       21/06/2013  kathmandu    27.55752119624532, 85.0217998274353   \n",
       "9       27/06/2013  kathmandu  26.854997689608705, 86.66093541143567   \n",
       "\n",
       "                 Sources  \n",
       "0  thehimalayantimes.com  \n",
       "1     nepalpolice.gov.np  \n",
       "2     nepalpolice.gov.np  \n",
       "3     nepalpolice.gov.np  \n",
       "4  thehimalayantimes.com  \n",
       "5  thehimalayantimes.com  \n",
       "6     nepalpolice.gov.np  \n",
       "7     nepalpolice.gov.np  \n",
       "8     nepalpolice.gov.np  \n",
       "9  thehimalayantimes.com  "
      ]
     },
     "execution_count": 4,
     "metadata": {},
     "output_type": "execute_result"
    }
   ],
   "source": [
    "df.head(10)"
   ]
  },
  {
   "attachments": {},
   "cell_type": "markdown",
   "id": "95216cf9",
   "metadata": {},
   "source": [
    "### Impact Assesment: Analysis of the \"Consequences of the attack \" column to understand the impacts on survivors and their communities.This can hilight the need for support systems and rehabilitation services."
   ]
  },
  {
   "cell_type": "code",
   "execution_count": 5,
   "id": "5accdd4b",
   "metadata": {},
   "outputs": [
    {
     "data": {
      "text/html": [
       "<div>\n",
       "<style scoped>\n",
       "    .dataframe tbody tr th:only-of-type {\n",
       "        vertical-align: middle;\n",
       "    }\n",
       "\n",
       "    .dataframe tbody tr th {\n",
       "        vertical-align: top;\n",
       "    }\n",
       "\n",
       "    .dataframe thead th {\n",
       "        text-align: right;\n",
       "    }\n",
       "</style>\n",
       "<table border=\"1\" class=\"dataframe\">\n",
       "  <thead>\n",
       "    <tr style=\"text-align: right;\">\n",
       "      <th></th>\n",
       "      <th>Districts</th>\n",
       "    </tr>\n",
       "    <tr>\n",
       "      <th>Districts</th>\n",
       "      <th></th>\n",
       "    </tr>\n",
       "  </thead>\n",
       "  <tbody>\n",
       "    <tr>\n",
       "      <th>achham</th>\n",
       "      <td>6</td>\n",
       "    </tr>\n",
       "    <tr>\n",
       "      <th>arghakhanchi</th>\n",
       "      <td>10</td>\n",
       "    </tr>\n",
       "    <tr>\n",
       "      <th>baglung</th>\n",
       "      <td>17</td>\n",
       "    </tr>\n",
       "    <tr>\n",
       "      <th>baitadi</th>\n",
       "      <td>19</td>\n",
       "    </tr>\n",
       "    <tr>\n",
       "      <th>bajhang</th>\n",
       "      <td>9</td>\n",
       "    </tr>\n",
       "    <tr>\n",
       "      <th>...</th>\n",
       "      <td>...</td>\n",
       "    </tr>\n",
       "    <tr>\n",
       "      <th>syangja</th>\n",
       "      <td>19</td>\n",
       "    </tr>\n",
       "    <tr>\n",
       "      <th>tanahu</th>\n",
       "      <td>35</td>\n",
       "    </tr>\n",
       "    <tr>\n",
       "      <th>taplejung</th>\n",
       "      <td>20</td>\n",
       "    </tr>\n",
       "    <tr>\n",
       "      <th>terhathum</th>\n",
       "      <td>29</td>\n",
       "    </tr>\n",
       "    <tr>\n",
       "      <th>udayapur</th>\n",
       "      <td>73</td>\n",
       "    </tr>\n",
       "  </tbody>\n",
       "</table>\n",
       "<p>75 rows × 1 columns</p>\n",
       "</div>"
      ],
      "text/plain": [
       "              Districts\n",
       "Districts              \n",
       "achham                6\n",
       "arghakhanchi         10\n",
       "baglung              17\n",
       "baitadi              19\n",
       "bajhang               9\n",
       "...                 ...\n",
       "syangja              19\n",
       "tanahu               35\n",
       "taplejung            20\n",
       "terhathum            29\n",
       "udayapur             73\n",
       "\n",
       "[75 rows x 1 columns]"
      ]
     },
     "execution_count": 5,
     "metadata": {},
     "output_type": "execute_result"
    }
   ],
   "source": [
    "district_grp = pd.DataFrame(df.groupby(['Districts']).size())\n",
    "district_grp.columns = ['Districts']\n",
    "district_grp"
   ]
  },
  {
   "cell_type": "code",
   "execution_count": 6,
   "id": "eece59a8",
   "metadata": {},
   "outputs": [],
   "source": [
    "consequences_counts = df['Consequences of the attack'].value_counts()"
   ]
  },
  {
   "cell_type": "code",
   "execution_count": 7,
   "id": "b4aa8961",
   "metadata": {},
   "outputs": [
    {
     "data": {
      "text/plain": [
       "array(['physical injury', 'mentally ill', 'murder', 'pregnant', 'death'],\n",
       "      dtype=object)"
      ]
     },
     "execution_count": 7,
     "metadata": {},
     "output_type": "execute_result"
    }
   ],
   "source": [
    "df[\"Consequences of the attack\"].unique()"
   ]
  },
  {
   "cell_type": "code",
   "execution_count": 8,
   "id": "0eea4079",
   "metadata": {},
   "outputs": [],
   "source": [
    "df[\"Consequences of the attack\"]=df[\"Consequences of the attack\"].str.lower()\n",
    "df[\"Consequences of the attack\"]=df[\"Consequences of the attack\"].str.strip()\n",
    "df[\"Consequences of the attack\"]=df[\"Consequences of the attack\"].str.replace(\"murdered\",\"murder\")\n",
    "df[\"Consequences of the attack\"]=df[\"Consequences of the attack\"].str.replace(\"physical attack\",\"physical Injury\")\n",
    "df[\"Consequences of the attack\"]=df[\"Consequences of the attack\"].str.replace(\"pregnent\",\"pregnant\")\n",
    "df[\"Consequences of the attack\"]=df[\"Consequences of the attack\"].str.replace(\"dearth\",\"death\")\n",
    "df[\"Consequences of the attack\"]=df[\"Consequences of the attack\"].str.replace(\"mantally ill\",\"Mentally ill\")\n",
    "df[\"Consequences of the attack\"]=df[\"Consequences of the attack\"].str.replace(\"physical injury\",\"physical Injury\")"
   ]
  },
  {
   "cell_type": "code",
   "execution_count": 9,
   "id": "9b10ca4f",
   "metadata": {},
   "outputs": [
    {
     "data": {
      "text/plain": [
       "array(['physical Injury', 'mentally ill', 'murder', 'pregnant', 'death'],\n",
       "      dtype=object)"
      ]
     },
     "execution_count": 9,
     "metadata": {},
     "output_type": "execute_result"
    }
   ],
   "source": [
    "df[\"Consequences of the attack\"].unique()"
   ]
  },
  {
   "cell_type": "code",
   "execution_count": 10,
   "id": "7650b31d",
   "metadata": {},
   "outputs": [
    {
     "data": {
      "text/plain": [
       "75"
      ]
     },
     "execution_count": 10,
     "metadata": {},
     "output_type": "execute_result"
    }
   ],
   "source": [
    "len(df[\"Districts\"].unique())"
   ]
  },
  {
   "cell_type": "code",
   "execution_count": 11,
   "id": "2a9ee39c",
   "metadata": {},
   "outputs": [],
   "source": [
    "df[\"Districts\"]=df[\"Districts\"].str.lower()\n",
    "df[\"Districts\"]=df[\"Districts\"].str.strip()\n",
    "df[\"Districts\"]=df[\"Districts\"].str.replace(\"kaverepalanchowk\",\"kavrepalanchok\")\n",
    "df[\"Districts\"]=df[\"Districts\"].str.replace(\"sunsary\",\"sunsari\")\n",
    "df[\"Districts\"]=df[\"Districts\"].str.replace(\"rupendhi\",\"rupandehi\")\n",
    "df[\"Districts\"]=df[\"Districts\"].str.replace(\"terahathum\",\"terhathum\")\n",
    "df[\"Districts\"]=df[\"Districts\"].str.replace(\"solukhubmu\",\"solukhumbu\")\n",
    "df[\"Districts\"]=df[\"Districts\"].str.replace(\"tehrathum\",\"terhathum\")\n",
    "df[\"Districts\"]=df[\"Districts\"].str.replace(\"terathum\",\"terhathum\")\n",
    "df[\"Districts\"]=df[\"Districts\"].str.replace(\"rupandahi\",\"rupandehi\")\n",
    "df[\"Districts\"]=df[\"Districts\"].str.replace(\"rupandhi\",\"rupandehi\")\n",
    "df[\"Districts\"]=df[\"Districts\"].str.replace(\"sindupalchok\",\"sindhupalchowk\")\n",
    "df[\"Districts\"]=df[\"Districts\"].str.replace(\"sindupalchowk\",\"sindhupalchowk\")\n",
    "df[\"Districts\"]=df[\"Districts\"].str.replace(\"sindhupalachok\",\"sindhupalchowk\")\n",
    "df[\"Districts\"]=df[\"Districts\"].str.replace(\"sindhhupalchok\",\"sindhupalchowk\")\n",
    "df[\"Districts\"]=df[\"Districts\"].str.replace(\"sindhupalchok\",\"sindhupalchowk\")\n",
    "df[\"Districts\"]=df[\"Districts\"].str.replace(\"sindhuplchwok\",\"sindhupalchowk\")\n",
    "df[\"Districts\"]=df[\"Districts\"].str.replace(\"sindhuplchowk\",\"sindhupalchowk\")\n",
    "df[\"Districts\"]=df[\"Districts\"].str.replace(\"sindhupalchwok\",\"sindhupalchowk\")\n",
    "df[\"Districts\"]=df[\"Districts\"].str.replace(\"mohattari\",\"mahottari\")\n",
    "df[\"Districts\"]=df[\"Districts\"].str.replace(\"ruoendehi\",\"rupandehi\")\n",
    "df[\"Districts\"]=df[\"Districts\"].str.replace(\"rupendehi\",\"rupandehi\")\n",
    "df[\"Districts\"]=df[\"Districts\"].str.replace(\"western rukum\",\"rukum\")\n",
    "df[\"Districts\"]=df[\"Districts\"].str.replace(\"rukum west, karnali\",\"rukum\")\n",
    "df[\"Districts\"]=df[\"Districts\"].str.replace(\"rukum \\(west\\)\",\"rukum\")\n",
    "df[\"Districts\"]=df[\"Districts\"].str.replace(\"rukum west\",\"rukum\")\n",
    "df[\"Districts\"]=df[\"Districts\"].str.replace(\"rukum east\",\"rukum\")\n",
    "df[\"Districts\"]=df[\"Districts\"].str.replace(\"kabhrepalanchok\",\"kavre\")\n",
    "df[\"Districts\"]=df[\"Districts\"].str.replace(\"kavrepalanchock\",\"kavre\")\n",
    "df[\"Districts\"]=df[\"Districts\"].str.replace(\"kaverepalanchok\",\"kavre\")\n",
    "df[\"Districts\"]=df[\"Districts\"].str.replace(\"kavrepalanchok\",\"kavre\")\n",
    "df[\"Districts\"]=df[\"Districts\"].str.replace(\"bhojur\",\"bhojpur\")\n",
    "df[\"Districts\"]=df[\"Districts\"].str.replace(\"sayangja\",\"syangja\")\n",
    "df[\"Districts\"]=df[\"Districts\"].str.replace(\"sayanja\",\"syangja\")\n",
    "df[\"Districts\"]=df[\"Districts\"].str.replace(\"panchathar\",\"panchthar\")\n",
    "df[\"Districts\"]=df[\"Districts\"].str.replace(\"pachthar\",\"panchthar\")\n",
    "df[\"Districts\"]=df[\"Districts\"].str.replace(\"tahanu\",\"tanahu\")\n",
    "df[\"Districts\"]=df[\"Districts\"].str.replace(\"tanahun\",\"tanahu\")\n",
    "df[\"Districts\"]=df[\"Districts\"].str.replace(\"udhayapur\",\"udayapur\")\n",
    "df[\"Districts\"]=df[\"Districts\"].str.replace(\"udaypur\",\"udayapur\")\n",
    "df[\"Districts\"]=df[\"Districts\"].str.replace(\"udaipur\",\"udayapur\")\n",
    "df[\"Districts\"]=df[\"Districts\"].str.replace(\"ilam\",\"illam\")\n",
    "df[\"Districts\"]=df[\"Districts\"].str.replace(\"kapilbastu\",\"kapilvastu\")\n",
    "df[\"Districts\"]=df[\"Districts\"].str.replace(\"bardia\",\"bardiya\")\n",
    "df[\"Districts\"]=df[\"Districts\"].str.replace(\"dailekh\",\"dailekh\")\n",
    "df[\"Districts\"]=df[\"Districts\"].str.replace(\"taplegunj\",\"taplejung\")\n",
    "df[\"Districts\"]=df[\"Districts\"].str.replace(\"dolkha\",\"dolakha\")\n",
    "df[\"Districts\"]=df[\"Districts\"].str.replace(\"nawaparasi west\",\"nawalparasi\")\n",
    "df[\"Districts\"]=df[\"Districts\"].str.replace(\"nawalparasi west\",\"nawalparasi\")\n",
    "df[\"Districts\"]=df[\"Districts\"].str.replace(\"nawalparasi east\",\"nawalparasi\")\n",
    "df[\"Districts\"]=df[\"Districts\"].str.replace(\"pratappur\",\"nawalparasi\")\n",
    "df[\"Districts\"]=df[\"Districts\"].str.replace(\"sapatari\",\"saptari\")\n",
    "df[\"Districts\"]=df[\"Districts\"].str.replace(\"chitawan\",\"chitwan\")\n",
    "df[\"Districts\"]=df[\"Districts\"].str.replace(\"solukhumbhu\",\"solukhumbu\")\n",
    "df[\"Districts\"]=df[\"Districts\"].str.replace(\"solukhubmu\",\"solukhumbu\")\n",
    "df[\"Districts\"]=df[\"Districts\"].str.replace(\"shankhuwasabha\",\"sankhuwasabha\")\n",
    "df[\"Districts\"]=df[\"Districts\"].str.replace(\"bakya\",\"banke\")\n",
    "df[\"Districts\"]=df[\"Districts\"].str.replace(\"rampur, palpa\",\"palpa\")\n",
    "df[\"Districts\"]=df[\"Districts\"].str.replace(\"gandaki, parbat\",\"parbat\")\n",
    "df[\"Districts\"]=df[\"Districts\"].str.replace(\"gandaki, myagdi\",\"myagdi\")\n",
    "df[\"Districts\"]=df[\"Districts\"].str.replace(\"karnali, dailekh\",\"dailekh\")\n",
    "df[\"Districts\"]=df[\"Districts\"].str.replace(\"mades,bara\",\"bara\")\n",
    "df[\"Districts\"]=df[\"Districts\"].str.replace(\"kritipur\",\"kathmandu\")\n",
    "df[\"Districts\"]=df[\"Districts\"].str.replace(\"okheldunga\",\"okhaldhunga\")\n",
    "df[\"Districts\"]=df[\"Districts\"].str.replace(\"mades,bara\",\"bara\")\n",
    "df[\"Districts\"]=df[\"Districts\"].str.replace(\"birgunj\",\"parsa\")\n",
    "df[\"Districts\"]=df[\"Districts\"].str.replace(\"hetauda\",\"makwanpur\")\n",
    "df[\"Districts\"]=df[\"Districts\"].str.replace(\"pokhara\",\"kaski\")\n",
    "df[\"Districts\"]=df[\"Districts\"].str.replace(\"itahari\",\"sunsari\")\n",
    "df[\"Districts\"]=df[\"Districts\"].str.replace(\"lumbini\",\"rupandehi\")\n",
    "df[\"Districts\"]=df[\"Districts\"].str.replace(\"dharan\",\"sunsari\")\n",
    "df[\"Districts\"]=df[\"Districts\"].str.replace(\"bardibas\",\"mahottari\")\n",
    "df[\"Districts\"]=df[\"Districts\"].str.replace(\"dhanusha\",\"dhanusa\")\n",
    "df[\"Districts\"]=df[\"Districts\"].str.replace(\"madi\",\"chitwan\")"
   ]
  },
  {
   "cell_type": "code",
   "execution_count": 12,
   "id": "2cc8ac92",
   "metadata": {},
   "outputs": [
    {
     "data": {
      "text/html": [
       "<div>\n",
       "<style scoped>\n",
       "    .dataframe tbody tr th:only-of-type {\n",
       "        vertical-align: middle;\n",
       "    }\n",
       "\n",
       "    .dataframe tbody tr th {\n",
       "        vertical-align: top;\n",
       "    }\n",
       "\n",
       "    .dataframe thead th {\n",
       "        text-align: right;\n",
       "    }\n",
       "</style>\n",
       "<table border=\"1\" class=\"dataframe\">\n",
       "  <thead>\n",
       "    <tr style=\"text-align: right;\">\n",
       "      <th></th>\n",
       "      <th>Reference number</th>\n",
       "      <th>Description of Incidents</th>\n",
       "      <th>Type of Attack</th>\n",
       "      <th>Attempted or Raped</th>\n",
       "      <th>Reported To</th>\n",
       "      <th>Consequences of the attack</th>\n",
       "      <th>Date of Incident</th>\n",
       "      <th>Districts</th>\n",
       "      <th>Geographical Region</th>\n",
       "      <th>Sources</th>\n",
       "    </tr>\n",
       "  </thead>\n",
       "  <tbody>\n",
       "  </tbody>\n",
       "</table>\n",
       "</div>"
      ],
      "text/plain": [
       "Empty DataFrame\n",
       "Columns: [Reference number, Description of Incidents, Type of Attack, Attempted or Raped, Reported To, Consequences of the attack, Date of Incident, Districts, Geographical Region, Sources]\n",
       "Index: []"
      ]
     },
     "execution_count": 12,
     "metadata": {},
     "output_type": "execute_result"
    }
   ],
   "source": [
    "df[df[\"Districts\"] == 'sudurpachim']"
   ]
  },
  {
   "cell_type": "code",
   "execution_count": 13,
   "id": "d4d7d721",
   "metadata": {},
   "outputs": [
    {
     "data": {
      "text/plain": [
       "array(['kathmandu', 'siraha', 'jhapa', 'rautahat', 'mahottari', 'sunsari',\n",
       "       'rupandehi', 'morang', 'sindhupalchowk', 'khotang', 'rukum',\n",
       "       'palpa', 'lamjung', 'gulmi', 'kavre', 'kaski', 'banke', 'bara',\n",
       "       'bhaktapur', 'pyuthan', 'sarlahi', 'bhojpur', 'terhathum', 'dang',\n",
       "       'syangja', 'kailali', 'kanchanpur', 'gorkha', 'dadeldhura',\n",
       "       'dhanusa', 'panchthar', 'sindhuli', 'tanahu', 'udayapur',\n",
       "       'makwanpur', 'illam', 'rasuwa', 'kapilvastu', 'baglung', 'bardiya',\n",
       "       'lalitpur', 'dailekh', 'myagdi', 'arghakhanchi', 'taplejung',\n",
       "       'dolakha', 'nawalparasi', 'darchula', 'salyan', 'surkhet', 'parsa',\n",
       "       'parbat', 'saptari', 'kalikot', 'chitwan', 'jajarkot', 'baitadi',\n",
       "       'bajura', 'nuwakot', 'bajhang', 'jumla', 'solukhumbu', 'mugu',\n",
       "       'dhading', 'dhankuta', 'doti', 'achham', 'okhaldhunga',\n",
       "       'ramechhap', 'mustang', 'dolpa', 'sankhuwasabha', 'rolpa', 'humla',\n",
       "       'manang'], dtype=object)"
      ]
     },
     "execution_count": 13,
     "metadata": {},
     "output_type": "execute_result"
    }
   ],
   "source": [
    "df[\"Districts\"].unique()"
   ]
  },
  {
   "cell_type": "code",
   "execution_count": 14,
   "id": "ab9d138b",
   "metadata": {},
   "outputs": [
    {
     "data": {
      "text/plain": [
       "75"
      ]
     },
     "execution_count": 14,
     "metadata": {},
     "output_type": "execute_result"
    }
   ],
   "source": [
    "len(df[\"Districts\"].unique())"
   ]
  },
  {
   "cell_type": "code",
   "execution_count": 15,
   "id": "36d28197",
   "metadata": {},
   "outputs": [
    {
     "data": {
      "text/html": [
       "<div>\n",
       "<style scoped>\n",
       "    .dataframe tbody tr th:only-of-type {\n",
       "        vertical-align: middle;\n",
       "    }\n",
       "\n",
       "    .dataframe tbody tr th {\n",
       "        vertical-align: top;\n",
       "    }\n",
       "\n",
       "    .dataframe thead th {\n",
       "        text-align: right;\n",
       "    }\n",
       "</style>\n",
       "<table border=\"1\" class=\"dataframe\">\n",
       "  <thead>\n",
       "    <tr style=\"text-align: right;\">\n",
       "      <th></th>\n",
       "      <th>Reference number</th>\n",
       "      <th>Description of Incidents</th>\n",
       "      <th>Type of Attack</th>\n",
       "      <th>Attempted or Raped</th>\n",
       "      <th>Reported To</th>\n",
       "      <th>Consequences of the attack</th>\n",
       "      <th>Date of Incident</th>\n",
       "      <th>Districts</th>\n",
       "      <th>Geographical Region</th>\n",
       "      <th>Sources</th>\n",
       "    </tr>\n",
       "  </thead>\n",
       "  <tbody>\n",
       "    <tr>\n",
       "      <th>0</th>\n",
       "      <td>CH14QV99NQ</td>\n",
       "      <td>An 18-year-old youth was arrested March 25 on ...</td>\n",
       "      <td>minor</td>\n",
       "      <td>molestation</td>\n",
       "      <td>parents</td>\n",
       "      <td>physical Injury</td>\n",
       "      <td>25/03/2013</td>\n",
       "      <td>kathmandu</td>\n",
       "      <td>27.7199745185167, 85.32344429728326</td>\n",
       "      <td>thehimalayantimes.com</td>\n",
       "    </tr>\n",
       "    <tr>\n",
       "      <th>1</th>\n",
       "      <td>XJ99BF74EC</td>\n",
       "      <td>Police had taken under control Hitman Shahi (4...</td>\n",
       "      <td>minor</td>\n",
       "      <td>attempt</td>\n",
       "      <td>police</td>\n",
       "      <td>physical Injury</td>\n",
       "      <td>03/04/2013</td>\n",
       "      <td>kathmandu</td>\n",
       "      <td>27.7199745185167, 85.32344429728326</td>\n",
       "      <td>nepalpolice.gov.np</td>\n",
       "    </tr>\n",
       "    <tr>\n",
       "      <th>2</th>\n",
       "      <td>IG49WH92XY</td>\n",
       "      <td>Fourteen year old Devendra Rana and eleven yea...</td>\n",
       "      <td>gang</td>\n",
       "      <td>assault</td>\n",
       "      <td>police</td>\n",
       "      <td>physical Injury</td>\n",
       "      <td>01/05/2013</td>\n",
       "      <td>kathmandu</td>\n",
       "      <td>27.7199745185167, 85.32344429728326</td>\n",
       "      <td>nepalpolice.gov.np</td>\n",
       "    </tr>\n",
       "    <tr>\n",
       "      <th>3</th>\n",
       "      <td>IS62NJ41RL</td>\n",
       "      <td>Police on 07 May arrested Dharmaraj Jamarkatte...</td>\n",
       "      <td>minor</td>\n",
       "      <td>assault</td>\n",
       "      <td>police</td>\n",
       "      <td>physical Injury</td>\n",
       "      <td>07/05/2013</td>\n",
       "      <td>kathmandu</td>\n",
       "      <td>27.7199745185167, 85.32344429728326</td>\n",
       "      <td>nepalpolice.gov.np</td>\n",
       "    </tr>\n",
       "    <tr>\n",
       "      <th>4</th>\n",
       "      <td>ZP39BS50LY</td>\n",
       "      <td>Police on 08 May arrested Bhakta Bahadur Blon ...</td>\n",
       "      <td>opportunist</td>\n",
       "      <td>assault</td>\n",
       "      <td>police</td>\n",
       "      <td>physical Injury</td>\n",
       "      <td>08/05/2013</td>\n",
       "      <td>kathmandu</td>\n",
       "      <td>27.7199745185167, 85.32344429728326</td>\n",
       "      <td>thehimalayantimes.com</td>\n",
       "    </tr>\n",
       "    <tr>\n",
       "      <th>...</th>\n",
       "      <td>...</td>\n",
       "      <td>...</td>\n",
       "      <td>...</td>\n",
       "      <td>...</td>\n",
       "      <td>...</td>\n",
       "      <td>...</td>\n",
       "      <td>...</td>\n",
       "      <td>...</td>\n",
       "      <td>...</td>\n",
       "      <td>...</td>\n",
       "    </tr>\n",
       "    <tr>\n",
       "      <th>2374</th>\n",
       "      <td>VQ02QJ16IA</td>\n",
       "      <td>One person has been arrested on charges of rap...</td>\n",
       "      <td>opportunist</td>\n",
       "      <td>assault</td>\n",
       "      <td>police</td>\n",
       "      <td>physical Injury</td>\n",
       "      <td>14/06/2023</td>\n",
       "      <td>lalitpur</td>\n",
       "      <td>27.662405818404125, 85.32435296718468</td>\n",
       "      <td>nepalmonitor.org</td>\n",
       "    </tr>\n",
       "    <tr>\n",
       "      <th>2375</th>\n",
       "      <td>OS92RX27HN</td>\n",
       "      <td>Baglung, a 17-year-old boy living in Nisikhola...</td>\n",
       "      <td>minor</td>\n",
       "      <td>assault</td>\n",
       "      <td>police</td>\n",
       "      <td>physical Injury</td>\n",
       "      <td>09/07/2023</td>\n",
       "      <td>baglung</td>\n",
       "      <td>28.28119980900559, 83.58164488651326</td>\n",
       "      <td>nepalpolice.gov.np</td>\n",
       "    </tr>\n",
       "    <tr>\n",
       "      <th>2376</th>\n",
       "      <td>LW75CB63DB</td>\n",
       "      <td>Jhapa, 31-year-old Dhan Kumar Limbu, resident ...</td>\n",
       "      <td>opportunist</td>\n",
       "      <td>assault</td>\n",
       "      <td>police</td>\n",
       "      <td>physical Injury</td>\n",
       "      <td>07/02/2023</td>\n",
       "      <td>jhapa</td>\n",
       "      <td>26.577739181619766, 87.89718581504616</td>\n",
       "      <td>nepalpolice.gov.np</td>\n",
       "    </tr>\n",
       "    <tr>\n",
       "      <th>2377</th>\n",
       "      <td>KH48LW89IO</td>\n",
       "      <td>Baglung, Police arrested 28-year-old Bimal Ham...</td>\n",
       "      <td>opportunist</td>\n",
       "      <td>assault</td>\n",
       "      <td>police</td>\n",
       "      <td>physical Injury</td>\n",
       "      <td>12/07/2023</td>\n",
       "      <td>baglung</td>\n",
       "      <td>28.28104863825078, 83.58215987061996</td>\n",
       "      <td>nepalpolice.gov.np</td>\n",
       "    </tr>\n",
       "    <tr>\n",
       "      <th>2378</th>\n",
       "      <td>HH53FD93DS</td>\n",
       "      <td>Man arrested from Sankhuwasabha on the charge ...</td>\n",
       "      <td>opportunist</td>\n",
       "      <td>assault</td>\n",
       "      <td>police</td>\n",
       "      <td>physical Injury</td>\n",
       "      <td>12/07/2023</td>\n",
       "      <td>sankhuwasabha</td>\n",
       "      <td>27.676079840209752, 87.30574864049214</td>\n",
       "      <td>nepalmonitor.org</td>\n",
       "    </tr>\n",
       "  </tbody>\n",
       "</table>\n",
       "<p>2379 rows × 10 columns</p>\n",
       "</div>"
      ],
      "text/plain": [
       "     Reference number                           Description of Incidents  \\\n",
       "0          CH14QV99NQ  An 18-year-old youth was arrested March 25 on ...   \n",
       "1          XJ99BF74EC  Police had taken under control Hitman Shahi (4...   \n",
       "2          IG49WH92XY  Fourteen year old Devendra Rana and eleven yea...   \n",
       "3          IS62NJ41RL  Police on 07 May arrested Dharmaraj Jamarkatte...   \n",
       "4          ZP39BS50LY  Police on 08 May arrested Bhakta Bahadur Blon ...   \n",
       "...               ...                                                ...   \n",
       "2374       VQ02QJ16IA  One person has been arrested on charges of rap...   \n",
       "2375       OS92RX27HN  Baglung, a 17-year-old boy living in Nisikhola...   \n",
       "2376       LW75CB63DB  Jhapa, 31-year-old Dhan Kumar Limbu, resident ...   \n",
       "2377       KH48LW89IO  Baglung, Police arrested 28-year-old Bimal Ham...   \n",
       "2378       HH53FD93DS  Man arrested from Sankhuwasabha on the charge ...   \n",
       "\n",
       "     Type of Attack Attempted or Raped Reported To Consequences of the attack  \\\n",
       "0             minor        molestation     parents            physical Injury   \n",
       "1             minor            attempt      police            physical Injury   \n",
       "2              gang            assault      police            physical Injury   \n",
       "3             minor            assault      police            physical Injury   \n",
       "4       opportunist            assault      police            physical Injury   \n",
       "...             ...                ...         ...                        ...   \n",
       "2374    opportunist            assault      police            physical Injury   \n",
       "2375          minor            assault      police            physical Injury   \n",
       "2376    opportunist            assault      police            physical Injury   \n",
       "2377    opportunist            assault      police            physical Injury   \n",
       "2378    opportunist            assault      police            physical Injury   \n",
       "\n",
       "     Date of Incident      Districts                    Geographical Region  \\\n",
       "0          25/03/2013      kathmandu    27.7199745185167, 85.32344429728326   \n",
       "1          03/04/2013      kathmandu    27.7199745185167, 85.32344429728326   \n",
       "2          01/05/2013      kathmandu    27.7199745185167, 85.32344429728326   \n",
       "3          07/05/2013      kathmandu    27.7199745185167, 85.32344429728326   \n",
       "4          08/05/2013      kathmandu    27.7199745185167, 85.32344429728326   \n",
       "...               ...            ...                                    ...   \n",
       "2374       14/06/2023       lalitpur  27.662405818404125, 85.32435296718468   \n",
       "2375       09/07/2023        baglung   28.28119980900559, 83.58164488651326   \n",
       "2376       07/02/2023          jhapa  26.577739181619766, 87.89718581504616   \n",
       "2377       12/07/2023        baglung   28.28104863825078, 83.58215987061996   \n",
       "2378       12/07/2023  sankhuwasabha  27.676079840209752, 87.30574864049214   \n",
       "\n",
       "                    Sources  \n",
       "0     thehimalayantimes.com  \n",
       "1        nepalpolice.gov.np  \n",
       "2        nepalpolice.gov.np  \n",
       "3        nepalpolice.gov.np  \n",
       "4     thehimalayantimes.com  \n",
       "...                     ...  \n",
       "2374       nepalmonitor.org  \n",
       "2375     nepalpolice.gov.np  \n",
       "2376     nepalpolice.gov.np  \n",
       "2377     nepalpolice.gov.np  \n",
       "2378       nepalmonitor.org  \n",
       "\n",
       "[2379 rows x 10 columns]"
      ]
     },
     "execution_count": 15,
     "metadata": {},
     "output_type": "execute_result"
    }
   ],
   "source": [
    "df"
   ]
  },
  {
   "cell_type": "code",
   "execution_count": 16,
   "id": "683e1162",
   "metadata": {},
   "outputs": [],
   "source": [
    "df.dropna(inplace = True)"
   ]
  },
  {
   "cell_type": "code",
   "execution_count": 17,
   "id": "e992e4ee-723b-4af2-8a0e-c43e1bc367ab",
   "metadata": {},
   "outputs": [
    {
     "data": {
      "text/html": [
       "<div>\n",
       "<style scoped>\n",
       "    .dataframe tbody tr th:only-of-type {\n",
       "        vertical-align: middle;\n",
       "    }\n",
       "\n",
       "    .dataframe tbody tr th {\n",
       "        vertical-align: top;\n",
       "    }\n",
       "\n",
       "    .dataframe thead th {\n",
       "        text-align: right;\n",
       "    }\n",
       "</style>\n",
       "<table border=\"1\" class=\"dataframe\">\n",
       "  <thead>\n",
       "    <tr style=\"text-align: right;\">\n",
       "      <th></th>\n",
       "      <th>index</th>\n",
       "      <th>Reference number</th>\n",
       "      <th>Description of Incidents</th>\n",
       "      <th>Type of Attack</th>\n",
       "      <th>Attempted or Raped</th>\n",
       "      <th>Reported To</th>\n",
       "      <th>Consequences of the attack</th>\n",
       "      <th>Date of Incident</th>\n",
       "      <th>Districts</th>\n",
       "      <th>Geographical Region</th>\n",
       "      <th>Sources</th>\n",
       "    </tr>\n",
       "  </thead>\n",
       "  <tbody>\n",
       "    <tr>\n",
       "      <th>0</th>\n",
       "      <td>0</td>\n",
       "      <td>CH14QV99NQ</td>\n",
       "      <td>An 18-year-old youth was arrested March 25 on ...</td>\n",
       "      <td>minor</td>\n",
       "      <td>molestation</td>\n",
       "      <td>parents</td>\n",
       "      <td>physical Injury</td>\n",
       "      <td>25/03/2013</td>\n",
       "      <td>kathmandu</td>\n",
       "      <td>27.7199745185167, 85.32344429728326</td>\n",
       "      <td>thehimalayantimes.com</td>\n",
       "    </tr>\n",
       "    <tr>\n",
       "      <th>1</th>\n",
       "      <td>1</td>\n",
       "      <td>XJ99BF74EC</td>\n",
       "      <td>Police had taken under control Hitman Shahi (4...</td>\n",
       "      <td>minor</td>\n",
       "      <td>attempt</td>\n",
       "      <td>police</td>\n",
       "      <td>physical Injury</td>\n",
       "      <td>03/04/2013</td>\n",
       "      <td>kathmandu</td>\n",
       "      <td>27.7199745185167, 85.32344429728326</td>\n",
       "      <td>nepalpolice.gov.np</td>\n",
       "    </tr>\n",
       "    <tr>\n",
       "      <th>2</th>\n",
       "      <td>2</td>\n",
       "      <td>IG49WH92XY</td>\n",
       "      <td>Fourteen year old Devendra Rana and eleven yea...</td>\n",
       "      <td>gang</td>\n",
       "      <td>assault</td>\n",
       "      <td>police</td>\n",
       "      <td>physical Injury</td>\n",
       "      <td>01/05/2013</td>\n",
       "      <td>kathmandu</td>\n",
       "      <td>27.7199745185167, 85.32344429728326</td>\n",
       "      <td>nepalpolice.gov.np</td>\n",
       "    </tr>\n",
       "    <tr>\n",
       "      <th>3</th>\n",
       "      <td>3</td>\n",
       "      <td>IS62NJ41RL</td>\n",
       "      <td>Police on 07 May arrested Dharmaraj Jamarkatte...</td>\n",
       "      <td>minor</td>\n",
       "      <td>assault</td>\n",
       "      <td>police</td>\n",
       "      <td>physical Injury</td>\n",
       "      <td>07/05/2013</td>\n",
       "      <td>kathmandu</td>\n",
       "      <td>27.7199745185167, 85.32344429728326</td>\n",
       "      <td>nepalpolice.gov.np</td>\n",
       "    </tr>\n",
       "    <tr>\n",
       "      <th>4</th>\n",
       "      <td>4</td>\n",
       "      <td>ZP39BS50LY</td>\n",
       "      <td>Police on 08 May arrested Bhakta Bahadur Blon ...</td>\n",
       "      <td>opportunist</td>\n",
       "      <td>assault</td>\n",
       "      <td>police</td>\n",
       "      <td>physical Injury</td>\n",
       "      <td>08/05/2013</td>\n",
       "      <td>kathmandu</td>\n",
       "      <td>27.7199745185167, 85.32344429728326</td>\n",
       "      <td>thehimalayantimes.com</td>\n",
       "    </tr>\n",
       "    <tr>\n",
       "      <th>...</th>\n",
       "      <td>...</td>\n",
       "      <td>...</td>\n",
       "      <td>...</td>\n",
       "      <td>...</td>\n",
       "      <td>...</td>\n",
       "      <td>...</td>\n",
       "      <td>...</td>\n",
       "      <td>...</td>\n",
       "      <td>...</td>\n",
       "      <td>...</td>\n",
       "      <td>...</td>\n",
       "    </tr>\n",
       "    <tr>\n",
       "      <th>2374</th>\n",
       "      <td>2374</td>\n",
       "      <td>VQ02QJ16IA</td>\n",
       "      <td>One person has been arrested on charges of rap...</td>\n",
       "      <td>opportunist</td>\n",
       "      <td>assault</td>\n",
       "      <td>police</td>\n",
       "      <td>physical Injury</td>\n",
       "      <td>14/06/2023</td>\n",
       "      <td>lalitpur</td>\n",
       "      <td>27.662405818404125, 85.32435296718468</td>\n",
       "      <td>nepalmonitor.org</td>\n",
       "    </tr>\n",
       "    <tr>\n",
       "      <th>2375</th>\n",
       "      <td>2375</td>\n",
       "      <td>OS92RX27HN</td>\n",
       "      <td>Baglung, a 17-year-old boy living in Nisikhola...</td>\n",
       "      <td>minor</td>\n",
       "      <td>assault</td>\n",
       "      <td>police</td>\n",
       "      <td>physical Injury</td>\n",
       "      <td>09/07/2023</td>\n",
       "      <td>baglung</td>\n",
       "      <td>28.28119980900559, 83.58164488651326</td>\n",
       "      <td>nepalpolice.gov.np</td>\n",
       "    </tr>\n",
       "    <tr>\n",
       "      <th>2376</th>\n",
       "      <td>2376</td>\n",
       "      <td>LW75CB63DB</td>\n",
       "      <td>Jhapa, 31-year-old Dhan Kumar Limbu, resident ...</td>\n",
       "      <td>opportunist</td>\n",
       "      <td>assault</td>\n",
       "      <td>police</td>\n",
       "      <td>physical Injury</td>\n",
       "      <td>07/02/2023</td>\n",
       "      <td>jhapa</td>\n",
       "      <td>26.577739181619766, 87.89718581504616</td>\n",
       "      <td>nepalpolice.gov.np</td>\n",
       "    </tr>\n",
       "    <tr>\n",
       "      <th>2377</th>\n",
       "      <td>2377</td>\n",
       "      <td>KH48LW89IO</td>\n",
       "      <td>Baglung, Police arrested 28-year-old Bimal Ham...</td>\n",
       "      <td>opportunist</td>\n",
       "      <td>assault</td>\n",
       "      <td>police</td>\n",
       "      <td>physical Injury</td>\n",
       "      <td>12/07/2023</td>\n",
       "      <td>baglung</td>\n",
       "      <td>28.28104863825078, 83.58215987061996</td>\n",
       "      <td>nepalpolice.gov.np</td>\n",
       "    </tr>\n",
       "    <tr>\n",
       "      <th>2378</th>\n",
       "      <td>2378</td>\n",
       "      <td>HH53FD93DS</td>\n",
       "      <td>Man arrested from Sankhuwasabha on the charge ...</td>\n",
       "      <td>opportunist</td>\n",
       "      <td>assault</td>\n",
       "      <td>police</td>\n",
       "      <td>physical Injury</td>\n",
       "      <td>12/07/2023</td>\n",
       "      <td>sankhuwasabha</td>\n",
       "      <td>27.676079840209752, 87.30574864049214</td>\n",
       "      <td>nepalmonitor.org</td>\n",
       "    </tr>\n",
       "  </tbody>\n",
       "</table>\n",
       "<p>2379 rows × 11 columns</p>\n",
       "</div>"
      ],
      "text/plain": [
       "      index Reference number  \\\n",
       "0         0       CH14QV99NQ   \n",
       "1         1       XJ99BF74EC   \n",
       "2         2       IG49WH92XY   \n",
       "3         3       IS62NJ41RL   \n",
       "4         4       ZP39BS50LY   \n",
       "...     ...              ...   \n",
       "2374   2374       VQ02QJ16IA   \n",
       "2375   2375       OS92RX27HN   \n",
       "2376   2376       LW75CB63DB   \n",
       "2377   2377       KH48LW89IO   \n",
       "2378   2378       HH53FD93DS   \n",
       "\n",
       "                               Description of Incidents Type of Attack  \\\n",
       "0     An 18-year-old youth was arrested March 25 on ...          minor   \n",
       "1     Police had taken under control Hitman Shahi (4...          minor   \n",
       "2     Fourteen year old Devendra Rana and eleven yea...           gang   \n",
       "3     Police on 07 May arrested Dharmaraj Jamarkatte...          minor   \n",
       "4     Police on 08 May arrested Bhakta Bahadur Blon ...    opportunist   \n",
       "...                                                 ...            ...   \n",
       "2374  One person has been arrested on charges of rap...    opportunist   \n",
       "2375  Baglung, a 17-year-old boy living in Nisikhola...          minor   \n",
       "2376  Jhapa, 31-year-old Dhan Kumar Limbu, resident ...    opportunist   \n",
       "2377  Baglung, Police arrested 28-year-old Bimal Ham...    opportunist   \n",
       "2378  Man arrested from Sankhuwasabha on the charge ...    opportunist   \n",
       "\n",
       "     Attempted or Raped Reported To Consequences of the attack  \\\n",
       "0           molestation     parents            physical Injury   \n",
       "1               attempt      police            physical Injury   \n",
       "2               assault      police            physical Injury   \n",
       "3               assault      police            physical Injury   \n",
       "4               assault      police            physical Injury   \n",
       "...                 ...         ...                        ...   \n",
       "2374            assault      police            physical Injury   \n",
       "2375            assault      police            physical Injury   \n",
       "2376            assault      police            physical Injury   \n",
       "2377            assault      police            physical Injury   \n",
       "2378            assault      police            physical Injury   \n",
       "\n",
       "     Date of Incident      Districts                    Geographical Region  \\\n",
       "0          25/03/2013      kathmandu    27.7199745185167, 85.32344429728326   \n",
       "1          03/04/2013      kathmandu    27.7199745185167, 85.32344429728326   \n",
       "2          01/05/2013      kathmandu    27.7199745185167, 85.32344429728326   \n",
       "3          07/05/2013      kathmandu    27.7199745185167, 85.32344429728326   \n",
       "4          08/05/2013      kathmandu    27.7199745185167, 85.32344429728326   \n",
       "...               ...            ...                                    ...   \n",
       "2374       14/06/2023       lalitpur  27.662405818404125, 85.32435296718468   \n",
       "2375       09/07/2023        baglung   28.28119980900559, 83.58164488651326   \n",
       "2376       07/02/2023          jhapa  26.577739181619766, 87.89718581504616   \n",
       "2377       12/07/2023        baglung   28.28104863825078, 83.58215987061996   \n",
       "2378       12/07/2023  sankhuwasabha  27.676079840209752, 87.30574864049214   \n",
       "\n",
       "                    Sources  \n",
       "0     thehimalayantimes.com  \n",
       "1        nepalpolice.gov.np  \n",
       "2        nepalpolice.gov.np  \n",
       "3        nepalpolice.gov.np  \n",
       "4     thehimalayantimes.com  \n",
       "...                     ...  \n",
       "2374       nepalmonitor.org  \n",
       "2375     nepalpolice.gov.np  \n",
       "2376     nepalpolice.gov.np  \n",
       "2377     nepalpolice.gov.np  \n",
       "2378       nepalmonitor.org  \n",
       "\n",
       "[2379 rows x 11 columns]"
      ]
     },
     "execution_count": 17,
     "metadata": {},
     "output_type": "execute_result"
    }
   ],
   "source": [
    "df.reset_index()"
   ]
  },
  {
   "cell_type": "code",
   "execution_count": 18,
   "id": "31ea13d6-9855-4ba4-9cfd-d4d5d7014580",
   "metadata": {},
   "outputs": [],
   "source": [
    "count_data = df.groupby(['Date of Incident','Districts']).size().unstack(fill_value=0)"
   ]
  },
  {
   "cell_type": "code",
   "execution_count": 19,
   "id": "5e1635df",
   "metadata": {},
   "outputs": [
    {
     "data": {
      "text/html": [
       "<div>\n",
       "<style scoped>\n",
       "    .dataframe tbody tr th:only-of-type {\n",
       "        vertical-align: middle;\n",
       "    }\n",
       "\n",
       "    .dataframe tbody tr th {\n",
       "        vertical-align: top;\n",
       "    }\n",
       "\n",
       "    .dataframe thead th {\n",
       "        text-align: right;\n",
       "    }\n",
       "</style>\n",
       "<table border=\"1\" class=\"dataframe\">\n",
       "  <thead>\n",
       "    <tr style=\"text-align: right;\">\n",
       "      <th>Districts</th>\n",
       "      <th>achham</th>\n",
       "      <th>arghakhanchi</th>\n",
       "      <th>baglung</th>\n",
       "      <th>baitadi</th>\n",
       "      <th>bajhang</th>\n",
       "      <th>bajura</th>\n",
       "      <th>banke</th>\n",
       "      <th>bara</th>\n",
       "      <th>bardiya</th>\n",
       "      <th>bhaktapur</th>\n",
       "      <th>...</th>\n",
       "      <th>sindhupalchowk</th>\n",
       "      <th>siraha</th>\n",
       "      <th>solukhumbu</th>\n",
       "      <th>sunsari</th>\n",
       "      <th>surkhet</th>\n",
       "      <th>syangja</th>\n",
       "      <th>tanahu</th>\n",
       "      <th>taplejung</th>\n",
       "      <th>terhathum</th>\n",
       "      <th>udayapur</th>\n",
       "    </tr>\n",
       "    <tr>\n",
       "      <th>Date of Incident</th>\n",
       "      <th></th>\n",
       "      <th></th>\n",
       "      <th></th>\n",
       "      <th></th>\n",
       "      <th></th>\n",
       "      <th></th>\n",
       "      <th></th>\n",
       "      <th></th>\n",
       "      <th></th>\n",
       "      <th></th>\n",
       "      <th></th>\n",
       "      <th></th>\n",
       "      <th></th>\n",
       "      <th></th>\n",
       "      <th></th>\n",
       "      <th></th>\n",
       "      <th></th>\n",
       "      <th></th>\n",
       "      <th></th>\n",
       "      <th></th>\n",
       "      <th></th>\n",
       "    </tr>\n",
       "  </thead>\n",
       "  <tbody>\n",
       "    <tr>\n",
       "      <th>01/01/2016</th>\n",
       "      <td>0</td>\n",
       "      <td>0</td>\n",
       "      <td>0</td>\n",
       "      <td>0</td>\n",
       "      <td>0</td>\n",
       "      <td>0</td>\n",
       "      <td>0</td>\n",
       "      <td>0</td>\n",
       "      <td>0</td>\n",
       "      <td>0</td>\n",
       "      <td>...</td>\n",
       "      <td>0</td>\n",
       "      <td>0</td>\n",
       "      <td>0</td>\n",
       "      <td>0</td>\n",
       "      <td>0</td>\n",
       "      <td>0</td>\n",
       "      <td>0</td>\n",
       "      <td>0</td>\n",
       "      <td>0</td>\n",
       "      <td>0</td>\n",
       "    </tr>\n",
       "    <tr>\n",
       "      <th>01/01/2023</th>\n",
       "      <td>0</td>\n",
       "      <td>0</td>\n",
       "      <td>0</td>\n",
       "      <td>0</td>\n",
       "      <td>0</td>\n",
       "      <td>0</td>\n",
       "      <td>0</td>\n",
       "      <td>0</td>\n",
       "      <td>0</td>\n",
       "      <td>0</td>\n",
       "      <td>...</td>\n",
       "      <td>1</td>\n",
       "      <td>0</td>\n",
       "      <td>0</td>\n",
       "      <td>0</td>\n",
       "      <td>0</td>\n",
       "      <td>0</td>\n",
       "      <td>0</td>\n",
       "      <td>0</td>\n",
       "      <td>0</td>\n",
       "      <td>0</td>\n",
       "    </tr>\n",
       "    <tr>\n",
       "      <th>01/02/2016</th>\n",
       "      <td>0</td>\n",
       "      <td>0</td>\n",
       "      <td>0</td>\n",
       "      <td>0</td>\n",
       "      <td>0</td>\n",
       "      <td>0</td>\n",
       "      <td>0</td>\n",
       "      <td>0</td>\n",
       "      <td>0</td>\n",
       "      <td>0</td>\n",
       "      <td>...</td>\n",
       "      <td>0</td>\n",
       "      <td>0</td>\n",
       "      <td>0</td>\n",
       "      <td>0</td>\n",
       "      <td>0</td>\n",
       "      <td>0</td>\n",
       "      <td>0</td>\n",
       "      <td>0</td>\n",
       "      <td>0</td>\n",
       "      <td>0</td>\n",
       "    </tr>\n",
       "    <tr>\n",
       "      <th>01/02/2019</th>\n",
       "      <td>0</td>\n",
       "      <td>0</td>\n",
       "      <td>0</td>\n",
       "      <td>0</td>\n",
       "      <td>0</td>\n",
       "      <td>0</td>\n",
       "      <td>0</td>\n",
       "      <td>0</td>\n",
       "      <td>0</td>\n",
       "      <td>0</td>\n",
       "      <td>...</td>\n",
       "      <td>0</td>\n",
       "      <td>0</td>\n",
       "      <td>0</td>\n",
       "      <td>0</td>\n",
       "      <td>0</td>\n",
       "      <td>0</td>\n",
       "      <td>0</td>\n",
       "      <td>0</td>\n",
       "      <td>0</td>\n",
       "      <td>1</td>\n",
       "    </tr>\n",
       "    <tr>\n",
       "      <th>01/02/2020</th>\n",
       "      <td>0</td>\n",
       "      <td>0</td>\n",
       "      <td>0</td>\n",
       "      <td>0</td>\n",
       "      <td>0</td>\n",
       "      <td>0</td>\n",
       "      <td>0</td>\n",
       "      <td>0</td>\n",
       "      <td>0</td>\n",
       "      <td>0</td>\n",
       "      <td>...</td>\n",
       "      <td>0</td>\n",
       "      <td>0</td>\n",
       "      <td>0</td>\n",
       "      <td>0</td>\n",
       "      <td>0</td>\n",
       "      <td>0</td>\n",
       "      <td>0</td>\n",
       "      <td>0</td>\n",
       "      <td>0</td>\n",
       "      <td>0</td>\n",
       "    </tr>\n",
       "    <tr>\n",
       "      <th>...</th>\n",
       "      <td>...</td>\n",
       "      <td>...</td>\n",
       "      <td>...</td>\n",
       "      <td>...</td>\n",
       "      <td>...</td>\n",
       "      <td>...</td>\n",
       "      <td>...</td>\n",
       "      <td>...</td>\n",
       "      <td>...</td>\n",
       "      <td>...</td>\n",
       "      <td>...</td>\n",
       "      <td>...</td>\n",
       "      <td>...</td>\n",
       "      <td>...</td>\n",
       "      <td>...</td>\n",
       "      <td>...</td>\n",
       "      <td>...</td>\n",
       "      <td>...</td>\n",
       "      <td>...</td>\n",
       "      <td>...</td>\n",
       "      <td>...</td>\n",
       "    </tr>\n",
       "    <tr>\n",
       "      <th>31/08/2022</th>\n",
       "      <td>0</td>\n",
       "      <td>0</td>\n",
       "      <td>0</td>\n",
       "      <td>0</td>\n",
       "      <td>0</td>\n",
       "      <td>0</td>\n",
       "      <td>0</td>\n",
       "      <td>0</td>\n",
       "      <td>0</td>\n",
       "      <td>0</td>\n",
       "      <td>...</td>\n",
       "      <td>0</td>\n",
       "      <td>0</td>\n",
       "      <td>0</td>\n",
       "      <td>0</td>\n",
       "      <td>0</td>\n",
       "      <td>0</td>\n",
       "      <td>0</td>\n",
       "      <td>0</td>\n",
       "      <td>0</td>\n",
       "      <td>0</td>\n",
       "    </tr>\n",
       "    <tr>\n",
       "      <th>31/10/2019</th>\n",
       "      <td>0</td>\n",
       "      <td>0</td>\n",
       "      <td>0</td>\n",
       "      <td>0</td>\n",
       "      <td>0</td>\n",
       "      <td>0</td>\n",
       "      <td>0</td>\n",
       "      <td>0</td>\n",
       "      <td>0</td>\n",
       "      <td>0</td>\n",
       "      <td>...</td>\n",
       "      <td>0</td>\n",
       "      <td>0</td>\n",
       "      <td>0</td>\n",
       "      <td>0</td>\n",
       "      <td>0</td>\n",
       "      <td>0</td>\n",
       "      <td>0</td>\n",
       "      <td>1</td>\n",
       "      <td>0</td>\n",
       "      <td>0</td>\n",
       "    </tr>\n",
       "    <tr>\n",
       "      <th>31/10/2020</th>\n",
       "      <td>0</td>\n",
       "      <td>0</td>\n",
       "      <td>0</td>\n",
       "      <td>0</td>\n",
       "      <td>0</td>\n",
       "      <td>0</td>\n",
       "      <td>0</td>\n",
       "      <td>0</td>\n",
       "      <td>0</td>\n",
       "      <td>0</td>\n",
       "      <td>...</td>\n",
       "      <td>0</td>\n",
       "      <td>0</td>\n",
       "      <td>0</td>\n",
       "      <td>0</td>\n",
       "      <td>0</td>\n",
       "      <td>0</td>\n",
       "      <td>0</td>\n",
       "      <td>0</td>\n",
       "      <td>0</td>\n",
       "      <td>0</td>\n",
       "    </tr>\n",
       "    <tr>\n",
       "      <th>31/10/2021</th>\n",
       "      <td>0</td>\n",
       "      <td>0</td>\n",
       "      <td>0</td>\n",
       "      <td>0</td>\n",
       "      <td>0</td>\n",
       "      <td>0</td>\n",
       "      <td>0</td>\n",
       "      <td>0</td>\n",
       "      <td>0</td>\n",
       "      <td>0</td>\n",
       "      <td>...</td>\n",
       "      <td>0</td>\n",
       "      <td>0</td>\n",
       "      <td>0</td>\n",
       "      <td>0</td>\n",
       "      <td>0</td>\n",
       "      <td>0</td>\n",
       "      <td>0</td>\n",
       "      <td>0</td>\n",
       "      <td>0</td>\n",
       "      <td>0</td>\n",
       "    </tr>\n",
       "    <tr>\n",
       "      <th>31/12/2015</th>\n",
       "      <td>0</td>\n",
       "      <td>0</td>\n",
       "      <td>0</td>\n",
       "      <td>0</td>\n",
       "      <td>0</td>\n",
       "      <td>0</td>\n",
       "      <td>0</td>\n",
       "      <td>0</td>\n",
       "      <td>0</td>\n",
       "      <td>0</td>\n",
       "      <td>...</td>\n",
       "      <td>0</td>\n",
       "      <td>0</td>\n",
       "      <td>0</td>\n",
       "      <td>0</td>\n",
       "      <td>0</td>\n",
       "      <td>0</td>\n",
       "      <td>0</td>\n",
       "      <td>0</td>\n",
       "      <td>0</td>\n",
       "      <td>0</td>\n",
       "    </tr>\n",
       "  </tbody>\n",
       "</table>\n",
       "<p>1400 rows × 75 columns</p>\n",
       "</div>"
      ],
      "text/plain": [
       "Districts         achham  arghakhanchi  baglung  baitadi  bajhang  bajura  \\\n",
       "Date of Incident                                                            \n",
       "01/01/2016             0             0        0        0        0       0   \n",
       "01/01/2023             0             0        0        0        0       0   \n",
       "01/02/2016             0             0        0        0        0       0   \n",
       "01/02/2019             0             0        0        0        0       0   \n",
       "01/02/2020             0             0        0        0        0       0   \n",
       "...                  ...           ...      ...      ...      ...     ...   \n",
       "31/08/2022             0             0        0        0        0       0   \n",
       "31/10/2019             0             0        0        0        0       0   \n",
       "31/10/2020             0             0        0        0        0       0   \n",
       "31/10/2021             0             0        0        0        0       0   \n",
       "31/12/2015             0             0        0        0        0       0   \n",
       "\n",
       "Districts         banke  bara  bardiya  bhaktapur  ...  sindhupalchowk  \\\n",
       "Date of Incident                                   ...                   \n",
       "01/01/2016            0     0        0          0  ...               0   \n",
       "01/01/2023            0     0        0          0  ...               1   \n",
       "01/02/2016            0     0        0          0  ...               0   \n",
       "01/02/2019            0     0        0          0  ...               0   \n",
       "01/02/2020            0     0        0          0  ...               0   \n",
       "...                 ...   ...      ...        ...  ...             ...   \n",
       "31/08/2022            0     0        0          0  ...               0   \n",
       "31/10/2019            0     0        0          0  ...               0   \n",
       "31/10/2020            0     0        0          0  ...               0   \n",
       "31/10/2021            0     0        0          0  ...               0   \n",
       "31/12/2015            0     0        0          0  ...               0   \n",
       "\n",
       "Districts         siraha  solukhumbu  sunsari  surkhet  syangja  tanahu  \\\n",
       "Date of Incident                                                          \n",
       "01/01/2016             0           0        0        0        0       0   \n",
       "01/01/2023             0           0        0        0        0       0   \n",
       "01/02/2016             0           0        0        0        0       0   \n",
       "01/02/2019             0           0        0        0        0       0   \n",
       "01/02/2020             0           0        0        0        0       0   \n",
       "...                  ...         ...      ...      ...      ...     ...   \n",
       "31/08/2022             0           0        0        0        0       0   \n",
       "31/10/2019             0           0        0        0        0       0   \n",
       "31/10/2020             0           0        0        0        0       0   \n",
       "31/10/2021             0           0        0        0        0       0   \n",
       "31/12/2015             0           0        0        0        0       0   \n",
       "\n",
       "Districts         taplejung  terhathum  udayapur  \n",
       "Date of Incident                                  \n",
       "01/01/2016                0          0         0  \n",
       "01/01/2023                0          0         0  \n",
       "01/02/2016                0          0         0  \n",
       "01/02/2019                0          0         1  \n",
       "01/02/2020                0          0         0  \n",
       "...                     ...        ...       ...  \n",
       "31/08/2022                0          0         0  \n",
       "31/10/2019                1          0         0  \n",
       "31/10/2020                0          0         0  \n",
       "31/10/2021                0          0         0  \n",
       "31/12/2015                0          0         0  \n",
       "\n",
       "[1400 rows x 75 columns]"
      ]
     },
     "execution_count": 19,
     "metadata": {},
     "output_type": "execute_result"
    }
   ],
   "source": [
    "count_data"
   ]
  },
  {
   "attachments": {},
   "cell_type": "markdown",
   "id": "35614cee-2719-4627-9e47-62939ca29dff",
   "metadata": {},
   "source": [
    "##### From the bar graph above representing the consequences,we observe that the highest rate of occurrence is attributed to \"physical injury\".This indicates that survivors most commonly experience physical harm as a consequence of the crime,underlining the immediate and tangible impact on their well-being.In Kathmandu,the prevalence of consequences resulting from the data set is highest, with a notable emphasis on \"Physical Injury\"(almost no other consequences).\n",
    "#####  As of the current data, the districts of Manang and Rukum exhibit the lowest incidence of consequences arising from rape compared to the others.\n",
    "##### Survivors often experience significant psychological and emotional trauma. Common psychological consequences include mental illness,anxiety, depression, post-traumatic stress disorder (PTSD), feelings of shame, guilt, fear, and self-blame. The emotional impact can be long-lasting and may require therapy and counseling for healing.And for this,Morang stands out as a district warranting attention. Similarly , we can observe other consequences in districts from the graph."
   ]
  },
  {
   "attachments": {},
   "cell_type": "markdown",
   "id": "24385fb9-4899-4563-bd6c-c8e7fe54fd8e",
   "metadata": {},
   "source": [
    "##### Understanding the consequences of rape is crucial for policymakers, support organizations, and communities to provide vital assistance to survivors. It highlights the need for comprehensive measures, including better access to medical and mental health services, legal protection and justice, community awareness, and education. Prevention efforts must promote consent, healthy relationships, and gender equality to foster safer communities for all."
   ]
  },
  {
   "cell_type": "code",
   "execution_count": 24,
   "id": "f1877b4d-d444-41ac-a3ba-d7273af64c6d",
   "metadata": {},
   "outputs": [
    {
     "data": {
      "text/html": [
       "<div>\n",
       "<style scoped>\n",
       "    .dataframe tbody tr th:only-of-type {\n",
       "        vertical-align: middle;\n",
       "    }\n",
       "\n",
       "    .dataframe tbody tr th {\n",
       "        vertical-align: top;\n",
       "    }\n",
       "\n",
       "    .dataframe thead th {\n",
       "        text-align: right;\n",
       "    }\n",
       "</style>\n",
       "<table border=\"1\" class=\"dataframe\">\n",
       "  <thead>\n",
       "    <tr style=\"text-align: right;\">\n",
       "      <th>Consequences of the attack</th>\n",
       "      <th>death</th>\n",
       "      <th>mentally ill</th>\n",
       "      <th>murder</th>\n",
       "      <th>physical Injury</th>\n",
       "      <th>pregnant</th>\n",
       "    </tr>\n",
       "    <tr>\n",
       "      <th>Districts</th>\n",
       "      <th></th>\n",
       "      <th></th>\n",
       "      <th></th>\n",
       "      <th></th>\n",
       "      <th></th>\n",
       "    </tr>\n",
       "  </thead>\n",
       "  <tbody>\n",
       "    <tr>\n",
       "      <th>achham</th>\n",
       "      <td>0</td>\n",
       "      <td>0</td>\n",
       "      <td>0</td>\n",
       "      <td>4</td>\n",
       "      <td>2</td>\n",
       "    </tr>\n",
       "    <tr>\n",
       "      <th>arghakhanchi</th>\n",
       "      <td>0</td>\n",
       "      <td>0</td>\n",
       "      <td>0</td>\n",
       "      <td>10</td>\n",
       "      <td>0</td>\n",
       "    </tr>\n",
       "    <tr>\n",
       "      <th>baglung</th>\n",
       "      <td>0</td>\n",
       "      <td>0</td>\n",
       "      <td>1</td>\n",
       "      <td>16</td>\n",
       "      <td>0</td>\n",
       "    </tr>\n",
       "    <tr>\n",
       "      <th>baitadi</th>\n",
       "      <td>0</td>\n",
       "      <td>0</td>\n",
       "      <td>2</td>\n",
       "      <td>17</td>\n",
       "      <td>0</td>\n",
       "    </tr>\n",
       "    <tr>\n",
       "      <th>bajhang</th>\n",
       "      <td>0</td>\n",
       "      <td>0</td>\n",
       "      <td>0</td>\n",
       "      <td>9</td>\n",
       "      <td>0</td>\n",
       "    </tr>\n",
       "    <tr>\n",
       "      <th>...</th>\n",
       "      <td>...</td>\n",
       "      <td>...</td>\n",
       "      <td>...</td>\n",
       "      <td>...</td>\n",
       "      <td>...</td>\n",
       "    </tr>\n",
       "    <tr>\n",
       "      <th>syangja</th>\n",
       "      <td>0</td>\n",
       "      <td>0</td>\n",
       "      <td>0</td>\n",
       "      <td>19</td>\n",
       "      <td>0</td>\n",
       "    </tr>\n",
       "    <tr>\n",
       "      <th>tanahu</th>\n",
       "      <td>0</td>\n",
       "      <td>0</td>\n",
       "      <td>0</td>\n",
       "      <td>34</td>\n",
       "      <td>1</td>\n",
       "    </tr>\n",
       "    <tr>\n",
       "      <th>taplejung</th>\n",
       "      <td>0</td>\n",
       "      <td>0</td>\n",
       "      <td>0</td>\n",
       "      <td>19</td>\n",
       "      <td>1</td>\n",
       "    </tr>\n",
       "    <tr>\n",
       "      <th>terhathum</th>\n",
       "      <td>0</td>\n",
       "      <td>0</td>\n",
       "      <td>0</td>\n",
       "      <td>29</td>\n",
       "      <td>0</td>\n",
       "    </tr>\n",
       "    <tr>\n",
       "      <th>udayapur</th>\n",
       "      <td>0</td>\n",
       "      <td>0</td>\n",
       "      <td>1</td>\n",
       "      <td>72</td>\n",
       "      <td>0</td>\n",
       "    </tr>\n",
       "  </tbody>\n",
       "</table>\n",
       "<p>75 rows × 5 columns</p>\n",
       "</div>"
      ],
      "text/plain": [
       "Consequences of the attack  death  mentally ill  murder  physical Injury  \\\n",
       "Districts                                                                  \n",
       "achham                          0             0       0                4   \n",
       "arghakhanchi                    0             0       0               10   \n",
       "baglung                         0             0       1               16   \n",
       "baitadi                         0             0       2               17   \n",
       "bajhang                         0             0       0                9   \n",
       "...                           ...           ...     ...              ...   \n",
       "syangja                         0             0       0               19   \n",
       "tanahu                          0             0       0               34   \n",
       "taplejung                       0             0       0               19   \n",
       "terhathum                       0             0       0               29   \n",
       "udayapur                        0             0       1               72   \n",
       "\n",
       "Consequences of the attack  pregnant  \n",
       "Districts                             \n",
       "achham                             2  \n",
       "arghakhanchi                       0  \n",
       "baglung                            0  \n",
       "baitadi                            0  \n",
       "bajhang                            0  \n",
       "...                              ...  \n",
       "syangja                            0  \n",
       "tanahu                             1  \n",
       "taplejung                          1  \n",
       "terhathum                          0  \n",
       "udayapur                           0  \n",
       "\n",
       "[75 rows x 5 columns]"
      ]
     },
     "execution_count": 24,
     "metadata": {},
     "output_type": "execute_result"
    }
   ],
   "source": [
    "district_grp = pd.DataFrame(df.groupby(['Districts']).size())\n",
    "cons_grp = pd.DataFrame(df.groupby(['Districts','Consequences of the attack']).size().unstack(fill_value=0))\n",
    "#district_grp.columns = ['Consequences']\n",
    "cons_grp"
   ]
  },
  {
   "cell_type": "code",
   "execution_count": 25,
   "id": "24d09c8c-c5a6-4e77-b9a5-8517a9963b87",
   "metadata": {},
   "outputs": [
    {
     "ename": "ValueError",
     "evalue": "Value of 'y' is not the name of a column in 'data_frame'. Expected one of [0] but received: Consequences",
     "output_type": "error",
     "traceback": [
      "\u001b[1;31m---------------------------------------------------------------------------\u001b[0m",
      "\u001b[1;31mValueError\u001b[0m                                Traceback (most recent call last)",
      "Cell \u001b[1;32mIn[25], line 1\u001b[0m\n\u001b[1;32m----> 1\u001b[0m fig \u001b[38;5;241m=\u001b[39m \u001b[43mpx\u001b[49m\u001b[38;5;241;43m.\u001b[39;49m\u001b[43mbar\u001b[49m\u001b[43m(\u001b[49m\u001b[43mdistrict_grp\u001b[49m\u001b[43m,\u001b[49m\u001b[43m \u001b[49m\u001b[43my\u001b[49m\u001b[43m \u001b[49m\u001b[38;5;241;43m=\u001b[39;49m\u001b[43m \u001b[49m\u001b[38;5;124;43m'\u001b[39;49m\u001b[38;5;124;43mConsequences\u001b[39;49m\u001b[38;5;124;43m'\u001b[39;49m\u001b[43m,\u001b[49m\u001b[43m \u001b[49m\u001b[43mtitle\u001b[49m\u001b[43m \u001b[49m\u001b[38;5;241;43m=\u001b[39;49m\u001b[43m \u001b[49m\u001b[38;5;124;43m'\u001b[39;49m\u001b[38;5;124;43mBar plot of occurence of consequences\u001b[39;49m\u001b[38;5;124;43m'\u001b[39;49m\u001b[43m,\u001b[49m\n\u001b[0;32m      2\u001b[0m \u001b[43m             \u001b[49m\u001b[43mcolor\u001b[49m\u001b[43m \u001b[49m\u001b[38;5;241;43m=\u001b[39;49m\u001b[43m \u001b[49m\u001b[38;5;124;43m'\u001b[39;49m\u001b[38;5;124;43mConsequences\u001b[39;49m\u001b[38;5;124;43m'\u001b[39;49m\u001b[43m,\u001b[49m\u001b[43m \u001b[49m\u001b[43mcolor_continuous_scale\u001b[49m\u001b[38;5;241;43m=\u001b[39;49m\u001b[43mpx\u001b[49m\u001b[38;5;241;43m.\u001b[39;49m\u001b[43mcolors\u001b[49m\u001b[38;5;241;43m.\u001b[39;49m\u001b[43msequential\u001b[49m\u001b[38;5;241;43m.\u001b[39;49m\u001b[43mSunsetdark\u001b[49m\u001b[43m)\u001b[49m\n\u001b[0;32m      3\u001b[0m fig\u001b[38;5;241m.\u001b[39mshow()\n",
      "File \u001b[1;32m~\\AppData\\Local\\Programs\\Python\\Python311\\Lib\\site-packages\\plotly\\express\\_chart_types.py:373\u001b[0m, in \u001b[0;36mbar\u001b[1;34m(data_frame, x, y, color, pattern_shape, facet_row, facet_col, facet_col_wrap, facet_row_spacing, facet_col_spacing, hover_name, hover_data, custom_data, text, base, error_x, error_x_minus, error_y, error_y_minus, animation_frame, animation_group, category_orders, labels, color_discrete_sequence, color_discrete_map, color_continuous_scale, pattern_shape_sequence, pattern_shape_map, range_color, color_continuous_midpoint, opacity, orientation, barmode, log_x, log_y, range_x, range_y, text_auto, title, template, width, height)\u001b[0m\n\u001b[0;32m    325\u001b[0m \u001b[38;5;28;01mdef\u001b[39;00m \u001b[38;5;21mbar\u001b[39m(\n\u001b[0;32m    326\u001b[0m     data_frame\u001b[38;5;241m=\u001b[39m\u001b[38;5;28;01mNone\u001b[39;00m,\n\u001b[0;32m    327\u001b[0m     x\u001b[38;5;241m=\u001b[39m\u001b[38;5;28;01mNone\u001b[39;00m,\n\u001b[1;32m   (...)\u001b[0m\n\u001b[0;32m    367\u001b[0m     height\u001b[38;5;241m=\u001b[39m\u001b[38;5;28;01mNone\u001b[39;00m,\n\u001b[0;32m    368\u001b[0m ) \u001b[38;5;241m-\u001b[39m\u001b[38;5;241m>\u001b[39m go\u001b[38;5;241m.\u001b[39mFigure:\n\u001b[0;32m    369\u001b[0m \u001b[38;5;250m    \u001b[39m\u001b[38;5;124;03m\"\"\"\u001b[39;00m\n\u001b[0;32m    370\u001b[0m \u001b[38;5;124;03m    In a bar plot, each row of `data_frame` is represented as a rectangular\u001b[39;00m\n\u001b[0;32m    371\u001b[0m \u001b[38;5;124;03m    mark.\u001b[39;00m\n\u001b[0;32m    372\u001b[0m \u001b[38;5;124;03m    \"\"\"\u001b[39;00m\n\u001b[1;32m--> 373\u001b[0m     \u001b[38;5;28;01mreturn\u001b[39;00m \u001b[43mmake_figure\u001b[49m\u001b[43m(\u001b[49m\n\u001b[0;32m    374\u001b[0m \u001b[43m        \u001b[49m\u001b[43margs\u001b[49m\u001b[38;5;241;43m=\u001b[39;49m\u001b[38;5;28;43mlocals\u001b[39;49m\u001b[43m(\u001b[49m\u001b[43m)\u001b[49m\u001b[43m,\u001b[49m\n\u001b[0;32m    375\u001b[0m \u001b[43m        \u001b[49m\u001b[43mconstructor\u001b[49m\u001b[38;5;241;43m=\u001b[39;49m\u001b[43mgo\u001b[49m\u001b[38;5;241;43m.\u001b[39;49m\u001b[43mBar\u001b[49m\u001b[43m,\u001b[49m\n\u001b[0;32m    376\u001b[0m \u001b[43m        \u001b[49m\u001b[43mtrace_patch\u001b[49m\u001b[38;5;241;43m=\u001b[39;49m\u001b[38;5;28;43mdict\u001b[39;49m\u001b[43m(\u001b[49m\u001b[43mtextposition\u001b[49m\u001b[38;5;241;43m=\u001b[39;49m\u001b[38;5;124;43m\"\u001b[39;49m\u001b[38;5;124;43mauto\u001b[39;49m\u001b[38;5;124;43m\"\u001b[39;49m\u001b[43m)\u001b[49m\u001b[43m,\u001b[49m\n\u001b[0;32m    377\u001b[0m \u001b[43m        \u001b[49m\u001b[43mlayout_patch\u001b[49m\u001b[38;5;241;43m=\u001b[39;49m\u001b[38;5;28;43mdict\u001b[39;49m\u001b[43m(\u001b[49m\u001b[43mbarmode\u001b[49m\u001b[38;5;241;43m=\u001b[39;49m\u001b[43mbarmode\u001b[49m\u001b[43m)\u001b[49m\u001b[43m,\u001b[49m\n\u001b[0;32m    378\u001b[0m \u001b[43m    \u001b[49m\u001b[43m)\u001b[49m\n",
      "File \u001b[1;32m~\\AppData\\Local\\Programs\\Python\\Python311\\Lib\\site-packages\\plotly\\express\\_core.py:2003\u001b[0m, in \u001b[0;36mmake_figure\u001b[1;34m(args, constructor, trace_patch, layout_patch)\u001b[0m\n\u001b[0;32m   2000\u001b[0m layout_patch \u001b[38;5;241m=\u001b[39m layout_patch \u001b[38;5;129;01mor\u001b[39;00m {}\n\u001b[0;32m   2001\u001b[0m apply_default_cascade(args)\n\u001b[1;32m-> 2003\u001b[0m args \u001b[38;5;241m=\u001b[39m \u001b[43mbuild_dataframe\u001b[49m\u001b[43m(\u001b[49m\u001b[43margs\u001b[49m\u001b[43m,\u001b[49m\u001b[43m \u001b[49m\u001b[43mconstructor\u001b[49m\u001b[43m)\u001b[49m\n\u001b[0;32m   2004\u001b[0m \u001b[38;5;28;01mif\u001b[39;00m constructor \u001b[38;5;129;01min\u001b[39;00m [go\u001b[38;5;241m.\u001b[39mTreemap, go\u001b[38;5;241m.\u001b[39mSunburst, go\u001b[38;5;241m.\u001b[39mIcicle] \u001b[38;5;129;01mand\u001b[39;00m args[\u001b[38;5;124m\"\u001b[39m\u001b[38;5;124mpath\u001b[39m\u001b[38;5;124m\"\u001b[39m] \u001b[38;5;129;01mis\u001b[39;00m \u001b[38;5;129;01mnot\u001b[39;00m \u001b[38;5;28;01mNone\u001b[39;00m:\n\u001b[0;32m   2005\u001b[0m     args \u001b[38;5;241m=\u001b[39m process_dataframe_hierarchy(args)\n",
      "File \u001b[1;32m~\\AppData\\Local\\Programs\\Python\\Python311\\Lib\\site-packages\\plotly\\express\\_core.py:1412\u001b[0m, in \u001b[0;36mbuild_dataframe\u001b[1;34m(args, constructor)\u001b[0m\n\u001b[0;32m   1409\u001b[0m     args[\u001b[38;5;124m\"\u001b[39m\u001b[38;5;124mcolor\u001b[39m\u001b[38;5;124m\"\u001b[39m] \u001b[38;5;241m=\u001b[39m \u001b[38;5;28;01mNone\u001b[39;00m\n\u001b[0;32m   1410\u001b[0m \u001b[38;5;66;03m# now that things have been prepped, we do the systematic rewriting of `args`\u001b[39;00m\n\u001b[1;32m-> 1412\u001b[0m df_output, wide_id_vars \u001b[38;5;241m=\u001b[39m \u001b[43mprocess_args_into_dataframe\u001b[49m\u001b[43m(\u001b[49m\n\u001b[0;32m   1413\u001b[0m \u001b[43m    \u001b[49m\u001b[43margs\u001b[49m\u001b[43m,\u001b[49m\u001b[43m \u001b[49m\u001b[43mwide_mode\u001b[49m\u001b[43m,\u001b[49m\u001b[43m \u001b[49m\u001b[43mvar_name\u001b[49m\u001b[43m,\u001b[49m\u001b[43m \u001b[49m\u001b[43mvalue_name\u001b[49m\n\u001b[0;32m   1414\u001b[0m \u001b[43m\u001b[49m\u001b[43m)\u001b[49m\n\u001b[0;32m   1416\u001b[0m \u001b[38;5;66;03m# now that `df_output` exists and `args` contains only references, we complete\u001b[39;00m\n\u001b[0;32m   1417\u001b[0m \u001b[38;5;66;03m# the special-case and wide-mode handling by further rewriting args and/or mutating\u001b[39;00m\n\u001b[0;32m   1418\u001b[0m \u001b[38;5;66;03m# df_output\u001b[39;00m\n\u001b[0;32m   1420\u001b[0m count_name \u001b[38;5;241m=\u001b[39m _escape_col_name(df_output, \u001b[38;5;124m\"\u001b[39m\u001b[38;5;124mcount\u001b[39m\u001b[38;5;124m\"\u001b[39m, [var_name, value_name])\n",
      "File \u001b[1;32m~\\AppData\\Local\\Programs\\Python\\Python311\\Lib\\site-packages\\plotly\\express\\_core.py:1208\u001b[0m, in \u001b[0;36mprocess_args_into_dataframe\u001b[1;34m(args, wide_mode, var_name, value_name)\u001b[0m\n\u001b[0;32m   1206\u001b[0m         \u001b[38;5;28;01mif\u001b[39;00m argument \u001b[38;5;241m==\u001b[39m \u001b[38;5;124m\"\u001b[39m\u001b[38;5;124mindex\u001b[39m\u001b[38;5;124m\"\u001b[39m:\n\u001b[0;32m   1207\u001b[0m             err_msg \u001b[38;5;241m+\u001b[39m\u001b[38;5;241m=\u001b[39m \u001b[38;5;124m\"\u001b[39m\u001b[38;5;130;01m\\n\u001b[39;00m\u001b[38;5;124m To use the index, pass it in directly as `df.index`.\u001b[39m\u001b[38;5;124m\"\u001b[39m\n\u001b[1;32m-> 1208\u001b[0m         \u001b[38;5;28;01mraise\u001b[39;00m \u001b[38;5;167;01mValueError\u001b[39;00m(err_msg)\n\u001b[0;32m   1209\u001b[0m \u001b[38;5;28;01melif\u001b[39;00m length \u001b[38;5;129;01mand\u001b[39;00m \u001b[38;5;28mlen\u001b[39m(df_input[argument]) \u001b[38;5;241m!=\u001b[39m length:\n\u001b[0;32m   1210\u001b[0m     \u001b[38;5;28;01mraise\u001b[39;00m \u001b[38;5;167;01mValueError\u001b[39;00m(\n\u001b[0;32m   1211\u001b[0m         \u001b[38;5;124m\"\u001b[39m\u001b[38;5;124mAll arguments should have the same length. \u001b[39m\u001b[38;5;124m\"\u001b[39m\n\u001b[0;32m   1212\u001b[0m         \u001b[38;5;124m\"\u001b[39m\u001b[38;5;124mThe length of column argument `df[\u001b[39m\u001b[38;5;132;01m%s\u001b[39;00m\u001b[38;5;124m]` is \u001b[39m\u001b[38;5;132;01m%d\u001b[39;00m\u001b[38;5;124m, whereas the \u001b[39m\u001b[38;5;124m\"\u001b[39m\n\u001b[1;32m   (...)\u001b[0m\n\u001b[0;32m   1219\u001b[0m         )\n\u001b[0;32m   1220\u001b[0m     )\n",
      "\u001b[1;31mValueError\u001b[0m: Value of 'y' is not the name of a column in 'data_frame'. Expected one of [0] but received: Consequences"
     ]
    }
   ],
   "source": [
    "fig = px.bar(cons_grp, y = 'Consequences', title = 'Bar plot of occurence of consequences',\n",
    "             color = 'Consequences', color_continuous_scale=px.colors.sequential.Sunsetdark)\n",
    "fig.show()"
   ]
  },
  {
   "cell_type": "code",
   "execution_count": 46,
   "id": "40a8b2cd-f990-4d0c-a162-e0b9fff005b9",
   "metadata": {},
   "outputs": [
    {
     "data": {
      "application/vnd.plotly.v1+json": {
       "config": {
        "plotlyServerURL": "https://plot.ly"
       },
       "data": [
        {
         "alignmentgroup": "True",
         "hovertemplate": "Consequences of the attack=death<br>Districts=%{x}<br>value=%{y}<extra></extra>",
         "legendgroup": "death",
         "marker": {
          "color": "Black",
          "pattern": {
           "shape": ""
          }
         },
         "name": "death",
         "offsetgroup": "death",
         "orientation": "v",
         "showlegend": true,
         "textposition": "auto",
         "type": "bar",
         "x": [
          "achham",
          "arghakhanchi",
          "baglung",
          "baitadi",
          "bajhang",
          "bajura",
          "banke",
          "bara",
          "bardiya",
          "bhaktapur",
          "bhojpur",
          "chitwan",
          "dadeldhura",
          "dailekh",
          "dang",
          "darchula",
          "dhading",
          "dhankuta",
          "dhanusa",
          "dolakha",
          "dolpa",
          "doti",
          "gorkha",
          "gulmi",
          "humla",
          "illam",
          "jajarkot",
          "jhapa",
          "jumla",
          "kailali",
          "kalikot",
          "kanchanpur",
          "kapilvastu",
          "kaski",
          "kathmandu",
          "kavre",
          "khotang",
          "lalitpur",
          "lamjung",
          "mahottari",
          "makwanpur",
          "manang",
          "morang",
          "mugu",
          "mustang",
          "myagdi",
          "nawalparasi",
          "nuwakot",
          "okhaldhunga",
          "palpa",
          "panchthar",
          "parbat",
          "parsa",
          "pyuthan",
          "ramechhap",
          "rasuwa",
          "rautahat",
          "rolpa",
          "rukum",
          "rupandehi",
          "salyan",
          "sankhuwasabha",
          "saptari",
          "sarlahi",
          "sindhuli",
          "sindhupalchowk",
          "siraha",
          "solukhumbu",
          "sunsari",
          "surkhet",
          "syangja",
          "tanahu",
          "taplejung",
          "terhathum",
          "udayapur"
         ],
         "xaxis": "x",
         "y": [
          0,
          0,
          0,
          0,
          0,
          0,
          0,
          0,
          0,
          0,
          0,
          0,
          0,
          0,
          0,
          0,
          0,
          0,
          0,
          0,
          0,
          0,
          0,
          0,
          0,
          0,
          0,
          0,
          0,
          0,
          0,
          0,
          0,
          0,
          0,
          0,
          0,
          0,
          0,
          0,
          0,
          0,
          0,
          0,
          0,
          0,
          0,
          0,
          0,
          0,
          0,
          0,
          0,
          0,
          0,
          0,
          0,
          0,
          0,
          0,
          0,
          0,
          0,
          0,
          1,
          0,
          0,
          0,
          0,
          0,
          0,
          0,
          0,
          0,
          0
         ],
         "yaxis": "y"
        },
        {
         "alignmentgroup": "True",
         "hovertemplate": "Consequences of the attack=mentally ill<br>Districts=%{x}<br>value=%{y}<extra></extra>",
         "legendgroup": "mentally ill",
         "marker": {
          "color": "Blue",
          "pattern": {
           "shape": ""
          }
         },
         "name": "mentally ill",
         "offsetgroup": "mentally ill",
         "orientation": "v",
         "showlegend": true,
         "textposition": "auto",
         "type": "bar",
         "x": [
          "achham",
          "arghakhanchi",
          "baglung",
          "baitadi",
          "bajhang",
          "bajura",
          "banke",
          "bara",
          "bardiya",
          "bhaktapur",
          "bhojpur",
          "chitwan",
          "dadeldhura",
          "dailekh",
          "dang",
          "darchula",
          "dhading",
          "dhankuta",
          "dhanusa",
          "dolakha",
          "dolpa",
          "doti",
          "gorkha",
          "gulmi",
          "humla",
          "illam",
          "jajarkot",
          "jhapa",
          "jumla",
          "kailali",
          "kalikot",
          "kanchanpur",
          "kapilvastu",
          "kaski",
          "kathmandu",
          "kavre",
          "khotang",
          "lalitpur",
          "lamjung",
          "mahottari",
          "makwanpur",
          "manang",
          "morang",
          "mugu",
          "mustang",
          "myagdi",
          "nawalparasi",
          "nuwakot",
          "okhaldhunga",
          "palpa",
          "panchthar",
          "parbat",
          "parsa",
          "pyuthan",
          "ramechhap",
          "rasuwa",
          "rautahat",
          "rolpa",
          "rukum",
          "rupandehi",
          "salyan",
          "sankhuwasabha",
          "saptari",
          "sarlahi",
          "sindhuli",
          "sindhupalchowk",
          "siraha",
          "solukhumbu",
          "sunsari",
          "surkhet",
          "syangja",
          "tanahu",
          "taplejung",
          "terhathum",
          "udayapur"
         ],
         "xaxis": "x",
         "y": [
          0,
          0,
          0,
          0,
          0,
          0,
          0,
          0,
          0,
          0,
          0,
          0,
          0,
          0,
          0,
          0,
          0,
          0,
          0,
          0,
          0,
          0,
          0,
          0,
          0,
          0,
          0,
          0,
          0,
          0,
          0,
          0,
          0,
          0,
          0,
          0,
          0,
          0,
          0,
          0,
          0,
          0,
          1,
          0,
          0,
          0,
          0,
          0,
          0,
          0,
          0,
          0,
          0,
          0,
          0,
          0,
          0,
          0,
          0,
          0,
          0,
          0,
          0,
          0,
          0,
          0,
          0,
          0,
          0,
          0,
          0,
          0,
          0,
          0,
          0
         ],
         "yaxis": "y"
        },
        {
         "alignmentgroup": "True",
         "hovertemplate": "Consequences of the attack=murder<br>Districts=%{x}<br>value=%{y}<extra></extra>",
         "legendgroup": "murder",
         "marker": {
          "color": "Green",
          "pattern": {
           "shape": ""
          }
         },
         "name": "murder",
         "offsetgroup": "murder",
         "orientation": "v",
         "showlegend": true,
         "textposition": "auto",
         "type": "bar",
         "x": [
          "achham",
          "arghakhanchi",
          "baglung",
          "baitadi",
          "bajhang",
          "bajura",
          "banke",
          "bara",
          "bardiya",
          "bhaktapur",
          "bhojpur",
          "chitwan",
          "dadeldhura",
          "dailekh",
          "dang",
          "darchula",
          "dhading",
          "dhankuta",
          "dhanusa",
          "dolakha",
          "dolpa",
          "doti",
          "gorkha",
          "gulmi",
          "humla",
          "illam",
          "jajarkot",
          "jhapa",
          "jumla",
          "kailali",
          "kalikot",
          "kanchanpur",
          "kapilvastu",
          "kaski",
          "kathmandu",
          "kavre",
          "khotang",
          "lalitpur",
          "lamjung",
          "mahottari",
          "makwanpur",
          "manang",
          "morang",
          "mugu",
          "mustang",
          "myagdi",
          "nawalparasi",
          "nuwakot",
          "okhaldhunga",
          "palpa",
          "panchthar",
          "parbat",
          "parsa",
          "pyuthan",
          "ramechhap",
          "rasuwa",
          "rautahat",
          "rolpa",
          "rukum",
          "rupandehi",
          "salyan",
          "sankhuwasabha",
          "saptari",
          "sarlahi",
          "sindhuli",
          "sindhupalchowk",
          "siraha",
          "solukhumbu",
          "sunsari",
          "surkhet",
          "syangja",
          "tanahu",
          "taplejung",
          "terhathum",
          "udayapur"
         ],
         "xaxis": "x",
         "y": [
          0,
          0,
          1,
          2,
          0,
          0,
          0,
          0,
          0,
          0,
          0,
          0,
          0,
          0,
          0,
          0,
          0,
          0,
          1,
          0,
          0,
          0,
          0,
          0,
          0,
          0,
          0,
          2,
          0,
          0,
          0,
          1,
          0,
          0,
          0,
          1,
          1,
          1,
          0,
          1,
          2,
          0,
          0,
          0,
          0,
          0,
          0,
          0,
          0,
          1,
          0,
          0,
          1,
          0,
          0,
          0,
          1,
          0,
          1,
          0,
          0,
          0,
          0,
          0,
          0,
          0,
          1,
          0,
          0,
          2,
          0,
          0,
          0,
          0,
          1
         ],
         "yaxis": "y"
        },
        {
         "alignmentgroup": "True",
         "hovertemplate": "Consequences of the attack=physical Injury<br>Districts=%{x}<br>value=%{y}<extra></extra>",
         "legendgroup": "physical Injury",
         "marker": {
          "color": "#EECA3B",
          "pattern": {
           "shape": ""
          }
         },
         "name": "physical Injury",
         "offsetgroup": "physical Injury",
         "orientation": "v",
         "showlegend": true,
         "textposition": "auto",
         "type": "bar",
         "x": [
          "achham",
          "arghakhanchi",
          "baglung",
          "baitadi",
          "bajhang",
          "bajura",
          "banke",
          "bara",
          "bardiya",
          "bhaktapur",
          "bhojpur",
          "chitwan",
          "dadeldhura",
          "dailekh",
          "dang",
          "darchula",
          "dhading",
          "dhankuta",
          "dhanusa",
          "dolakha",
          "dolpa",
          "doti",
          "gorkha",
          "gulmi",
          "humla",
          "illam",
          "jajarkot",
          "jhapa",
          "jumla",
          "kailali",
          "kalikot",
          "kanchanpur",
          "kapilvastu",
          "kaski",
          "kathmandu",
          "kavre",
          "khotang",
          "lalitpur",
          "lamjung",
          "mahottari",
          "makwanpur",
          "manang",
          "morang",
          "mugu",
          "mustang",
          "myagdi",
          "nawalparasi",
          "nuwakot",
          "okhaldhunga",
          "palpa",
          "panchthar",
          "parbat",
          "parsa",
          "pyuthan",
          "ramechhap",
          "rasuwa",
          "rautahat",
          "rolpa",
          "rukum",
          "rupandehi",
          "salyan",
          "sankhuwasabha",
          "saptari",
          "sarlahi",
          "sindhuli",
          "sindhupalchowk",
          "siraha",
          "solukhumbu",
          "sunsari",
          "surkhet",
          "syangja",
          "tanahu",
          "taplejung",
          "terhathum",
          "udayapur"
         ],
         "xaxis": "x",
         "y": [
          4,
          10,
          16,
          17,
          9,
          5,
          35,
          35,
          59,
          57,
          32,
          32,
          7,
          20,
          96,
          12,
          16,
          11,
          52,
          16,
          6,
          9,
          25,
          30,
          8,
          15,
          6,
          76,
          8,
          72,
          4,
          50,
          56,
          39,
          129,
          30,
          24,
          70,
          16,
          16,
          39,
          1,
          72,
          6,
          8,
          24,
          65,
          23,
          23,
          36,
          16,
          9,
          38,
          6,
          20,
          3,
          44,
          6,
          19,
          99,
          28,
          12,
          77,
          28,
          6,
          40,
          91,
          10,
          74,
          11,
          19,
          34,
          19,
          29,
          72
         ],
         "yaxis": "y"
        },
        {
         "alignmentgroup": "True",
         "hovertemplate": "Consequences of the attack=pregnant<br>Districts=%{x}<br>value=%{y}<extra></extra>",
         "legendgroup": "pregnant",
         "marker": {
          "color": "Red",
          "pattern": {
           "shape": ""
          }
         },
         "name": "pregnant",
         "offsetgroup": "pregnant",
         "orientation": "v",
         "showlegend": true,
         "textposition": "auto",
         "type": "bar",
         "x": [
          "achham",
          "arghakhanchi",
          "baglung",
          "baitadi",
          "bajhang",
          "bajura",
          "banke",
          "bara",
          "bardiya",
          "bhaktapur",
          "bhojpur",
          "chitwan",
          "dadeldhura",
          "dailekh",
          "dang",
          "darchula",
          "dhading",
          "dhankuta",
          "dhanusa",
          "dolakha",
          "dolpa",
          "doti",
          "gorkha",
          "gulmi",
          "humla",
          "illam",
          "jajarkot",
          "jhapa",
          "jumla",
          "kailali",
          "kalikot",
          "kanchanpur",
          "kapilvastu",
          "kaski",
          "kathmandu",
          "kavre",
          "khotang",
          "lalitpur",
          "lamjung",
          "mahottari",
          "makwanpur",
          "manang",
          "morang",
          "mugu",
          "mustang",
          "myagdi",
          "nawalparasi",
          "nuwakot",
          "okhaldhunga",
          "palpa",
          "panchthar",
          "parbat",
          "parsa",
          "pyuthan",
          "ramechhap",
          "rasuwa",
          "rautahat",
          "rolpa",
          "rukum",
          "rupandehi",
          "salyan",
          "sankhuwasabha",
          "saptari",
          "sarlahi",
          "sindhuli",
          "sindhupalchowk",
          "siraha",
          "solukhumbu",
          "sunsari",
          "surkhet",
          "syangja",
          "tanahu",
          "taplejung",
          "terhathum",
          "udayapur"
         ],
         "xaxis": "x",
         "y": [
          2,
          0,
          0,
          0,
          0,
          1,
          0,
          1,
          0,
          0,
          0,
          0,
          0,
          0,
          0,
          0,
          0,
          0,
          0,
          0,
          0,
          0,
          1,
          0,
          0,
          0,
          0,
          0,
          0,
          1,
          1,
          1,
          0,
          0,
          0,
          1,
          0,
          0,
          0,
          2,
          0,
          0,
          0,
          0,
          0,
          0,
          0,
          0,
          1,
          0,
          0,
          0,
          2,
          0,
          0,
          0,
          0,
          0,
          0,
          1,
          0,
          0,
          2,
          0,
          0,
          0,
          0,
          0,
          0,
          0,
          0,
          1,
          1,
          0,
          0
         ],
         "yaxis": "y"
        }
       ],
       "layout": {
        "autosize": true,
        "barmode": "relative",
        "legend": {
         "title": {
          "text": "Consequences of the attack"
         },
         "tracegroupgap": 0
        },
        "template": {
         "data": {
          "bar": [
           {
            "error_x": {
             "color": "#2a3f5f"
            },
            "error_y": {
             "color": "#2a3f5f"
            },
            "marker": {
             "line": {
              "color": "#E5ECF6",
              "width": 0.5
             },
             "pattern": {
              "fillmode": "overlay",
              "size": 10,
              "solidity": 0.2
             }
            },
            "type": "bar"
           }
          ],
          "barpolar": [
           {
            "marker": {
             "line": {
              "color": "#E5ECF6",
              "width": 0.5
             },
             "pattern": {
              "fillmode": "overlay",
              "size": 10,
              "solidity": 0.2
             }
            },
            "type": "barpolar"
           }
          ],
          "carpet": [
           {
            "aaxis": {
             "endlinecolor": "#2a3f5f",
             "gridcolor": "white",
             "linecolor": "white",
             "minorgridcolor": "white",
             "startlinecolor": "#2a3f5f"
            },
            "baxis": {
             "endlinecolor": "#2a3f5f",
             "gridcolor": "white",
             "linecolor": "white",
             "minorgridcolor": "white",
             "startlinecolor": "#2a3f5f"
            },
            "type": "carpet"
           }
          ],
          "choropleth": [
           {
            "colorbar": {
             "outlinewidth": 0,
             "ticks": ""
            },
            "type": "choropleth"
           }
          ],
          "contour": [
           {
            "colorbar": {
             "outlinewidth": 0,
             "ticks": ""
            },
            "colorscale": [
             [
              0,
              "#0d0887"
             ],
             [
              0.1111111111111111,
              "#46039f"
             ],
             [
              0.2222222222222222,
              "#7201a8"
             ],
             [
              0.3333333333333333,
              "#9c179e"
             ],
             [
              0.4444444444444444,
              "#bd3786"
             ],
             [
              0.5555555555555556,
              "#d8576b"
             ],
             [
              0.6666666666666666,
              "#ed7953"
             ],
             [
              0.7777777777777778,
              "#fb9f3a"
             ],
             [
              0.8888888888888888,
              "#fdca26"
             ],
             [
              1,
              "#f0f921"
             ]
            ],
            "type": "contour"
           }
          ],
          "contourcarpet": [
           {
            "colorbar": {
             "outlinewidth": 0,
             "ticks": ""
            },
            "type": "contourcarpet"
           }
          ],
          "heatmap": [
           {
            "colorbar": {
             "outlinewidth": 0,
             "ticks": ""
            },
            "colorscale": [
             [
              0,
              "#0d0887"
             ],
             [
              0.1111111111111111,
              "#46039f"
             ],
             [
              0.2222222222222222,
              "#7201a8"
             ],
             [
              0.3333333333333333,
              "#9c179e"
             ],
             [
              0.4444444444444444,
              "#bd3786"
             ],
             [
              0.5555555555555556,
              "#d8576b"
             ],
             [
              0.6666666666666666,
              "#ed7953"
             ],
             [
              0.7777777777777778,
              "#fb9f3a"
             ],
             [
              0.8888888888888888,
              "#fdca26"
             ],
             [
              1,
              "#f0f921"
             ]
            ],
            "type": "heatmap"
           }
          ],
          "heatmapgl": [
           {
            "colorbar": {
             "outlinewidth": 0,
             "ticks": ""
            },
            "colorscale": [
             [
              0,
              "#0d0887"
             ],
             [
              0.1111111111111111,
              "#46039f"
             ],
             [
              0.2222222222222222,
              "#7201a8"
             ],
             [
              0.3333333333333333,
              "#9c179e"
             ],
             [
              0.4444444444444444,
              "#bd3786"
             ],
             [
              0.5555555555555556,
              "#d8576b"
             ],
             [
              0.6666666666666666,
              "#ed7953"
             ],
             [
              0.7777777777777778,
              "#fb9f3a"
             ],
             [
              0.8888888888888888,
              "#fdca26"
             ],
             [
              1,
              "#f0f921"
             ]
            ],
            "type": "heatmapgl"
           }
          ],
          "histogram": [
           {
            "marker": {
             "pattern": {
              "fillmode": "overlay",
              "size": 10,
              "solidity": 0.2
             }
            },
            "type": "histogram"
           }
          ],
          "histogram2d": [
           {
            "colorbar": {
             "outlinewidth": 0,
             "ticks": ""
            },
            "colorscale": [
             [
              0,
              "#0d0887"
             ],
             [
              0.1111111111111111,
              "#46039f"
             ],
             [
              0.2222222222222222,
              "#7201a8"
             ],
             [
              0.3333333333333333,
              "#9c179e"
             ],
             [
              0.4444444444444444,
              "#bd3786"
             ],
             [
              0.5555555555555556,
              "#d8576b"
             ],
             [
              0.6666666666666666,
              "#ed7953"
             ],
             [
              0.7777777777777778,
              "#fb9f3a"
             ],
             [
              0.8888888888888888,
              "#fdca26"
             ],
             [
              1,
              "#f0f921"
             ]
            ],
            "type": "histogram2d"
           }
          ],
          "histogram2dcontour": [
           {
            "colorbar": {
             "outlinewidth": 0,
             "ticks": ""
            },
            "colorscale": [
             [
              0,
              "#0d0887"
             ],
             [
              0.1111111111111111,
              "#46039f"
             ],
             [
              0.2222222222222222,
              "#7201a8"
             ],
             [
              0.3333333333333333,
              "#9c179e"
             ],
             [
              0.4444444444444444,
              "#bd3786"
             ],
             [
              0.5555555555555556,
              "#d8576b"
             ],
             [
              0.6666666666666666,
              "#ed7953"
             ],
             [
              0.7777777777777778,
              "#fb9f3a"
             ],
             [
              0.8888888888888888,
              "#fdca26"
             ],
             [
              1,
              "#f0f921"
             ]
            ],
            "type": "histogram2dcontour"
           }
          ],
          "mesh3d": [
           {
            "colorbar": {
             "outlinewidth": 0,
             "ticks": ""
            },
            "type": "mesh3d"
           }
          ],
          "parcoords": [
           {
            "line": {
             "colorbar": {
              "outlinewidth": 0,
              "ticks": ""
             }
            },
            "type": "parcoords"
           }
          ],
          "pie": [
           {
            "automargin": true,
            "type": "pie"
           }
          ],
          "scatter": [
           {
            "fillpattern": {
             "fillmode": "overlay",
             "size": 10,
             "solidity": 0.2
            },
            "type": "scatter"
           }
          ],
          "scatter3d": [
           {
            "line": {
             "colorbar": {
              "outlinewidth": 0,
              "ticks": ""
             }
            },
            "marker": {
             "colorbar": {
              "outlinewidth": 0,
              "ticks": ""
             }
            },
            "type": "scatter3d"
           }
          ],
          "scattercarpet": [
           {
            "marker": {
             "colorbar": {
              "outlinewidth": 0,
              "ticks": ""
             }
            },
            "type": "scattercarpet"
           }
          ],
          "scattergeo": [
           {
            "marker": {
             "colorbar": {
              "outlinewidth": 0,
              "ticks": ""
             }
            },
            "type": "scattergeo"
           }
          ],
          "scattergl": [
           {
            "marker": {
             "colorbar": {
              "outlinewidth": 0,
              "ticks": ""
             }
            },
            "type": "scattergl"
           }
          ],
          "scattermapbox": [
           {
            "marker": {
             "colorbar": {
              "outlinewidth": 0,
              "ticks": ""
             }
            },
            "type": "scattermapbox"
           }
          ],
          "scatterpolar": [
           {
            "marker": {
             "colorbar": {
              "outlinewidth": 0,
              "ticks": ""
             }
            },
            "type": "scatterpolar"
           }
          ],
          "scatterpolargl": [
           {
            "marker": {
             "colorbar": {
              "outlinewidth": 0,
              "ticks": ""
             }
            },
            "type": "scatterpolargl"
           }
          ],
          "scatterternary": [
           {
            "marker": {
             "colorbar": {
              "outlinewidth": 0,
              "ticks": ""
             }
            },
            "type": "scatterternary"
           }
          ],
          "surface": [
           {
            "colorbar": {
             "outlinewidth": 0,
             "ticks": ""
            },
            "colorscale": [
             [
              0,
              "#0d0887"
             ],
             [
              0.1111111111111111,
              "#46039f"
             ],
             [
              0.2222222222222222,
              "#7201a8"
             ],
             [
              0.3333333333333333,
              "#9c179e"
             ],
             [
              0.4444444444444444,
              "#bd3786"
             ],
             [
              0.5555555555555556,
              "#d8576b"
             ],
             [
              0.6666666666666666,
              "#ed7953"
             ],
             [
              0.7777777777777778,
              "#fb9f3a"
             ],
             [
              0.8888888888888888,
              "#fdca26"
             ],
             [
              1,
              "#f0f921"
             ]
            ],
            "type": "surface"
           }
          ],
          "table": [
           {
            "cells": {
             "fill": {
              "color": "#EBF0F8"
             },
             "line": {
              "color": "white"
             }
            },
            "header": {
             "fill": {
              "color": "#C8D4E3"
             },
             "line": {
              "color": "white"
             }
            },
            "type": "table"
           }
          ]
         },
         "layout": {
          "annotationdefaults": {
           "arrowcolor": "#2a3f5f",
           "arrowhead": 0,
           "arrowwidth": 1
          },
          "autotypenumbers": "strict",
          "coloraxis": {
           "colorbar": {
            "outlinewidth": 0,
            "ticks": ""
           }
          },
          "colorscale": {
           "diverging": [
            [
             0,
             "#8e0152"
            ],
            [
             0.1,
             "#c51b7d"
            ],
            [
             0.2,
             "#de77ae"
            ],
            [
             0.3,
             "#f1b6da"
            ],
            [
             0.4,
             "#fde0ef"
            ],
            [
             0.5,
             "#f7f7f7"
            ],
            [
             0.6,
             "#e6f5d0"
            ],
            [
             0.7,
             "#b8e186"
            ],
            [
             0.8,
             "#7fbc41"
            ],
            [
             0.9,
             "#4d9221"
            ],
            [
             1,
             "#276419"
            ]
           ],
           "sequential": [
            [
             0,
             "#0d0887"
            ],
            [
             0.1111111111111111,
             "#46039f"
            ],
            [
             0.2222222222222222,
             "#7201a8"
            ],
            [
             0.3333333333333333,
             "#9c179e"
            ],
            [
             0.4444444444444444,
             "#bd3786"
            ],
            [
             0.5555555555555556,
             "#d8576b"
            ],
            [
             0.6666666666666666,
             "#ed7953"
            ],
            [
             0.7777777777777778,
             "#fb9f3a"
            ],
            [
             0.8888888888888888,
             "#fdca26"
            ],
            [
             1,
             "#f0f921"
            ]
           ],
           "sequentialminus": [
            [
             0,
             "#0d0887"
            ],
            [
             0.1111111111111111,
             "#46039f"
            ],
            [
             0.2222222222222222,
             "#7201a8"
            ],
            [
             0.3333333333333333,
             "#9c179e"
            ],
            [
             0.4444444444444444,
             "#bd3786"
            ],
            [
             0.5555555555555556,
             "#d8576b"
            ],
            [
             0.6666666666666666,
             "#ed7953"
            ],
            [
             0.7777777777777778,
             "#fb9f3a"
            ],
            [
             0.8888888888888888,
             "#fdca26"
            ],
            [
             1,
             "#f0f921"
            ]
           ]
          },
          "colorway": [
           "#636efa",
           "#EF553B",
           "#00cc96",
           "#ab63fa",
           "#FFA15A",
           "#19d3f3",
           "#FF6692",
           "#B6E880",
           "#FF97FF",
           "#FECB52"
          ],
          "font": {
           "color": "#2a3f5f"
          },
          "geo": {
           "bgcolor": "white",
           "lakecolor": "white",
           "landcolor": "#E5ECF6",
           "showlakes": true,
           "showland": true,
           "subunitcolor": "white"
          },
          "hoverlabel": {
           "align": "left"
          },
          "hovermode": "closest",
          "mapbox": {
           "style": "light"
          },
          "paper_bgcolor": "white",
          "plot_bgcolor": "#E5ECF6",
          "polar": {
           "angularaxis": {
            "gridcolor": "white",
            "linecolor": "white",
            "ticks": ""
           },
           "bgcolor": "#E5ECF6",
           "radialaxis": {
            "gridcolor": "white",
            "linecolor": "white",
            "ticks": ""
           }
          },
          "scene": {
           "xaxis": {
            "backgroundcolor": "#E5ECF6",
            "gridcolor": "white",
            "gridwidth": 2,
            "linecolor": "white",
            "showbackground": true,
            "ticks": "",
            "zerolinecolor": "white"
           },
           "yaxis": {
            "backgroundcolor": "#E5ECF6",
            "gridcolor": "white",
            "gridwidth": 2,
            "linecolor": "white",
            "showbackground": true,
            "ticks": "",
            "zerolinecolor": "white"
           },
           "zaxis": {
            "backgroundcolor": "#E5ECF6",
            "gridcolor": "white",
            "gridwidth": 2,
            "linecolor": "white",
            "showbackground": true,
            "ticks": "",
            "zerolinecolor": "white"
           }
          },
          "shapedefaults": {
           "line": {
            "color": "#2a3f5f"
           }
          },
          "ternary": {
           "aaxis": {
            "gridcolor": "white",
            "linecolor": "white",
            "ticks": ""
           },
           "baxis": {
            "gridcolor": "white",
            "linecolor": "white",
            "ticks": ""
           },
           "bgcolor": "#E5ECF6",
           "caxis": {
            "gridcolor": "white",
            "linecolor": "white",
            "ticks": ""
           }
          },
          "title": {
           "x": 0.05
          },
          "xaxis": {
           "automargin": true,
           "gridcolor": "white",
           "linecolor": "white",
           "ticks": "",
           "title": {
            "standoff": 15
           },
           "zerolinecolor": "white",
           "zerolinewidth": 2
          },
          "yaxis": {
           "automargin": true,
           "gridcolor": "white",
           "linecolor": "white",
           "ticks": "",
           "title": {
            "standoff": 15
           },
           "zerolinecolor": "white",
           "zerolinewidth": 2
          }
         }
        },
        "title": {
         "text": "Bar plot of occurence of consequences"
        },
        "xaxis": {
         "anchor": "y",
         "autorange": true,
         "domain": [
          0,
          1
         ],
         "range": [
          -0.5,
          74.5
         ],
         "title": {
          "text": "Districts"
         },
         "type": "category"
        },
        "yaxis": {
         "anchor": "x",
         "autorange": true,
         "domain": [
          0,
          1
         ],
         "range": [
          0,
          135.78947368421052
         ],
         "title": {
          "text": "value"
         },
         "type": "linear"
        }
       }
      },
      "text/html": [
       "<div>                            <div id=\"ce984657-d199-4cc7-acde-f52af57a09e9\" class=\"plotly-graph-div\" style=\"height:525px; width:100%;\"></div>            <script type=\"text/javascript\">                require([\"plotly\"], function(Plotly) {                    window.PLOTLYENV=window.PLOTLYENV || {};                                    if (document.getElementById(\"ce984657-d199-4cc7-acde-f52af57a09e9\")) {                    Plotly.newPlot(                        \"ce984657-d199-4cc7-acde-f52af57a09e9\",                        [{\"alignmentgroup\":\"True\",\"hovertemplate\":\"Consequences of the attack=death\\u003cbr\\u003eDistricts=%{x}\\u003cbr\\u003evalue=%{y}\\u003cextra\\u003e\\u003c\\u002fextra\\u003e\",\"legendgroup\":\"death\",\"marker\":{\"color\":\"Black\",\"pattern\":{\"shape\":\"\"}},\"name\":\"death\",\"offsetgroup\":\"death\",\"orientation\":\"v\",\"showlegend\":true,\"textposition\":\"auto\",\"x\":[\"achham\",\"arghakhanchi\",\"baglung\",\"baitadi\",\"bajhang\",\"bajura\",\"banke\",\"bara\",\"bardiya\",\"bhaktapur\",\"bhojpur\",\"chitwan\",\"dadeldhura\",\"dailekh\",\"dang\",\"darchula\",\"dhading\",\"dhankuta\",\"dhanusa\",\"dolakha\",\"dolpa\",\"doti\",\"gorkha\",\"gulmi\",\"humla\",\"illam\",\"jajarkot\",\"jhapa\",\"jumla\",\"kailali\",\"kalikot\",\"kanchanpur\",\"kapilvastu\",\"kaski\",\"kathmandu\",\"kavre\",\"khotang\",\"lalitpur\",\"lamjung\",\"mahottari\",\"makwanpur\",\"manang\",\"morang\",\"mugu\",\"mustang\",\"myagdi\",\"nawalparasi\",\"nuwakot\",\"okhaldhunga\",\"palpa\",\"panchthar\",\"parbat\",\"parsa\",\"pyuthan\",\"ramechhap\",\"rasuwa\",\"rautahat\",\"rolpa\",\"rukum\",\"rupandehi\",\"salyan\",\"sankhuwasabha\",\"saptari\",\"sarlahi\",\"sindhuli\",\"sindhupalchowk\",\"siraha\",\"solukhumbu\",\"sunsari\",\"surkhet\",\"syangja\",\"tanahu\",\"taplejung\",\"terhathum\",\"udayapur\"],\"xaxis\":\"x\",\"y\":[0,0,0,0,0,0,0,0,0,0,0,0,0,0,0,0,0,0,0,0,0,0,0,0,0,0,0,0,0,0,0,0,0,0,0,0,0,0,0,0,0,0,0,0,0,0,0,0,0,0,0,0,0,0,0,0,0,0,0,0,0,0,0,0,1,0,0,0,0,0,0,0,0,0,0],\"yaxis\":\"y\",\"type\":\"bar\"},{\"alignmentgroup\":\"True\",\"hovertemplate\":\"Consequences of the attack=mentally ill\\u003cbr\\u003eDistricts=%{x}\\u003cbr\\u003evalue=%{y}\\u003cextra\\u003e\\u003c\\u002fextra\\u003e\",\"legendgroup\":\"mentally ill\",\"marker\":{\"color\":\"Blue\",\"pattern\":{\"shape\":\"\"}},\"name\":\"mentally ill\",\"offsetgroup\":\"mentally ill\",\"orientation\":\"v\",\"showlegend\":true,\"textposition\":\"auto\",\"x\":[\"achham\",\"arghakhanchi\",\"baglung\",\"baitadi\",\"bajhang\",\"bajura\",\"banke\",\"bara\",\"bardiya\",\"bhaktapur\",\"bhojpur\",\"chitwan\",\"dadeldhura\",\"dailekh\",\"dang\",\"darchula\",\"dhading\",\"dhankuta\",\"dhanusa\",\"dolakha\",\"dolpa\",\"doti\",\"gorkha\",\"gulmi\",\"humla\",\"illam\",\"jajarkot\",\"jhapa\",\"jumla\",\"kailali\",\"kalikot\",\"kanchanpur\",\"kapilvastu\",\"kaski\",\"kathmandu\",\"kavre\",\"khotang\",\"lalitpur\",\"lamjung\",\"mahottari\",\"makwanpur\",\"manang\",\"morang\",\"mugu\",\"mustang\",\"myagdi\",\"nawalparasi\",\"nuwakot\",\"okhaldhunga\",\"palpa\",\"panchthar\",\"parbat\",\"parsa\",\"pyuthan\",\"ramechhap\",\"rasuwa\",\"rautahat\",\"rolpa\",\"rukum\",\"rupandehi\",\"salyan\",\"sankhuwasabha\",\"saptari\",\"sarlahi\",\"sindhuli\",\"sindhupalchowk\",\"siraha\",\"solukhumbu\",\"sunsari\",\"surkhet\",\"syangja\",\"tanahu\",\"taplejung\",\"terhathum\",\"udayapur\"],\"xaxis\":\"x\",\"y\":[0,0,0,0,0,0,0,0,0,0,0,0,0,0,0,0,0,0,0,0,0,0,0,0,0,0,0,0,0,0,0,0,0,0,0,0,0,0,0,0,0,0,1,0,0,0,0,0,0,0,0,0,0,0,0,0,0,0,0,0,0,0,0,0,0,0,0,0,0,0,0,0,0,0,0],\"yaxis\":\"y\",\"type\":\"bar\"},{\"alignmentgroup\":\"True\",\"hovertemplate\":\"Consequences of the attack=murder\\u003cbr\\u003eDistricts=%{x}\\u003cbr\\u003evalue=%{y}\\u003cextra\\u003e\\u003c\\u002fextra\\u003e\",\"legendgroup\":\"murder\",\"marker\":{\"color\":\"Green\",\"pattern\":{\"shape\":\"\"}},\"name\":\"murder\",\"offsetgroup\":\"murder\",\"orientation\":\"v\",\"showlegend\":true,\"textposition\":\"auto\",\"x\":[\"achham\",\"arghakhanchi\",\"baglung\",\"baitadi\",\"bajhang\",\"bajura\",\"banke\",\"bara\",\"bardiya\",\"bhaktapur\",\"bhojpur\",\"chitwan\",\"dadeldhura\",\"dailekh\",\"dang\",\"darchula\",\"dhading\",\"dhankuta\",\"dhanusa\",\"dolakha\",\"dolpa\",\"doti\",\"gorkha\",\"gulmi\",\"humla\",\"illam\",\"jajarkot\",\"jhapa\",\"jumla\",\"kailali\",\"kalikot\",\"kanchanpur\",\"kapilvastu\",\"kaski\",\"kathmandu\",\"kavre\",\"khotang\",\"lalitpur\",\"lamjung\",\"mahottari\",\"makwanpur\",\"manang\",\"morang\",\"mugu\",\"mustang\",\"myagdi\",\"nawalparasi\",\"nuwakot\",\"okhaldhunga\",\"palpa\",\"panchthar\",\"parbat\",\"parsa\",\"pyuthan\",\"ramechhap\",\"rasuwa\",\"rautahat\",\"rolpa\",\"rukum\",\"rupandehi\",\"salyan\",\"sankhuwasabha\",\"saptari\",\"sarlahi\",\"sindhuli\",\"sindhupalchowk\",\"siraha\",\"solukhumbu\",\"sunsari\",\"surkhet\",\"syangja\",\"tanahu\",\"taplejung\",\"terhathum\",\"udayapur\"],\"xaxis\":\"x\",\"y\":[0,0,1,2,0,0,0,0,0,0,0,0,0,0,0,0,0,0,1,0,0,0,0,0,0,0,0,2,0,0,0,1,0,0,0,1,1,1,0,1,2,0,0,0,0,0,0,0,0,1,0,0,1,0,0,0,1,0,1,0,0,0,0,0,0,0,1,0,0,2,0,0,0,0,1],\"yaxis\":\"y\",\"type\":\"bar\"},{\"alignmentgroup\":\"True\",\"hovertemplate\":\"Consequences of the attack=physical Injury\\u003cbr\\u003eDistricts=%{x}\\u003cbr\\u003evalue=%{y}\\u003cextra\\u003e\\u003c\\u002fextra\\u003e\",\"legendgroup\":\"physical Injury\",\"marker\":{\"color\":\"#EECA3B\",\"pattern\":{\"shape\":\"\"}},\"name\":\"physical Injury\",\"offsetgroup\":\"physical Injury\",\"orientation\":\"v\",\"showlegend\":true,\"textposition\":\"auto\",\"x\":[\"achham\",\"arghakhanchi\",\"baglung\",\"baitadi\",\"bajhang\",\"bajura\",\"banke\",\"bara\",\"bardiya\",\"bhaktapur\",\"bhojpur\",\"chitwan\",\"dadeldhura\",\"dailekh\",\"dang\",\"darchula\",\"dhading\",\"dhankuta\",\"dhanusa\",\"dolakha\",\"dolpa\",\"doti\",\"gorkha\",\"gulmi\",\"humla\",\"illam\",\"jajarkot\",\"jhapa\",\"jumla\",\"kailali\",\"kalikot\",\"kanchanpur\",\"kapilvastu\",\"kaski\",\"kathmandu\",\"kavre\",\"khotang\",\"lalitpur\",\"lamjung\",\"mahottari\",\"makwanpur\",\"manang\",\"morang\",\"mugu\",\"mustang\",\"myagdi\",\"nawalparasi\",\"nuwakot\",\"okhaldhunga\",\"palpa\",\"panchthar\",\"parbat\",\"parsa\",\"pyuthan\",\"ramechhap\",\"rasuwa\",\"rautahat\",\"rolpa\",\"rukum\",\"rupandehi\",\"salyan\",\"sankhuwasabha\",\"saptari\",\"sarlahi\",\"sindhuli\",\"sindhupalchowk\",\"siraha\",\"solukhumbu\",\"sunsari\",\"surkhet\",\"syangja\",\"tanahu\",\"taplejung\",\"terhathum\",\"udayapur\"],\"xaxis\":\"x\",\"y\":[4,10,16,17,9,5,35,35,59,57,32,32,7,20,96,12,16,11,52,16,6,9,25,30,8,15,6,76,8,72,4,50,56,39,129,30,24,70,16,16,39,1,72,6,8,24,65,23,23,36,16,9,38,6,20,3,44,6,19,99,28,12,77,28,6,40,91,10,74,11,19,34,19,29,72],\"yaxis\":\"y\",\"type\":\"bar\"},{\"alignmentgroup\":\"True\",\"hovertemplate\":\"Consequences of the attack=pregnant\\u003cbr\\u003eDistricts=%{x}\\u003cbr\\u003evalue=%{y}\\u003cextra\\u003e\\u003c\\u002fextra\\u003e\",\"legendgroup\":\"pregnant\",\"marker\":{\"color\":\"Red\",\"pattern\":{\"shape\":\"\"}},\"name\":\"pregnant\",\"offsetgroup\":\"pregnant\",\"orientation\":\"v\",\"showlegend\":true,\"textposition\":\"auto\",\"x\":[\"achham\",\"arghakhanchi\",\"baglung\",\"baitadi\",\"bajhang\",\"bajura\",\"banke\",\"bara\",\"bardiya\",\"bhaktapur\",\"bhojpur\",\"chitwan\",\"dadeldhura\",\"dailekh\",\"dang\",\"darchula\",\"dhading\",\"dhankuta\",\"dhanusa\",\"dolakha\",\"dolpa\",\"doti\",\"gorkha\",\"gulmi\",\"humla\",\"illam\",\"jajarkot\",\"jhapa\",\"jumla\",\"kailali\",\"kalikot\",\"kanchanpur\",\"kapilvastu\",\"kaski\",\"kathmandu\",\"kavre\",\"khotang\",\"lalitpur\",\"lamjung\",\"mahottari\",\"makwanpur\",\"manang\",\"morang\",\"mugu\",\"mustang\",\"myagdi\",\"nawalparasi\",\"nuwakot\",\"okhaldhunga\",\"palpa\",\"panchthar\",\"parbat\",\"parsa\",\"pyuthan\",\"ramechhap\",\"rasuwa\",\"rautahat\",\"rolpa\",\"rukum\",\"rupandehi\",\"salyan\",\"sankhuwasabha\",\"saptari\",\"sarlahi\",\"sindhuli\",\"sindhupalchowk\",\"siraha\",\"solukhumbu\",\"sunsari\",\"surkhet\",\"syangja\",\"tanahu\",\"taplejung\",\"terhathum\",\"udayapur\"],\"xaxis\":\"x\",\"y\":[2,0,0,0,0,1,0,1,0,0,0,0,0,0,0,0,0,0,0,0,0,0,1,0,0,0,0,0,0,1,1,1,0,0,0,1,0,0,0,2,0,0,0,0,0,0,0,0,1,0,0,0,2,0,0,0,0,0,0,1,0,0,2,0,0,0,0,0,0,0,0,1,1,0,0],\"yaxis\":\"y\",\"type\":\"bar\"}],                        {\"template\":{\"data\":{\"histogram2dcontour\":[{\"type\":\"histogram2dcontour\",\"colorbar\":{\"outlinewidth\":0,\"ticks\":\"\"},\"colorscale\":[[0.0,\"#0d0887\"],[0.1111111111111111,\"#46039f\"],[0.2222222222222222,\"#7201a8\"],[0.3333333333333333,\"#9c179e\"],[0.4444444444444444,\"#bd3786\"],[0.5555555555555556,\"#d8576b\"],[0.6666666666666666,\"#ed7953\"],[0.7777777777777778,\"#fb9f3a\"],[0.8888888888888888,\"#fdca26\"],[1.0,\"#f0f921\"]]}],\"choropleth\":[{\"type\":\"choropleth\",\"colorbar\":{\"outlinewidth\":0,\"ticks\":\"\"}}],\"histogram2d\":[{\"type\":\"histogram2d\",\"colorbar\":{\"outlinewidth\":0,\"ticks\":\"\"},\"colorscale\":[[0.0,\"#0d0887\"],[0.1111111111111111,\"#46039f\"],[0.2222222222222222,\"#7201a8\"],[0.3333333333333333,\"#9c179e\"],[0.4444444444444444,\"#bd3786\"],[0.5555555555555556,\"#d8576b\"],[0.6666666666666666,\"#ed7953\"],[0.7777777777777778,\"#fb9f3a\"],[0.8888888888888888,\"#fdca26\"],[1.0,\"#f0f921\"]]}],\"heatmap\":[{\"type\":\"heatmap\",\"colorbar\":{\"outlinewidth\":0,\"ticks\":\"\"},\"colorscale\":[[0.0,\"#0d0887\"],[0.1111111111111111,\"#46039f\"],[0.2222222222222222,\"#7201a8\"],[0.3333333333333333,\"#9c179e\"],[0.4444444444444444,\"#bd3786\"],[0.5555555555555556,\"#d8576b\"],[0.6666666666666666,\"#ed7953\"],[0.7777777777777778,\"#fb9f3a\"],[0.8888888888888888,\"#fdca26\"],[1.0,\"#f0f921\"]]}],\"heatmapgl\":[{\"type\":\"heatmapgl\",\"colorbar\":{\"outlinewidth\":0,\"ticks\":\"\"},\"colorscale\":[[0.0,\"#0d0887\"],[0.1111111111111111,\"#46039f\"],[0.2222222222222222,\"#7201a8\"],[0.3333333333333333,\"#9c179e\"],[0.4444444444444444,\"#bd3786\"],[0.5555555555555556,\"#d8576b\"],[0.6666666666666666,\"#ed7953\"],[0.7777777777777778,\"#fb9f3a\"],[0.8888888888888888,\"#fdca26\"],[1.0,\"#f0f921\"]]}],\"contourcarpet\":[{\"type\":\"contourcarpet\",\"colorbar\":{\"outlinewidth\":0,\"ticks\":\"\"}}],\"contour\":[{\"type\":\"contour\",\"colorbar\":{\"outlinewidth\":0,\"ticks\":\"\"},\"colorscale\":[[0.0,\"#0d0887\"],[0.1111111111111111,\"#46039f\"],[0.2222222222222222,\"#7201a8\"],[0.3333333333333333,\"#9c179e\"],[0.4444444444444444,\"#bd3786\"],[0.5555555555555556,\"#d8576b\"],[0.6666666666666666,\"#ed7953\"],[0.7777777777777778,\"#fb9f3a\"],[0.8888888888888888,\"#fdca26\"],[1.0,\"#f0f921\"]]}],\"surface\":[{\"type\":\"surface\",\"colorbar\":{\"outlinewidth\":0,\"ticks\":\"\"},\"colorscale\":[[0.0,\"#0d0887\"],[0.1111111111111111,\"#46039f\"],[0.2222222222222222,\"#7201a8\"],[0.3333333333333333,\"#9c179e\"],[0.4444444444444444,\"#bd3786\"],[0.5555555555555556,\"#d8576b\"],[0.6666666666666666,\"#ed7953\"],[0.7777777777777778,\"#fb9f3a\"],[0.8888888888888888,\"#fdca26\"],[1.0,\"#f0f921\"]]}],\"mesh3d\":[{\"type\":\"mesh3d\",\"colorbar\":{\"outlinewidth\":0,\"ticks\":\"\"}}],\"scatter\":[{\"fillpattern\":{\"fillmode\":\"overlay\",\"size\":10,\"solidity\":0.2},\"type\":\"scatter\"}],\"parcoords\":[{\"type\":\"parcoords\",\"line\":{\"colorbar\":{\"outlinewidth\":0,\"ticks\":\"\"}}}],\"scatterpolargl\":[{\"type\":\"scatterpolargl\",\"marker\":{\"colorbar\":{\"outlinewidth\":0,\"ticks\":\"\"}}}],\"bar\":[{\"error_x\":{\"color\":\"#2a3f5f\"},\"error_y\":{\"color\":\"#2a3f5f\"},\"marker\":{\"line\":{\"color\":\"#E5ECF6\",\"width\":0.5},\"pattern\":{\"fillmode\":\"overlay\",\"size\":10,\"solidity\":0.2}},\"type\":\"bar\"}],\"scattergeo\":[{\"type\":\"scattergeo\",\"marker\":{\"colorbar\":{\"outlinewidth\":0,\"ticks\":\"\"}}}],\"scatterpolar\":[{\"type\":\"scatterpolar\",\"marker\":{\"colorbar\":{\"outlinewidth\":0,\"ticks\":\"\"}}}],\"histogram\":[{\"marker\":{\"pattern\":{\"fillmode\":\"overlay\",\"size\":10,\"solidity\":0.2}},\"type\":\"histogram\"}],\"scattergl\":[{\"type\":\"scattergl\",\"marker\":{\"colorbar\":{\"outlinewidth\":0,\"ticks\":\"\"}}}],\"scatter3d\":[{\"type\":\"scatter3d\",\"line\":{\"colorbar\":{\"outlinewidth\":0,\"ticks\":\"\"}},\"marker\":{\"colorbar\":{\"outlinewidth\":0,\"ticks\":\"\"}}}],\"scattermapbox\":[{\"type\":\"scattermapbox\",\"marker\":{\"colorbar\":{\"outlinewidth\":0,\"ticks\":\"\"}}}],\"scatterternary\":[{\"type\":\"scatterternary\",\"marker\":{\"colorbar\":{\"outlinewidth\":0,\"ticks\":\"\"}}}],\"scattercarpet\":[{\"type\":\"scattercarpet\",\"marker\":{\"colorbar\":{\"outlinewidth\":0,\"ticks\":\"\"}}}],\"carpet\":[{\"aaxis\":{\"endlinecolor\":\"#2a3f5f\",\"gridcolor\":\"white\",\"linecolor\":\"white\",\"minorgridcolor\":\"white\",\"startlinecolor\":\"#2a3f5f\"},\"baxis\":{\"endlinecolor\":\"#2a3f5f\",\"gridcolor\":\"white\",\"linecolor\":\"white\",\"minorgridcolor\":\"white\",\"startlinecolor\":\"#2a3f5f\"},\"type\":\"carpet\"}],\"table\":[{\"cells\":{\"fill\":{\"color\":\"#EBF0F8\"},\"line\":{\"color\":\"white\"}},\"header\":{\"fill\":{\"color\":\"#C8D4E3\"},\"line\":{\"color\":\"white\"}},\"type\":\"table\"}],\"barpolar\":[{\"marker\":{\"line\":{\"color\":\"#E5ECF6\",\"width\":0.5},\"pattern\":{\"fillmode\":\"overlay\",\"size\":10,\"solidity\":0.2}},\"type\":\"barpolar\"}],\"pie\":[{\"automargin\":true,\"type\":\"pie\"}]},\"layout\":{\"autotypenumbers\":\"strict\",\"colorway\":[\"#636efa\",\"#EF553B\",\"#00cc96\",\"#ab63fa\",\"#FFA15A\",\"#19d3f3\",\"#FF6692\",\"#B6E880\",\"#FF97FF\",\"#FECB52\"],\"font\":{\"color\":\"#2a3f5f\"},\"hovermode\":\"closest\",\"hoverlabel\":{\"align\":\"left\"},\"paper_bgcolor\":\"white\",\"plot_bgcolor\":\"#E5ECF6\",\"polar\":{\"bgcolor\":\"#E5ECF6\",\"angularaxis\":{\"gridcolor\":\"white\",\"linecolor\":\"white\",\"ticks\":\"\"},\"radialaxis\":{\"gridcolor\":\"white\",\"linecolor\":\"white\",\"ticks\":\"\"}},\"ternary\":{\"bgcolor\":\"#E5ECF6\",\"aaxis\":{\"gridcolor\":\"white\",\"linecolor\":\"white\",\"ticks\":\"\"},\"baxis\":{\"gridcolor\":\"white\",\"linecolor\":\"white\",\"ticks\":\"\"},\"caxis\":{\"gridcolor\":\"white\",\"linecolor\":\"white\",\"ticks\":\"\"}},\"coloraxis\":{\"colorbar\":{\"outlinewidth\":0,\"ticks\":\"\"}},\"colorscale\":{\"sequential\":[[0.0,\"#0d0887\"],[0.1111111111111111,\"#46039f\"],[0.2222222222222222,\"#7201a8\"],[0.3333333333333333,\"#9c179e\"],[0.4444444444444444,\"#bd3786\"],[0.5555555555555556,\"#d8576b\"],[0.6666666666666666,\"#ed7953\"],[0.7777777777777778,\"#fb9f3a\"],[0.8888888888888888,\"#fdca26\"],[1.0,\"#f0f921\"]],\"sequentialminus\":[[0.0,\"#0d0887\"],[0.1111111111111111,\"#46039f\"],[0.2222222222222222,\"#7201a8\"],[0.3333333333333333,\"#9c179e\"],[0.4444444444444444,\"#bd3786\"],[0.5555555555555556,\"#d8576b\"],[0.6666666666666666,\"#ed7953\"],[0.7777777777777778,\"#fb9f3a\"],[0.8888888888888888,\"#fdca26\"],[1.0,\"#f0f921\"]],\"diverging\":[[0,\"#8e0152\"],[0.1,\"#c51b7d\"],[0.2,\"#de77ae\"],[0.3,\"#f1b6da\"],[0.4,\"#fde0ef\"],[0.5,\"#f7f7f7\"],[0.6,\"#e6f5d0\"],[0.7,\"#b8e186\"],[0.8,\"#7fbc41\"],[0.9,\"#4d9221\"],[1,\"#276419\"]]},\"xaxis\":{\"gridcolor\":\"white\",\"linecolor\":\"white\",\"ticks\":\"\",\"title\":{\"standoff\":15},\"zerolinecolor\":\"white\",\"automargin\":true,\"zerolinewidth\":2},\"yaxis\":{\"gridcolor\":\"white\",\"linecolor\":\"white\",\"ticks\":\"\",\"title\":{\"standoff\":15},\"zerolinecolor\":\"white\",\"automargin\":true,\"zerolinewidth\":2},\"scene\":{\"xaxis\":{\"backgroundcolor\":\"#E5ECF6\",\"gridcolor\":\"white\",\"linecolor\":\"white\",\"showbackground\":true,\"ticks\":\"\",\"zerolinecolor\":\"white\",\"gridwidth\":2},\"yaxis\":{\"backgroundcolor\":\"#E5ECF6\",\"gridcolor\":\"white\",\"linecolor\":\"white\",\"showbackground\":true,\"ticks\":\"\",\"zerolinecolor\":\"white\",\"gridwidth\":2},\"zaxis\":{\"backgroundcolor\":\"#E5ECF6\",\"gridcolor\":\"white\",\"linecolor\":\"white\",\"showbackground\":true,\"ticks\":\"\",\"zerolinecolor\":\"white\",\"gridwidth\":2}},\"shapedefaults\":{\"line\":{\"color\":\"#2a3f5f\"}},\"annotationdefaults\":{\"arrowcolor\":\"#2a3f5f\",\"arrowhead\":0,\"arrowwidth\":1},\"geo\":{\"bgcolor\":\"white\",\"landcolor\":\"#E5ECF6\",\"subunitcolor\":\"white\",\"showland\":true,\"showlakes\":true,\"lakecolor\":\"white\"},\"title\":{\"x\":0.05},\"mapbox\":{\"style\":\"light\"}}},\"xaxis\":{\"anchor\":\"y\",\"domain\":[0.0,1.0],\"title\":{\"text\":\"Districts\"}},\"yaxis\":{\"anchor\":\"x\",\"domain\":[0.0,1.0],\"title\":{\"text\":\"value\"}},\"legend\":{\"title\":{\"text\":\"Consequences of the attack\"},\"tracegroupgap\":0},\"title\":{\"text\":\"Bar plot of occurence of consequences\"},\"barmode\":\"relative\"},                        {\"responsive\": true}                    ).then(function(){\n",
       "                            \n",
       "var gd = document.getElementById('ce984657-d199-4cc7-acde-f52af57a09e9');\n",
       "var x = new MutationObserver(function (mutations, observer) {{\n",
       "        var display = window.getComputedStyle(gd).display;\n",
       "        if (!display || display === 'none') {{\n",
       "            console.log([gd, 'removed!']);\n",
       "            Plotly.purge(gd);\n",
       "            observer.disconnect();\n",
       "        }}\n",
       "}});\n",
       "\n",
       "// Listen for the removal of the full notebook cells\n",
       "var notebookContainer = gd.closest('#notebook-container');\n",
       "if (notebookContainer) {{\n",
       "    x.observe(notebookContainer, {childList: true});\n",
       "}}\n",
       "\n",
       "// Listen for the clearing of the current output cell\n",
       "var outputEl = gd.closest('.output');\n",
       "if (outputEl) {{\n",
       "    x.observe(outputEl, {childList: true});\n",
       "}}\n",
       "\n",
       "                        })                };                });            </script>        </div>"
      ]
     },
     "metadata": {},
     "output_type": "display_data"
    }
   ],
   "source": [
    "fig = px.bar(cons_grp, title = 'Bar plot of occurence of consequences',\n",
    "             color = 'Consequences of the attack', color_discrete_sequence=['Black','Blue','Green',px.colors.qualitative.T10[5],'Red'])\n",
    "fig.show()"
   ]
  },
  {
   "cell_type": "code",
   "execution_count": null,
   "id": "46beeb0d-04aa-4434-b88e-f789aada1979",
   "metadata": {},
   "outputs": [],
   "source": []
  }
 ],
 "metadata": {
  "kernelspec": {
   "display_name": "Python 3 (ipykernel)",
   "language": "python",
   "name": "python3"
  },
  "language_info": {
   "codemirror_mode": {
    "name": "ipython",
    "version": 3
   },
   "file_extension": ".py",
   "mimetype": "text/x-python",
   "name": "python",
   "nbconvert_exporter": "python",
   "pygments_lexer": "ipython3",
   "version": "3.11.4"
  }
 },
 "nbformat": 4,
 "nbformat_minor": 5
}
